{
 "cells": [
  {
   "cell_type": "code",
   "execution_count": 1,
   "metadata": {
    "collapsed": false,
    "scrolled": false
   },
   "outputs": [
    {
     "name": "stdout",
     "output_type": "stream",
     "text": [
      "NQ003SV.dat"
     ]
    },
    {
     "name": "stderr",
     "output_type": "stream",
     "text": [
      "/usr/local/lib/python2.7/dist-packages/numpy/core/_methods.py:59: RuntimeWarning: Mean of empty slice.\n",
      "  warnings.warn(\"Mean of empty slice.\", RuntimeWarning)\n"
     ]
    },
    {
     "name": "stdout",
     "output_type": "stream",
     "text": [
      " 616751.dat 1439160.dat 1041667.dat 1213494.dat 1165040.dat 249499.dat 1199841.dat 1184498.dat NJ280ID.dat 1079411.dat JB320SW.dat 1126979.dat 1272711.dat 1515656.dat 1013558.dat 1385032.dat 1553373.dat 1521517.dat 1128660.dat 1148714.dat 1483186.dat DB233EI.dat 1307868.dat 1299151.dat 919141.dat 1497026.dat 345921.dat 1428949.dat 1054952.dat 1557966.dat 1178484.dat 1571376.dat 1537431.dat 1097633.dat 1142152.dat IQ300QN.dat HU113HP.dat 1336140.dat 564447.dat 1203725.dat 1579481.dat HI713WB.dat 984221.dat 1388630.dat 1533327.dat 1573207.dat 1055808.dat 1170978.dat 1135515.dat 1567198.dat 1565499.dat 1564420.dat 1217425.dat 733021.dat 411896.dat 636646.dat JS253NF.dat 1380734.dat 391378.dat 510909.dat 606449.dat 1403756.dat 1328568.dat 1578395.dat 1495360.dat 1425272.dat 575209.dat 856513.dat 555220.dat 871322.dat 964685.dat BD921DW.dat 62977.dat QC647KS.dat 1219403.dat 765488.dat 1189725.dat 1150915.dat 1523880.dat 1080326.dat QE210HJ.dat 489868.dat 1569370.dat 1560782.dat 560623.dat 1124659.dat JK130XR.dat 97397.dat 1524947.dat 1084240.dat 1382086.dat 1444502.dat 1143410.dat 1411525.dat AC363GY.dat 1056017.dat 1229114.dat FJ227MJ.dat 828778.dat 1225160.dat 428255.dat 639010.dat XU620RL.dat 1186533.dat 662410.dat 1374066.dat 1567871.dat IP417XX.dat 1155329.dat 1401878.dat 98384.dat 1550259.dat BJ540PT.dat 952207.dat EW057EV.dat 25349.dat 1381257.dat 1130163.dat 1327952.dat HE593LT.dat 1208813.dat 1061128.dat 1179075.dat 433874.dat HH880DL.dat 1294671.dat 506107.dat 1307899.dat 1145713.dat 1177977.dat FM387DI.dat 1569348.dat 906629.dat 1244644.dat 1328707.dat QG620BT.dat 1041304.dat 1355344.dat 1536580.dat 1479464.dat 920558.dat 1022235.dat XF600QF.dat 1560722.dat 1157796.dat 1002060.dat 1126438.dat 1114936.dat 1147164.dat 1305690.dat 1549226.dat 1027472.dat CL263NI.dat 1288818.dat 39468.dat 1270329.dat 1505268.dat 1334243.dat 913164.dat 1255682.dat 630742.dat CB832WW.dat 1409046.dat 1207041.dat 1401811.dat 831987.dat 106743.dat 1524496.dat 1078563.dat 1197009.dat 1495049.dat 1535103.dat CP140WM.dat 1503395.dat 38880.dat 1531633.dat IK750RN.dat 1559190.dat 1553904.dat MQ077WG.dat UQ050PR.dat 872451.dat 1213906.dat 1210517.dat 827285.dat 1407619.dat 1213535.dat 619634.dat WT253RB.dat 1130955.dat 820387.dat TP903SN.dat 1230637.dat 1234088.dat 1057121.dat SP157RF.dat 1464458.dat 1164303.dat 1370566.dat 1312819.dat 1051651.dat 1433908.dat 1183252.dat\n"
     ]
    }
   ],
   "source": [
    "# this program uses short-term features from features_new/ and adds personal, long-term features to them\n",
    "\n",
    "import os\n",
    "import pickle\n",
    "import numpy as np\n",
    "import pandas as pd\n",
    "\n",
    "ind_lat = 51\n",
    "ind_long = 52\n",
    "threshold_distance_squared = 0.001**2 # equivalent to about 100 meters\n",
    "\n",
    "save_results = True\n",
    "\n",
    "feature_dir = 'features/'\n",
    "feature_out = 'features_long/'\n",
    "\n",
    "files = os.listdir(feature_dir)\n",
    "\n",
    "for filename in files:\n",
    "    print filename, \n",
    "    with open(feature_dir+filename) as f:  \n",
    "        feature, target = pickle.load(f)\n",
    "        rf = pd.DataFrame(columns=['LT frequency'])\n",
    "        ai = pd.DataFrame(columns=['LT interval mean'])\n",
    "        for i in range(feature.shape[0]):\n",
    "            dist_squared = (feature.loc[:,'lat mean'] - feature.loc[i,'lat mean'])**2 + \\\n",
    "            (feature.loc[:,'lng mean'] - feature.loc[i,'lng mean'])**2\n",
    "            ind_same = dist_squared<threshold_distance_squared\n",
    "            # relative frequency\n",
    "            rf.loc[i] = np.sum(ind_same)/float(feature.shape[0])\n",
    "            # average interval between visits\n",
    "            ai.loc[i] = np.mean(np.diff(np.where(ind_same)[0]))\n",
    "        \n",
    "        feature = pd.concat([feature, rf, ai], axis=1)\n",
    "        \n",
    "    f.close()\n",
    "    \n",
    "    if save_results:\n",
    "        with open(feature_out+filename, 'w') as f:\n",
    "            pickle.dump([feature, target], f)\n",
    "        f.close()"
   ]
  },
  {
   "cell_type": "code",
   "execution_count": 4,
   "metadata": {
    "collapsed": false
   },
   "outputs": [
    {
     "name": "stdout",
     "output_type": "stream",
     "text": [
      "Index([u'lgt mean', u'lgt std', u'lgt off', u'lgt zcrossing', u'lgt skew',\n",
      "       u'lgt kurt', u'aud mean', u'aud std', u'aud skew', u'aud kurt',\n",
      "       u'aud frq mean', u'aud frq std', u'aud frq skew', u'aud frq kurt',\n",
      "       u'scr frq', u'scr dur mean', u'scr dur std', u'still', u'tilting',\n",
      "       u'walking', u'unknown act', u'still-walking', u'still-tilting',\n",
      "       u'still-unknown', u'walking-unknown', u'call in', u'call out',\n",
      "       u'sms in', u'sms out', u'call missed', u'n wifi', u'temperature',\n",
      "       u'dew point', u'weather', u'lat mean', u'lng mean', u'loc var',\n",
      "       u'duration', u'midtime', u'midhour', u'dow start', u'dow end', u'fsq 0',\n",
      "       u'fsq 1', u'fsq 2', u'fsq 3', u'fsq 4', u'fsq 5', u'fsq 6', u'fsq 7',\n",
      "       u'fsq distance', u'LT frequency', u'LT interval mean'],\n",
      "      dtype='object')\n",
      "(84, 53)\n"
     ]
    }
   ],
   "source": [
    "print feature.columns\n",
    "print feature.shape"
   ]
  }
 ],
 "metadata": {
  "kernelspec": {
   "display_name": "Python 2",
   "language": "python",
   "name": "python2"
  },
  "language_info": {
   "codemirror_mode": {
    "name": "ipython",
    "version": 2
   },
   "file_extension": ".py",
   "mimetype": "text/x-python",
   "name": "python",
   "nbconvert_exporter": "python",
   "pygments_lexer": "ipython2",
   "version": "2.7.6"
  }
 },
 "nbformat": 4,
 "nbformat_minor": 0
}
