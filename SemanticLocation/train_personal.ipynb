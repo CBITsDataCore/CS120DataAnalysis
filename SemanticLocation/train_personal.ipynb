{
 "cells": [
  {
   "cell_type": "code",
   "execution_count": 5,
   "metadata": {
    "collapsed": false
   },
   "outputs": [
    {
     "name": "stdout",
     "output_type": "stream",
     "text": [
      "features_1255682.dat\n",
      "[\"Another's Home\" \"Another's Home, Shop or Store\" 'Food (Restaurant, Cafe)'\n",
      " 'Home' 'Shop or Store' 'Spiritual (Church, Temple, Etc.)' 'Work']\n",
      "[ 0.44594595  0.48125     0.4025974   0.87406297  0.78018293  0.47435897\n",
      "  0.97468354]\n",
      "------------------\n"
     ]
    }
   ],
   "source": [
    "import os\n",
    "import pickle\n",
    "import numpy as np\n",
    "import xgboost\n",
    "from calculate_confusion_matrix import calculate_confusion_matrix\n",
    "from sklearn import preprocessing\n",
    "from split_balanced import split_balanced\n",
    "\n",
    "n_min = 5 # minimum number of samples for each class to be kept\n",
    "\n",
    "ft_dir = 'features/'\n",
    "\n",
    "files = os.listdir(ft_dir)\n",
    "files= [files[40]]\n",
    "\n",
    "for filename in files:\n",
    "    with open(ft_dir+filename) as f:  \n",
    "        \n",
    "        # skipping this subject as it doesn't have enough data\n",
    "        if filename=='features_1401811.dat':\n",
    "            continue\n",
    "        \n",
    "        feature, state = pickle.load(f)\n",
    "\n",
    "        # removing extra characters from states\n",
    "        for (i,s) in enumerate(state):\n",
    "            state[i] = s.replace('\"','')\n",
    "        \n",
    "        # removing instances with low class frequency\n",
    "        le = preprocessing.LabelEncoder()\n",
    "        le.fit(state)\n",
    "        state_code = le.transform(state) \n",
    "        feature_new = np.array([])\n",
    "        state_new = np.array([])\n",
    "        for (i,s) in enumerate(state_code):\n",
    "            inds = np.where(state_code==s)[0]\n",
    "            if inds.size>=n_min:\n",
    "                if feature_new.size==0:\n",
    "                    feature_new = np.array([feature[i,:]])\n",
    "                else:\n",
    "                    feature_new = np.append(feature_new, [feature[i,:]], axis=0)\n",
    "                state_new = np.append(state_new, state[i])\n",
    "        state = state_new\n",
    "        feature = feature_new\n",
    "        \n",
    "        #creating train and test sets\n",
    "        x_train, y_train, x_test, y_test = split_balanced(feature, state, 0.5)\n",
    "\n",
    "        #train\n",
    "        gbm = xgboost.XGBClassifier(max_depth=3, n_estimators=300, learning_rate=0.05).fit(x_train, y_train)\n",
    "\n",
    "        #test\n",
    "        predictions = gbm.predict(x_test)\n",
    "\n",
    "        conf, roc_auc = calculate_confusion_matrix(predictions, y_test)\n",
    "        print filename\n",
    "        print np.unique(state)\n",
    "        print roc_auc\n",
    "        print '------------------'\n"
   ]
  },
  {
   "cell_type": "code",
   "execution_count": 35,
   "metadata": {
    "collapsed": false,
    "scrolled": true
   },
   "outputs": [
    {
     "data": {
      "text/plain": [
       "(-1, 11)"
      ]
     },
     "execution_count": 35,
     "metadata": {},
     "output_type": "execute_result"
    },
    {
     "data": {
      "image/png": "[encoded data removed]",
      "text/plain": [
       "<matplotlib.figure.Figure at 0x7f06ac710b90>"
      ]
     },
     "metadata": {},
     "output_type": "display_data"
    }
   ],
   "source": [
    "import matplotlib.pyplot as plt\n",
    "from sklearn import preprocessing\n",
    "import pickle\n",
    "import numpy as np\n",
    "\n",
    "%matplotlib inline\n",
    "\n",
    "le = preprocessing.LabelEncoder()\n",
    "le.fit(state)\n",
    "state_code = le.transform(state)\n",
    "state_uniq = np.unique(state)\n",
    "\n",
    "plt.figure(figsize=(12,6))\n",
    "plt.plot(state_code,'.k',markersize=10)\n",
    "plt.yticks(range(len(state_uniq)), state_uniq)\n",
    "axes = plt.gca()\n",
    "axes.set_ylim([-1, len(state_uniq)])"
   ]
  },
  {
   "cell_type": "code",
   "execution_count": 5,
   "metadata": {
    "collapsed": false
   },
   "outputs": [
    {
     "name": "stdout",
     "output_type": "stream",
     "text": [
      "[\"Another's Home\" 'Food (Restaurant, Cafe)' 'Home' 'Shop or Store'\n",
      " 'Shop or Store, Home' 'Work']\n",
      "['Work' 'Home' 'Home' 'Food (Restaurant, Cafe)' 'Work' \"Another's Home\"\n",
      " 'Home' \"Another's Home\" 'Home' 'Work' 'Shop or Store' 'Home'\n",
      " 'Shop or Store' 'Home' 'Home' 'Work' 'Work' 'Home' 'Home' 'Work' 'Home'\n",
      " 'Work' 'Home' 'Food (Restaurant, Cafe)' 'Work' \"Another's Home\" 'Home'\n",
      " 'Home' 'Shop or Store' 'Home' 'Work' 'Home' 'Work' 'Home' 'Work' 'Work'\n",
      " 'Work' 'Work' 'Food (Restaurant, Cafe)' 'Home' 'Food (Restaurant, Cafe)'\n",
      " 'Home' 'Shop or Store' 'Home' 'Work' 'Home' 'Work' 'Work' 'Home' 'Work'\n",
      " 'Home' 'Work' 'Work' 'Shop or Store, Home' 'Work'\n",
      " 'Food (Restaurant, Cafe)' 'Shop or Store, Home' 'Shop or Store'\n",
      " 'Shop or Store, Home' 'Shop or Store, Home' 'Work' 'Work' 'Work'\n",
      " 'Shop or Store, Home' 'Shop or Store, Home' 'Work' 'Home'\n",
      " 'Shop or Store, Home' \"Another's Home\" 'Shop or Store'\n",
      " 'Shop or Store, Home' \"Another's Home\" 'Shop or Store'\n",
      " 'Shop or Store, Home' 'Shop or Store' 'Shop or Store, Home'\n",
      " 'Shop or Store, Home' 'Shop or Store, Home' 'Food (Restaurant, Cafe)'\n",
      " \"Another's Home\" 'Shop or Store, Home' 'Shop or Store, Home'\n",
      " 'Shop or Store, Home' 'Shop or Store' 'Shop or Store, Home' 'Work'\n",
      " 'Shop or Store, Home' 'Work' 'Work' 'Food (Restaurant, Cafe)'\n",
      " 'Shop or Store, Home' 'Shop or Store' 'Shop or Store, Home' 'Work' 'Work'\n",
      " 'Shop or Store, Home' 'Work' 'Shop or Store' 'Shop or Store, Home'\n",
      " 'Shop or Store' 'Shop or Store, Home' 'Shop or Store, Home' 'Work'\n",
      " 'Food (Restaurant, Cafe)']\n",
      "[5 2 2 1 5 0 2 0 2 5 3 2 3 2 2 5 5 2 2 5 2 5 2 1 5 0 2 2 3 2 5 2 5 2 5 5 5\n",
      " 5 1 2 1 2 3 2 5 2 5 5 2 5 2 5 5 4 5 1 4 3 4 4 5 5 5 4 4 5 2 4 0 3 4 0 3 4\n",
      " 3 4 4 4 1 0 4 4 4 3 4 5 4 5 5 1 4 3 4 5 5 4 5 3 4 3 4 4 5 1]\n"
     ]
    }
   ],
   "source": [
    "print np.unique(state)\n",
    "print state\n",
    "le = preprocessing.LabelEncoder()\n",
    "le.fit(state)\n",
    "state_code = le.transform(state)\n",
    "print state_code\n"
   ]
  }
 ],
 "metadata": {
  "kernelspec": {
   "display_name": "Python 2",
   "language": "python",
   "name": "python2"
  },
  "language_info": {
   "codemirror_mode": {
    "name": "ipython",
    "version": 2
   },
   "file_extension": ".py",
   "mimetype": "text/x-python",
   "name": "python",
   "nbconvert_exporter": "python",
   "pygments_lexer": "ipython2",
   "version": "2.7.6"
  }
 },
 "nbformat": 4,
 "nbformat_minor": 0
}
