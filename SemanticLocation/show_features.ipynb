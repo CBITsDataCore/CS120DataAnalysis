{
 "cells": [
  {
   "cell_type": "code",
   "execution_count": 1,
   "metadata": {
    "collapsed": true
   },
   "outputs": [],
   "source": [
    "import os\n",
    "import pickle\n",
    "import pandas as pd\n",
    "import numpy as np\n",
    "\n",
    "ft_dir = 'features_long/'\n",
    "\n",
    "# list feature files\n",
    "files = os.listdir(ft_dir)\n",
    "filename = files[0]\n",
    "\n",
    "# reading top locations\n",
    "with open('top_locations.dat') as f:\n",
    "    location_top = pickle.load(f)\n",
    "f.close()\n",
    "\n",
    "with open(ft_dir+filename) as f:  \n",
    "    feature, target = pickle.load(f)\n",
    "\n",
    "    # only keeping top locations\n",
    "    ind = np.array([], int)\n",
    "    for (i,loc) in enumerate(target['location']):\n",
    "        if loc in location_top:\n",
    "            ind = np.append(ind, i)\n",
    "    feature = feature.loc[ind,:]\n",
    "    target = target.loc[ind]\n",
    "    feature = feature.reset_index(drop=True)\n",
    "    target = target.reset_index(drop=True)\n",
    "\n",
    "f.close()\n",
    "        "
   ]
  },
  {
   "cell_type": "code",
   "execution_count": 1,
   "metadata": {
    "collapsed": false
   },
   "outputs": [
    {
     "data": {
      "text/html": [
       "\n",
       "    <div id=\"heatmap\" style=\"height: 500px\" class=\"map-canvas\"></div>\n",
       "    <script>\n",
       "        (function() {\n",
       "            var map = new google.maps.Map(document.getElementById('heatmap'), {\n",
       "                zoom: 4,\n",
       "                center: {\"lat\": 10.0, \"lng\": 10.5},\n",
       "            });\n",
       "            var heatmap = new google.maps.visualization.HeatmapLayer({\n",
       "                data: [[10, 11, 12, 13], [10, 10, 10, 10]].map(function(x) { return new google.maps.LatLng(x[0], x[1]); }),\n",
       "                map: map\n",
       "            });\n",
       "            heatmap.set('radius', 30);\n",
       "        })();\n",
       "    </script>"
      ],
      "text/plain": [
       "<IPython.core.display.HTML object>"
      ]
     },
     "execution_count": 1,
     "metadata": {},
     "output_type": "execute_result"
    }
   ],
   "source": [
    "from IPython.core.display import HTML, Javascript\n",
    "from jinja2 import Template\n",
    "import numpy as np\n",
    "import json\n",
    "\n",
    "points = np.array([[10,11,12,13],[10,10,10,10]])\n",
    "\n",
    "pos = lambda x: {\"lat\": x[0], \"lng\": x[1]}\n",
    "center = points.mean(axis=0)\n",
    "\n",
    "html = Template(\"\"\"\n",
    "    <div id=\"heatmap\" style=\"height: 500px\" class=\"map-canvas\"></div>\n",
    "    <script>\n",
    "        (function() {\n",
    "            var map = new google.maps.Map(document.getElementById('heatmap'), {\n",
    "                zoom: 4,\n",
    "                center: {{center}},\n",
    "            });\n",
    "            var heatmap = new google.maps.visualization.HeatmapLayer({\n",
    "                data: {{data}}.map(function(x) { return new google.maps.LatLng(x[0], x[1]); }),\n",
    "                map: map\n",
    "            });\n",
    "            heatmap.set('radius', 30);\n",
    "        })();\n",
    "    </script>\n",
    "\"\"\").render(\n",
    "    center=json.dumps(pos(center)),\n",
    "    data=json.dumps(points.tolist()),\n",
    ")\n",
    "\n",
    "HTML(html)"
   ]
  }
 ],
 "metadata": {
  "kernelspec": {
   "display_name": "Python 2",
   "language": "python",
   "name": "python2"
  },
  "language_info": {
   "codemirror_mode": {
    "name": "ipython",
    "version": 2
   },
   "file_extension": ".py",
   "mimetype": "text/x-python",
   "name": "python",
   "nbconvert_exporter": "python",
   "pygments_lexer": "ipython2",
   "version": "2.7.6"
  }
 },
 "nbformat": 4,
 "nbformat_minor": 0
}
