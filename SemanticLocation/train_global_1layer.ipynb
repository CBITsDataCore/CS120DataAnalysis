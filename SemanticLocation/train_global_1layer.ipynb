{
 "cells": [
  {
   "cell_type": "code",
   "execution_count": 17,
   "metadata": {
    "scrolled": false
   },
   "outputs": [
    {
     "name": "stdout",
     "output_type": "stream",
     "text": [
      "------------------\n",
      "0\n"
     ]
    },
    {
     "name": "stderr",
     "output_type": "stream",
     "text": [
      "/usr/local/lib/python3.4/dist-packages/sklearn/metrics/ranking.py:542: UndefinedMetricWarning: No positive samples in y_true, true positive value should be meaningless\n",
      "  UndefinedMetricWarning)\n"
     ]
    },
    {
     "name": "stdout",
     "output_type": "stream",
     "text": [
      "[\"Another's Home\" 'Arts & Entertainment' 'Food' 'Home' 'Nightlife Spot'\n",
      " 'Outdoors & Recreation' 'Professional Or Medical Office' 'Shop Or Store'\n",
      " 'Spiritual' 'Travel Or Transport' 'Work']\n",
      "[ 0.82741687  0.95911952  0.78707692  0.93329284  0.97256024  0.99245857\n",
      "  0.90772608  0.78397938  0.99572816  0.99498771  0.89173315] 0.913279949125\n",
      "[ 0.81034013  0.49436206  0.73491457  0.89265358  0.99382239         nan\n",
      "  0.87959814  0.76574339  0.49552124         nan  0.77542529] 0.760264533697\n",
      "------------------\n",
      "1\n"
     ]
    },
    {
     "name": "stderr",
     "output_type": "stream",
     "text": [
      "/usr/local/lib/python3.4/dist-packages/sklearn/metrics/ranking.py:542: UndefinedMetricWarning: No positive samples in y_true, true positive value should be meaningless\n",
      "  UndefinedMetricWarning)\n"
     ]
    },
    {
     "name": "stdout",
     "output_type": "stream",
     "text": [
      "[\"Another's Home\" 'Arts & Entertainment' 'Food' 'Home' 'Nightlife Spot'\n",
      " 'Outdoors & Recreation' 'Professional Or Medical Office' 'Shop Or Store'\n",
      " 'Spiritual' 'Travel Or Transport' 'Work']\n",
      "[ 0.83094852  0.95768594  0.78487327  0.93357627  0.97126222  0.8921896\n",
      "  0.942048    0.7959013   0.99596014  0.86962113  0.89071657] 0.896798451593\n",
      "[ 0.64391431  0.74476143  0.69140137  0.86832953  0.99547127         nan\n",
      "  0.86389996  0.75983148         nan         nan  0.75131746] 0.789865852928\n",
      "------------------\n",
      "2\n"
     ]
    },
    {
     "name": "stderr",
     "output_type": "stream",
     "text": [
      "/usr/local/lib/python3.4/dist-packages/sklearn/metrics/ranking.py:542: UndefinedMetricWarning: No positive samples in y_true, true positive value should be meaningless\n",
      "  UndefinedMetricWarning)\n"
     ]
    },
    {
     "name": "stdout",
     "output_type": "stream",
     "text": [
      "[\"Another's Home\" 'Arts & Entertainment' 'Food' 'Home' 'Nightlife Spot'\n",
      " 'Outdoors & Recreation' 'Professional Or Medical Office' 'Shop Or Store'\n",
      " 'Spiritual' 'Travel Or Transport' 'Work']\n",
      "[ 0.82703024  0.88833702  0.78561616  0.93996695         nan  0.9791516\n",
      "  0.91856982  0.79366015  0.99622834  0.99540465  0.89419961] 0.901816454767\n",
      "[ 0.73581549  0.8056266   0.72138469  0.88445407         nan  0.49505582\n",
      "  0.89499748  0.75692135         nan         nan  0.75408   ] 0.756041937364\n",
      "------------------\n",
      "3\n"
     ]
    },
    {
     "name": "stderr",
     "output_type": "stream",
     "text": [
      "/usr/local/lib/python3.4/dist-packages/sklearn/metrics/ranking.py:542: UndefinedMetricWarning: No positive samples in y_true, true positive value should be meaningless\n",
      "  UndefinedMetricWarning)\n"
     ]
    },
    {
     "name": "stdout",
     "output_type": "stream",
     "text": [
      "[\"Another's Home\" 'Arts & Entertainment' 'Food' 'Home' 'Nightlife Spot'\n",
      " 'Outdoors & Recreation' 'Professional Or Medical Office' 'Shop Or Store'\n",
      " 'Spiritual' 'Travel Or Transport' 'Work']\n",
      "[ 0.86030282  0.91402053  0.79264256  0.93755937  0.96345963  0.94400809\n",
      "  0.92500501  0.78794345  0.9967331   0.94768891  0.88766819] 0.905184696627\n",
      "[ 0.70781842  0.76953552  0.7088333   0.89180379  0.99226576  0.49315068\n",
      "  0.87881799  0.72516789         nan         nan  0.73850687] 0.767322247853\n",
      "------------------\n",
      "4\n"
     ]
    },
    {
     "name": "stderr",
     "output_type": "stream",
     "text": [
      "/usr/local/lib/python3.4/dist-packages/sklearn/metrics/ranking.py:542: UndefinedMetricWarning: No positive samples in y_true, true positive value should be meaningless\n",
      "  UndefinedMetricWarning)\n"
     ]
    },
    {
     "name": "stdout",
     "output_type": "stream",
     "text": [
      "[\"Another's Home\" 'Arts & Entertainment' 'Food' 'Home' 'Nightlife Spot'\n",
      " 'Outdoors & Recreation' 'Professional Or Medical Office' 'Shop Or Store'\n",
      " 'Spiritual' 'Travel Or Transport' 'Work']\n",
      "[ 0.82576928  0.93832892  0.78084397  0.93941718  0.94930958  0.96638774\n",
      "  0.92479478  0.7877676   0.99558202  0.99373442  0.88540205] 0.907939777721\n",
      "[ 0.69402181  0.66015666  0.70069373  0.86151922  0.64650294         nan\n",
      "  0.83208472  0.77083555         nan         nan  0.77893675] 0.743093923941\n",
      "------------------\n",
      "5\n"
     ]
    },
    {
     "name": "stderr",
     "output_type": "stream",
     "text": [
      "/usr/local/lib/python3.4/dist-packages/sklearn/metrics/ranking.py:542: UndefinedMetricWarning: No positive samples in y_true, true positive value should be meaningless\n",
      "  UndefinedMetricWarning)\n"
     ]
    },
    {
     "name": "stdout",
     "output_type": "stream",
     "text": [
      "[\"Another's Home\" 'Arts & Entertainment' 'Food' 'Home' 'Nightlife Spot'\n",
      " 'Outdoors & Recreation' 'Professional Or Medical Office' 'Shop Or Store'\n",
      " 'Spiritual' 'Travel Or Transport' 'Work']\n",
      "[ 0.84083508  0.9295372   0.78119072  0.93774541  0.96078111  0.99227084\n",
      "  0.94427425  0.80267422  0.99680899  0.99546818  0.89363663] 0.915929329697\n",
      "[ 0.69121046  0.99330464  0.71922855  0.9022696   0.99617286         nan\n",
      "  0.90493462  0.74359029         nan         nan  0.72351571] 0.83427834123\n",
      "------------------\n",
      "6\n"
     ]
    },
    {
     "name": "stderr",
     "output_type": "stream",
     "text": [
      "/usr/local/lib/python3.4/dist-packages/sklearn/metrics/ranking.py:542: UndefinedMetricWarning: No positive samples in y_true, true positive value should be meaningless\n",
      "  UndefinedMetricWarning)\n"
     ]
    },
    {
     "name": "stdout",
     "output_type": "stream",
     "text": [
      "[\"Another's Home\" 'Arts & Entertainment' 'Food' 'Home' 'Nightlife Spot'\n",
      " 'Outdoors & Recreation' 'Professional Or Medical Office' 'Shop Or Store'\n",
      " 'Spiritual' 'Travel Or Transport' 'Work']\n",
      "[ 0.85213321  0.95980369  0.79528465  0.93596083  0.98015537  0.96250561\n",
      "  0.92786322  0.7877366   0.99653913  0.99484007  0.90086569] 0.91760800694\n",
      "[ 0.69084552  0.72389176  0.69760913  0.88134655  0.82520389         nan\n",
      "  0.75506888  0.75048079         nan         nan  0.79402262] 0.764808640925\n",
      "------------------\n",
      "7\n"
     ]
    },
    {
     "name": "stderr",
     "output_type": "stream",
     "text": [
      "/usr/local/lib/python3.4/dist-packages/sklearn/metrics/ranking.py:542: UndefinedMetricWarning: No positive samples in y_true, true positive value should be meaningless\n",
      "  UndefinedMetricWarning)\n"
     ]
    },
    {
     "name": "stdout",
     "output_type": "stream",
     "text": [
      "[\"Another's Home\" 'Arts & Entertainment' 'Food' 'Home' 'Nightlife Spot'\n",
      " 'Outdoors & Recreation' 'Professional Or Medical Office' 'Shop Or Store'\n",
      " 'Spiritual' 'Travel Or Transport' 'Work']\n",
      "[ 0.84891107  0.96196111  0.78286756  0.93037426  0.99596996  0.92567552\n",
      "  0.92703149  0.7821584   0.99582384  0.99358974  0.88254427] 0.911537020812\n",
      "[ 0.63939808  0.49420329  0.7316369   0.88896063  0.99285522         nan\n",
      "  0.83075591  0.75435979         nan         nan  0.7925377 ] 0.765588438978\n",
      "------------------\n",
      "8\n"
     ]
    },
    {
     "name": "stderr",
     "output_type": "stream",
     "text": [
      "/usr/local/lib/python3.4/dist-packages/sklearn/metrics/ranking.py:542: UndefinedMetricWarning: No positive samples in y_true, true positive value should be meaningless\n",
      "  UndefinedMetricWarning)\n"
     ]
    },
    {
     "name": "stdout",
     "output_type": "stream",
     "text": [
      "[\"Another's Home\" 'Arts & Entertainment' 'Food' 'Home' 'Nightlife Spot'\n",
      " 'Outdoors & Recreation' 'Professional Or Medical Office' 'Shop Or Store'\n",
      " 'Spiritual' 'Travel Or Transport' 'Work']\n",
      "[ 0.84736778  0.91721507  0.77253646  0.93736916  0.96232156  0.99222913\n",
      "  0.9346899   0.78679282  0.99511762  0.97134412  0.88896253] 0.909631469866\n",
      "[ 0.7746091   0.9919486   0.72258136  0.91330179  0.49357724  0.49373984\n",
      "  0.79759981  0.75927832         nan         nan  0.80632254] 0.750328732365\n",
      "------------------\n",
      "9\n"
     ]
    },
    {
     "name": "stderr",
     "output_type": "stream",
     "text": [
      "/usr/local/lib/python3.4/dist-packages/sklearn/metrics/ranking.py:542: UndefinedMetricWarning: No positive samples in y_true, true positive value should be meaningless\n",
      "  UndefinedMetricWarning)\n"
     ]
    },
    {
     "name": "stdout",
     "output_type": "stream",
     "text": [
      "[\"Another's Home\" 'Arts & Entertainment' 'Food' 'Home' 'Nightlife Spot'\n",
      " 'Outdoors & Recreation' 'Professional Or Medical Office' 'Shop Or Store'\n",
      " 'Spiritual' 'Travel Or Transport' 'Work']\n",
      "[ 0.84719679  0.92999989  0.80553392  0.93626154  0.99726127  0.99224729\n",
      "  0.93962022  0.78543422  0.99577362  0.99373061  0.91056153] 0.921238264414\n",
      "[ 0.70315062  0.82573186  0.69356814  0.89303356  0.98996606         nan\n",
      "  0.78119853  0.73754987         nan         nan  0.75809553] 0.797786772186\n",
      "------------------\n",
      "10\n"
     ]
    },
    {
     "name": "stderr",
     "output_type": "stream",
     "text": [
      "/usr/local/lib/python3.4/dist-packages/sklearn/metrics/ranking.py:542: UndefinedMetricWarning: No positive samples in y_true, true positive value should be meaningless\n",
      "  UndefinedMetricWarning)\n"
     ]
    },
    {
     "name": "stdout",
     "output_type": "stream",
     "text": [
      "[\"Another's Home\" 'Arts & Entertainment' 'Food' 'Home' 'Nightlife Spot'\n",
      " 'Outdoors & Recreation' 'Professional Or Medical Office' 'Shop Or Store'\n",
      " 'Spiritual' 'Travel Or Transport' 'Work']\n",
      "[ 0.84026279  0.92598441  0.78195156  0.93969093  0.96578998  0.99304087\n",
      "  0.91313185  0.78795838  0.99621057  0.74505322  0.89677489] 0.889622677186\n",
      "[ 0.60723395  0.88545341  0.72085343  0.8644233   0.49567545         nan\n",
      "  0.76784851  0.75555848         nan         nan  0.73828287] 0.729416174643\n",
      "------------------\n",
      "11\n"
     ]
    },
    {
     "name": "stderr",
     "output_type": "stream",
     "text": [
      "/usr/local/lib/python3.4/dist-packages/sklearn/metrics/ranking.py:542: UndefinedMetricWarning: No positive samples in y_true, true positive value should be meaningless\n",
      "  UndefinedMetricWarning)\n"
     ]
    },
    {
     "name": "stdout",
     "output_type": "stream",
     "text": [
      "[\"Another's Home\" 'Arts & Entertainment' 'Food' 'Home' 'Nightlife Spot'\n",
      " 'Outdoors & Recreation' 'Professional Or Medical Office' 'Shop Or Store'\n",
      " 'Spiritual' 'Travel Or Transport' 'Work']\n",
      "[ 0.84504433  0.92906528  0.79025279  0.93138845  0.95743468  0.99365912\n",
      "  0.93036133  0.79689678         nan  0.99564842  0.89466911] 0.906442029534\n",
      "[ 0.64748318  0.99265348  0.68885622  0.87776187         nan         nan\n",
      "  0.79596743  0.70905296         nan         nan  0.74030365] 0.778868398046\n",
      "------------------\n",
      "12\n"
     ]
    },
    {
     "name": "stderr",
     "output_type": "stream",
     "text": [
      "/usr/local/lib/python3.4/dist-packages/sklearn/metrics/ranking.py:542: UndefinedMetricWarning: No positive samples in y_true, true positive value should be meaningless\n",
      "  UndefinedMetricWarning)\n"
     ]
    },
    {
     "name": "stdout",
     "output_type": "stream",
     "text": [
      "[\"Another's Home\" 'Arts & Entertainment' 'Food' 'Home' 'Nightlife Spot'\n",
      " 'Outdoors & Recreation' 'Professional Or Medical Office' 'Shop Or Store'\n",
      " 'Spiritual' 'Travel Or Transport' 'Work']\n",
      "[ 0.85611674  0.99300187  0.76750968  0.93429846  0.99525591  0.9931612\n",
      "  0.92759783  0.80952096  0.99623534  0.99563392  0.90524952] 0.924871038717\n",
      "[ 0.60876295  0.79465627  0.6963446   0.8543232   0.54703714         nan\n",
      "  0.8001758   0.7436635          nan         nan  0.84672417] 0.736460953563\n",
      "------------------\n",
      "13\n"
     ]
    },
    {
     "name": "stderr",
     "output_type": "stream",
     "text": [
      "/usr/local/lib/python3.4/dist-packages/sklearn/metrics/ranking.py:542: UndefinedMetricWarning: No positive samples in y_true, true positive value should be meaningless\n",
      "  UndefinedMetricWarning)\n"
     ]
    },
    {
     "name": "stdout",
     "output_type": "stream",
     "text": [
      "[\"Another's Home\" 'Arts & Entertainment' 'Food' 'Home' 'Nightlife Spot'\n",
      " 'Outdoors & Recreation' 'Professional Or Medical Office' 'Shop Or Store'\n",
      " 'Spiritual' 'Travel Or Transport' 'Work']\n",
      "[ 0.84945341  0.99477486  0.77547515  0.94121468  0.97879849  0.98054632\n",
      "  0.92735503  0.7972387   0.99627704  0.99371577  0.89538218] 0.920930148332\n",
      "[ 0.63617533  0.99043467  0.69625088  0.8692288   0.53305226  0.56641424\n",
      "  0.80994641  0.74902381         nan         nan  0.82881689] 0.742149253551\n",
      "------------------\n",
      "14\n"
     ]
    },
    {
     "name": "stderr",
     "output_type": "stream",
     "text": [
      "/usr/local/lib/python3.4/dist-packages/sklearn/metrics/ranking.py:542: UndefinedMetricWarning: No positive samples in y_true, true positive value should be meaningless\n",
      "  UndefinedMetricWarning)\n"
     ]
    },
    {
     "name": "stdout",
     "output_type": "stream",
     "text": [
      "[\"Another's Home\" 'Arts & Entertainment' 'Food' 'Home' 'Nightlife Spot'\n",
      " 'Outdoors & Recreation' 'Professional Or Medical Office' 'Shop Or Store'\n",
      " 'Spiritual' 'Travel Or Transport' 'Work']\n",
      "[ 0.84648973  0.87476776  0.77497919  0.93076074  0.98462241  0.99237594\n",
      "  0.94531596  0.80258028  0.99635396  0.99563304  0.88661245] 0.911862862704\n",
      "[ 0.67715052  0.88358563  0.71329375  0.89470991  0.49492689         nan\n",
      "  0.88893625  0.75357181         nan         nan  0.76015135] 0.758290764082\n",
      "------------------\n",
      "15\n"
     ]
    },
    {
     "name": "stderr",
     "output_type": "stream",
     "text": [
      "/usr/local/lib/python3.4/dist-packages/sklearn/metrics/ranking.py:542: UndefinedMetricWarning: No positive samples in y_true, true positive value should be meaningless\n",
      "  UndefinedMetricWarning)\n"
     ]
    },
    {
     "name": "stdout",
     "output_type": "stream",
     "text": [
      "[\"Another's Home\" 'Arts & Entertainment' 'Food' 'Home' 'Nightlife Spot'\n",
      " 'Outdoors & Recreation' 'Professional Or Medical Office' 'Shop Or Store'\n",
      " 'Spiritual' 'Travel Or Transport' 'Work']\n",
      "[ 0.85317315  0.89345036  0.78406956  0.93940425  0.97546636  0.97228224\n",
      "  0.92418513  0.77387553  0.9961761   0.95468824  0.87149302] 0.903478540595\n",
      "[ 0.61196903  0.9933991   0.7651449   0.87543182  0.99659074         nan\n",
      "  0.83895707  0.74807669  0.99419785         nan  0.80362828] 0.8474883876\n",
      "------------------\n",
      "16\n"
     ]
    },
    {
     "name": "stderr",
     "output_type": "stream",
     "text": [
      "/usr/local/lib/python3.4/dist-packages/sklearn/metrics/ranking.py:542: UndefinedMetricWarning: No positive samples in y_true, true positive value should be meaningless\n",
      "  UndefinedMetricWarning)\n"
     ]
    },
    {
     "name": "stdout",
     "output_type": "stream",
     "text": [
      "[\"Another's Home\" 'Arts & Entertainment' 'Food' 'Home' 'Nightlife Spot'\n",
      " 'Outdoors & Recreation' 'Professional Or Medical Office' 'Shop Or Store'\n",
      " 'Spiritual' 'Travel Or Transport' 'Work']\n",
      "[ 0.83536396  0.93139735  0.79763507  0.93801159  0.99692012  0.99166239\n",
      "  0.94728974  0.79567372  0.99659646  0.99599282  0.8874576 ] 0.919454619684\n",
      "[ 0.70496241  0.8071279   0.73531537  0.90063361  0.99108129         nan\n",
      "  0.84141061  0.74615722  0.99479167         nan  0.75243869] 0.830435418603\n",
      "------------------\n",
      "17\n"
     ]
    },
    {
     "name": "stderr",
     "output_type": "stream",
     "text": [
      "/usr/local/lib/python3.4/dist-packages/sklearn/metrics/ranking.py:542: UndefinedMetricWarning: No positive samples in y_true, true positive value should be meaningless\n",
      "  UndefinedMetricWarning)\n"
     ]
    },
    {
     "name": "stdout",
     "output_type": "stream",
     "text": [
      "[\"Another's Home\" 'Arts & Entertainment' 'Food' 'Home' 'Nightlife Spot'\n",
      " 'Outdoors & Recreation' 'Professional Or Medical Office' 'Shop Or Store'\n",
      " 'Spiritual' 'Travel Or Transport' 'Work']\n",
      "[ 0.8472599   0.93170175  0.80175522  0.93613707  0.99571833  0.97196523\n",
      "  0.90623769  0.77855991  0.99641495  0.99367922  0.89148578] 0.913719549624\n",
      "[ 0.60260956  0.79323923  0.76738951  0.85633426  0.86965161  0.74391059\n",
      "  0.72600746  0.73364167         nan         nan  0.7912625 ] 0.76489404347\n",
      "------------------\n",
      "18\n"
     ]
    },
    {
     "name": "stderr",
     "output_type": "stream",
     "text": [
      "/usr/local/lib/python3.4/dist-packages/sklearn/metrics/ranking.py:542: UndefinedMetricWarning: No positive samples in y_true, true positive value should be meaningless\n",
      "  UndefinedMetricWarning)\n"
     ]
    },
    {
     "name": "stdout",
     "output_type": "stream",
     "text": [
      "[\"Another's Home\" 'Arts & Entertainment' 'Food' 'Home' 'Nightlife Spot'\n",
      " 'Outdoors & Recreation' 'Professional Or Medical Office' 'Shop Or Store'\n",
      " 'Spiritual' 'Travel Or Transport' 'Work']\n",
      "[ 0.8350962   0.94616623  0.77871317  0.93743586  0.96731354  0.99347358\n",
      "  0.93456972  0.79905125  0.99575277  0.99448494  0.894671  ] 0.916066205512\n",
      "[ 0.6628842   0.8507983   0.69941304  0.88977536  0.99642451         nan\n",
      "  0.86683433  0.74989808         nan         nan  0.76299279] 0.809877577567\n",
      "------------------\n",
      "19\n"
     ]
    },
    {
     "name": "stderr",
     "output_type": "stream",
     "text": [
      "/usr/local/lib/python3.4/dist-packages/sklearn/metrics/ranking.py:542: UndefinedMetricWarning: No positive samples in y_true, true positive value should be meaningless\n",
      "  UndefinedMetricWarning)\n"
     ]
    },
    {
     "name": "stdout",
     "output_type": "stream",
     "text": [
      "[\"Another's Home\" 'Arts & Entertainment' 'Food' 'Home' 'Nightlife Spot'\n",
      " 'Outdoors & Recreation' 'Professional Or Medical Office' 'Shop Or Store'\n",
      " 'Spiritual' 'Travel Or Transport' 'Work']\n",
      "[ 0.82057408  0.99327801  0.78821874  0.93921893  0.98067106  0.96301833\n",
      "  0.93811124  0.79722415  0.99594438  0.99450338  0.88754519] 0.918027954441\n",
      "[ 0.74250399  0.84066365  0.6933905   0.87775345  0.99342208  0.49342311\n",
      "  0.71712713  0.73519535         nan         nan  0.78691658] 0.764488427387\n",
      "------------------\n",
      "20\n"
     ]
    },
    {
     "name": "stderr",
     "output_type": "stream",
     "text": [
      "/usr/local/lib/python3.4/dist-packages/sklearn/metrics/ranking.py:542: UndefinedMetricWarning: No positive samples in y_true, true positive value should be meaningless\n",
      "  UndefinedMetricWarning)\n"
     ]
    },
    {
     "name": "stdout",
     "output_type": "stream",
     "text": [
      "[\"Another's Home\" 'Arts & Entertainment' 'Food' 'Home' 'Nightlife Spot'\n",
      " 'Outdoors & Recreation' 'Professional Or Medical Office' 'Shop Or Store'\n",
      " 'Spiritual' 'Travel Or Transport' 'Work']\n",
      "[ 0.85324671  0.9353171   0.78762981  0.93660266  0.95226981  0.99258425\n",
      "  0.93093507  0.78893962  0.99659392  0.99550056  0.89238613] 0.914727785664\n",
      "[ 0.71428951  0.99230431  0.73498115  0.89941373  0.57398622  0.49201114\n",
      "  0.80778993  0.74736056         nan         nan  0.76940139] 0.747948660706\n",
      "------------------\n",
      "21\n"
     ]
    },
    {
     "name": "stderr",
     "output_type": "stream",
     "text": [
      "/usr/local/lib/python3.4/dist-packages/sklearn/metrics/ranking.py:542: UndefinedMetricWarning: No positive samples in y_true, true positive value should be meaningless\n",
      "  UndefinedMetricWarning)\n"
     ]
    },
    {
     "name": "stdout",
     "output_type": "stream",
     "text": [
      "[\"Another's Home\" 'Arts & Entertainment' 'Food' 'Home' 'Nightlife Spot'\n",
      " 'Outdoors & Recreation' 'Professional Or Medical Office' 'Shop Or Store'\n",
      " 'Spiritual' 'Travel Or Transport' 'Work']\n",
      "[ 0.82328498  0.9077429   0.7737268   0.93500711  0.94887975  0.97098873\n",
      "  0.91386419  0.79235507  0.99544338  0.99360465  0.88117255] 0.903279100005\n",
      "[ 0.71329794  0.92011395  0.74049476  0.89313429  0.99666667  0.49193798\n",
      "  0.92682131  0.76628096         nan         nan  0.74421778] 0.799218403997\n",
      "------------------\n",
      "22\n"
     ]
    },
    {
     "name": "stderr",
     "output_type": "stream",
     "text": [
      "/usr/local/lib/python3.4/dist-packages/sklearn/metrics/ranking.py:542: UndefinedMetricWarning: No positive samples in y_true, true positive value should be meaningless\n",
      "  UndefinedMetricWarning)\n"
     ]
    },
    {
     "name": "stdout",
     "output_type": "stream",
     "text": [
      "[\"Another's Home\" 'Arts & Entertainment' 'Food' 'Home' 'Nightlife Spot'\n",
      " 'Outdoors & Recreation' 'Professional Or Medical Office' 'Shop Or Store'\n",
      " 'Spiritual' 'Travel Or Transport' 'Work']\n",
      "[ 0.83685712  0.84870766  0.79579399  0.93231725  0.93876873  0.99259732\n",
      "  0.94299795  0.76832779  0.99536948  0.99442213  0.88654171] 0.902972830558\n",
      "[ 0.79191091  0.868757    0.73750729  0.91319551  0.99416374         nan\n",
      "  0.84986209  0.77319282         nan         nan  0.81079728] 0.842423330508\n",
      "------------------\n",
      "23\n"
     ]
    },
    {
     "name": "stderr",
     "output_type": "stream",
     "text": [
      "/usr/local/lib/python3.4/dist-packages/sklearn/metrics/ranking.py:542: UndefinedMetricWarning: No positive samples in y_true, true positive value should be meaningless\n",
      "  UndefinedMetricWarning)\n"
     ]
    },
    {
     "name": "stdout",
     "output_type": "stream",
     "text": [
      "[\"Another's Home\" 'Arts & Entertainment' 'Food' 'Home' 'Nightlife Spot'\n",
      " 'Outdoors & Recreation' 'Professional Or Medical Office' 'Shop Or Store'\n",
      " 'Spiritual' 'Travel Or Transport' 'Work']\n",
      "[ 0.85874348  0.94870715  0.80266515  0.93643308  0.9733291   0.9684806\n",
      "  0.92918391  0.79410858  0.99641748         nan  0.91252378] 0.91205922948\n",
      "[ 0.66398743  0.79261244  0.70226319  0.86483212  0.55157505         nan\n",
      "  0.78301733  0.70066154  0.99310401         nan  0.7905591 ] 0.760290244435\n",
      "------------------\n",
      "24\n"
     ]
    },
    {
     "name": "stderr",
     "output_type": "stream",
     "text": [
      "/usr/local/lib/python3.4/dist-packages/sklearn/metrics/ranking.py:542: UndefinedMetricWarning: No positive samples in y_true, true positive value should be meaningless\n",
      "  UndefinedMetricWarning)\n"
     ]
    },
    {
     "name": "stdout",
     "output_type": "stream",
     "text": [
      "[\"Another's Home\" 'Arts & Entertainment' 'Food' 'Home' 'Nightlife Spot'\n",
      " 'Outdoors & Recreation' 'Professional Or Medical Office' 'Shop Or Store'\n",
      " 'Spiritual' 'Travel Or Transport' 'Work']\n",
      "[ 0.83499959  0.99397427  0.77908093  0.93539263  0.96604062  0.96392028\n",
      "  0.91349408  0.78509141  0.99529165         nan  0.87279353] 0.904007900797\n",
      "[ 0.64501077  0.92158135  0.70837309  0.87914097  0.99657726  0.49657773\n",
      "  0.88231056  0.77131504         nan         nan  0.77635717] 0.786360438418\n",
      "------------------\n",
      "25\n"
     ]
    },
    {
     "name": "stderr",
     "output_type": "stream",
     "text": [
      "/usr/local/lib/python3.4/dist-packages/sklearn/metrics/ranking.py:542: UndefinedMetricWarning: No positive samples in y_true, true positive value should be meaningless\n",
      "  UndefinedMetricWarning)\n"
     ]
    },
    {
     "name": "stdout",
     "output_type": "stream",
     "text": [
      "[\"Another's Home\" 'Arts & Entertainment' 'Food' 'Home' 'Nightlife Spot'\n",
      " 'Outdoors & Recreation' 'Professional Or Medical Office' 'Shop Or Store'\n",
      " 'Spiritual' 'Travel Or Transport' 'Work']\n",
      "[ 0.84516601  0.94830501  0.78275144  0.94225316  0.98183788  0.99286806\n",
      "  0.91990521  0.78861987  0.99662721  0.99356811  0.89313861] 0.916821869879\n",
      "[ 0.73403327  0.99269428  0.74438541  0.89524387  0.9949422          nan\n",
      "  0.75075235  0.73891444         nan         nan  0.85187377] 0.837854948117\n",
      "------------------\n",
      "26\n"
     ]
    },
    {
     "name": "stderr",
     "output_type": "stream",
     "text": [
      "/usr/local/lib/python3.4/dist-packages/sklearn/metrics/ranking.py:542: UndefinedMetricWarning: No positive samples in y_true, true positive value should be meaningless\n",
      "  UndefinedMetricWarning)\n"
     ]
    },
    {
     "name": "stdout",
     "output_type": "stream",
     "text": [
      "[\"Another's Home\" 'Arts & Entertainment' 'Food' 'Home' 'Nightlife Spot'\n",
      " 'Outdoors & Recreation' 'Professional Or Medical Office' 'Shop Or Store'\n",
      " 'Spiritual' 'Travel Or Transport' 'Work']\n",
      "[ 0.832307    0.91447628  0.7820638   0.94356315  0.99633849  0.97441115\n",
      "  0.9363055   0.79030873  0.99551722  0.99382674  0.87075229] 0.911806395077\n",
      "[ 0.68174034  0.80692276  0.73667135  0.83722991  0.99247806         nan\n",
      "  0.84879308  0.73501881         nan         nan  0.7729032 ] 0.801469688063\n",
      "------------------\n",
      "27\n"
     ]
    },
    {
     "name": "stderr",
     "output_type": "stream",
     "text": [
      "/usr/local/lib/python3.4/dist-packages/sklearn/metrics/ranking.py:542: UndefinedMetricWarning: No positive samples in y_true, true positive value should be meaningless\n",
      "  UndefinedMetricWarning)\n"
     ]
    },
    {
     "name": "stdout",
     "output_type": "stream",
     "text": [
      "[\"Another's Home\" 'Arts & Entertainment' 'Food' 'Home' 'Nightlife Spot'\n",
      " 'Outdoors & Recreation' 'Professional Or Medical Office' 'Shop Or Store'\n",
      " 'Spiritual' 'Travel Or Transport' 'Work']\n",
      "[ 0.83015722  0.88961799  0.78229103  0.93847796  0.98299347  0.99248217\n",
      "  0.90299342  0.79406485  0.99533462  0.99473414  0.89132527] 0.908588376598\n",
      "[ 0.63018276  0.70776466  0.74296022  0.86045355  0.49576138         nan\n",
      "  0.85723204  0.7457054          nan         nan  0.76546641] 0.725690802174\n",
      "------------------\n",
      "28\n"
     ]
    },
    {
     "name": "stderr",
     "output_type": "stream",
     "text": [
      "/usr/local/lib/python3.4/dist-packages/sklearn/metrics/ranking.py:542: UndefinedMetricWarning: No positive samples in y_true, true positive value should be meaningless\n",
      "  UndefinedMetricWarning)\n"
     ]
    },
    {
     "name": "stdout",
     "output_type": "stream",
     "text": [
      "[\"Another's Home\" 'Arts & Entertainment' 'Food' 'Home' 'Nightlife Spot'\n",
      " 'Outdoors & Recreation' 'Professional Or Medical Office' 'Shop Or Store'\n",
      " 'Spiritual' 'Travel Or Transport' 'Work']\n",
      "[ 0.8621751   0.87636372  0.78329223  0.92858039  0.98510564  0.99334708\n",
      "  0.90829629  0.79709566  0.99600586  0.99497738  0.88554956] 0.910071720013\n",
      "[ 0.74538698  0.99289134  0.73367575  0.90937967  0.99333237         nan\n",
      "  0.81356151  0.75555928  0.99528917         nan  0.7415009 ] 0.853397441273\n",
      "------------------\n",
      "29\n"
     ]
    },
    {
     "name": "stderr",
     "output_type": "stream",
     "text": [
      "/usr/local/lib/python3.4/dist-packages/sklearn/metrics/ranking.py:542: UndefinedMetricWarning: No positive samples in y_true, true positive value should be meaningless\n",
      "  UndefinedMetricWarning)\n"
     ]
    },
    {
     "name": "stdout",
     "output_type": "stream",
     "text": [
      "[\"Another's Home\" 'Arts & Entertainment' 'Food' 'Home' 'Nightlife Spot'\n",
      " 'Outdoors & Recreation' 'Professional Or Medical Office' 'Shop Or Store'\n",
      " 'Spiritual' 'Travel Or Transport' 'Work']\n",
      "[ 0.83663091  0.89422479  0.77430354  0.93704024  0.9583304   0.93879426\n",
      "  0.93063295  0.80647855  0.97821483  0.99525587  0.921595  ] 0.906500121005\n",
      "[ 0.68998009  0.78635621  0.67444611  0.86689183  0.9970641   0.49306688\n",
      "  0.81667487  0.72726139  0.99543305         nan  0.82573824] 0.787291275436\n",
      "------------------\n",
      "30\n"
     ]
    },
    {
     "name": "stderr",
     "output_type": "stream",
     "text": [
      "/usr/local/lib/python3.4/dist-packages/sklearn/metrics/ranking.py:542: UndefinedMetricWarning: No positive samples in y_true, true positive value should be meaningless\n",
      "  UndefinedMetricWarning)\n"
     ]
    },
    {
     "name": "stdout",
     "output_type": "stream",
     "text": [
      "[\"Another's Home\" 'Arts & Entertainment' 'Food' 'Home' 'Nightlife Spot'\n",
      " 'Outdoors & Recreation' 'Professional Or Medical Office' 'Shop Or Store'\n",
      " 'Spiritual' 'Travel Or Transport' 'Work']\n",
      "[ 0.83390301  0.91272453  0.77657016  0.92437949  0.96036588  0.99156665\n",
      "  0.93448984  0.79067522  0.99595577  0.99555065  0.8951719 ] 0.910123008865\n",
      "[ 0.70962804  0.89440329  0.73689085  0.91051034  0.99441065  0.49547995\n",
      "  0.81446227  0.76801414         nan         nan  0.84476217] 0.796506856847\n",
      "------------------\n",
      "31\n"
     ]
    },
    {
     "name": "stderr",
     "output_type": "stream",
     "text": [
      "/usr/local/lib/python3.4/dist-packages/sklearn/metrics/ranking.py:542: UndefinedMetricWarning: No positive samples in y_true, true positive value should be meaningless\n",
      "  UndefinedMetricWarning)\n"
     ]
    },
    {
     "name": "stdout",
     "output_type": "stream",
     "text": [
      "[\"Another's Home\" 'Arts & Entertainment' 'Food' 'Home' 'Nightlife Spot'\n",
      " 'Outdoors & Recreation' 'Professional Or Medical Office' 'Shop Or Store'\n",
      " 'Spiritual' 'Travel Or Transport' 'Work']\n",
      "[ 0.84135081  0.93163574  0.78339299  0.93883359  0.98565334  0.99301327\n",
      "  0.93631895  0.79952355  0.99673077  0.99442236  0.88352233] 0.916763427055\n",
      "[ 0.67742949  0.79224684  0.73918592  0.89897246  0.49557172  0.99106437\n",
      "  0.87602373  0.74244995         nan         nan  0.75369399] 0.774070941344\n",
      "------------------\n",
      "32\n"
     ]
    },
    {
     "name": "stderr",
     "output_type": "stream",
     "text": [
      "/usr/local/lib/python3.4/dist-packages/sklearn/metrics/ranking.py:542: UndefinedMetricWarning: No positive samples in y_true, true positive value should be meaningless\n",
      "  UndefinedMetricWarning)\n"
     ]
    },
    {
     "name": "stdout",
     "output_type": "stream",
     "text": [
      "[\"Another's Home\" 'Arts & Entertainment' 'Food' 'Home' 'Nightlife Spot'\n",
      " 'Outdoors & Recreation' 'Professional Or Medical Office' 'Shop Or Store'\n",
      " 'Spiritual' 'Travel Or Transport' 'Work']\n",
      "[ 0.84865661  0.86134266  0.78744057  0.94465583  0.97077411  0.99223394\n",
      "  0.94585932  0.79092994  0.99599923  0.99382992  0.90748515] 0.912655206711\n",
      "[ 0.74405685  0.9110138   0.71473351  0.89665768  0.99506762         nan\n",
      "  0.82168059  0.74206623         nan         nan  0.74857847] 0.821731843413\n",
      "------------------\n",
      "33\n"
     ]
    },
    {
     "name": "stderr",
     "output_type": "stream",
     "text": [
      "/usr/local/lib/python3.4/dist-packages/sklearn/metrics/ranking.py:542: UndefinedMetricWarning: No positive samples in y_true, true positive value should be meaningless\n",
      "  UndefinedMetricWarning)\n"
     ]
    },
    {
     "name": "stdout",
     "output_type": "stream",
     "text": [
      "[\"Another's Home\" 'Arts & Entertainment' 'Food' 'Home' 'Nightlife Spot'\n",
      " 'Outdoors & Recreation' 'Professional Or Medical Office' 'Shop Or Store'\n",
      " 'Spiritual' 'Travel Or Transport' 'Work']\n",
      "[ 0.85097496  0.97194951  0.79160548  0.93436249  0.98253283         nan\n",
      "  0.90710553  0.78985115  0.9964636   0.99413099  0.88735128] 0.910632782558\n",
      "[ 0.6591988   0.86895161  0.71631449  0.88475045         nan         nan\n",
      "  0.83588593  0.75908794         nan         nan  0.76107256] 0.783608825328\n",
      "------------------\n",
      "34\n"
     ]
    },
    {
     "name": "stderr",
     "output_type": "stream",
     "text": [
      "/usr/local/lib/python3.4/dist-packages/sklearn/metrics/ranking.py:542: UndefinedMetricWarning: No positive samples in y_true, true positive value should be meaningless\n",
      "  UndefinedMetricWarning)\n"
     ]
    },
    {
     "name": "stdout",
     "output_type": "stream",
     "text": [
      "[\"Another's Home\" 'Arts & Entertainment' 'Food' 'Home' 'Nightlife Spot'\n",
      " 'Outdoors & Recreation' 'Professional Or Medical Office' 'Shop Or Store'\n",
      " 'Spiritual' 'Travel Or Transport' 'Work']\n",
      "[ 0.84861687  0.91740452  0.79668141  0.93470297  0.98320644  0.96431406\n",
      "  0.93108608  0.79290058  0.99659084  0.97461882  0.87916872] 0.910844663232\n",
      "[ 0.70419005  0.9922904   0.7125085   0.92848786  0.57682417  0.49445694\n",
      "  0.87048655  0.76440856         nan         nan  0.7471523 ] 0.754533924273\n",
      "------------------\n",
      "35\n"
     ]
    },
    {
     "name": "stderr",
     "output_type": "stream",
     "text": [
      "/usr/local/lib/python3.4/dist-packages/sklearn/metrics/ranking.py:542: UndefinedMetricWarning: No positive samples in y_true, true positive value should be meaningless\n",
      "  UndefinedMetricWarning)\n"
     ]
    },
    {
     "name": "stdout",
     "output_type": "stream",
     "text": [
      "[\"Another's Home\" 'Arts & Entertainment' 'Food' 'Home' 'Nightlife Spot'\n",
      " 'Outdoors & Recreation' 'Professional Or Medical Office' 'Shop Or Store'\n",
      " 'Spiritual' 'Travel Or Transport' 'Work']\n",
      "[ 0.83031294  0.94677924  0.78356769  0.93197545  0.97143157  0.94342243\n",
      "  0.93100609  0.78479928  0.9953652   0.99356195  0.88450618] 0.908793455562\n",
      "[ 0.66964874  0.69462285  0.7469683   0.87351047         nan  0.7443309\n",
      "  0.90096456  0.74645064         nan         nan  0.77389397] 0.76879880321\n",
      "------------------\n",
      "36\n"
     ]
    },
    {
     "name": "stderr",
     "output_type": "stream",
     "text": [
      "/usr/local/lib/python3.4/dist-packages/sklearn/metrics/ranking.py:542: UndefinedMetricWarning: No positive samples in y_true, true positive value should be meaningless\n",
      "  UndefinedMetricWarning)\n"
     ]
    },
    {
     "name": "stdout",
     "output_type": "stream",
     "text": [
      "[\"Another's Home\" 'Arts & Entertainment' 'Food' 'Home' 'Nightlife Spot'\n",
      " 'Outdoors & Recreation' 'Professional Or Medical Office' 'Shop Or Store'\n",
      " 'Spiritual' 'Travel Or Transport' 'Work']\n",
      "[ 0.86016822  0.93379214  0.7767573   0.93311382  0.96814741  0.97063231\n",
      "  0.91330609  0.79039509  0.99692924  0.99309724  0.88365398] 0.910908439369\n",
      "[ 0.69366399  0.82727185  0.70612525  0.87952805  0.99452213  0.49055652\n",
      "  0.85993294  0.78728667         nan         nan  0.74399671] 0.775876011446\n",
      "------------------\n",
      "37\n"
     ]
    },
    {
     "name": "stderr",
     "output_type": "stream",
     "text": [
      "/usr/local/lib/python3.4/dist-packages/sklearn/metrics/ranking.py:542: UndefinedMetricWarning: No positive samples in y_true, true positive value should be meaningless\n",
      "  UndefinedMetricWarning)\n"
     ]
    },
    {
     "name": "stdout",
     "output_type": "stream",
     "text": [
      "[\"Another's Home\" 'Arts & Entertainment' 'Food' 'Home' 'Nightlife Spot'\n",
      " 'Outdoors & Recreation' 'Professional Or Medical Office' 'Shop Or Store'\n",
      " 'Spiritual' 'Travel Or Transport' 'Work']\n",
      "[ 0.83849082  0.91381894  0.7985188   0.93946255  0.9806608   0.9375427\n",
      "  0.93823145  0.78922698  0.99604291  0.99332635  0.88769108] 0.91027394505\n",
      "[ 0.73590166  0.89254967  0.70497566  0.89654652  0.9921781          nan\n",
      "  0.86646926  0.74376414         nan         nan  0.73670621] 0.821136402037\n",
      "------------------\n",
      "38\n"
     ]
    },
    {
     "name": "stderr",
     "output_type": "stream",
     "text": [
      "/usr/local/lib/python3.4/dist-packages/sklearn/metrics/ranking.py:542: UndefinedMetricWarning: No positive samples in y_true, true positive value should be meaningless\n",
      "  UndefinedMetricWarning)\n"
     ]
    },
    {
     "name": "stdout",
     "output_type": "stream",
     "text": [
      "[\"Another's Home\" 'Arts & Entertainment' 'Food' 'Home' 'Nightlife Spot'\n",
      " 'Outdoors & Recreation' 'Professional Or Medical Office' 'Shop Or Store'\n",
      " 'Spiritual' 'Travel Or Transport' 'Work']\n",
      "[ 0.84820989  0.82725303  0.80530671  0.94035189  0.98392051  0.89903769\n",
      "  0.92571691  0.78785247  0.99684278  0.99523503  0.88981432] 0.899958293992\n",
      "[ 0.69550403         nan  0.71731617  0.89157555  0.99366891         nan\n",
      "  0.74773513  0.72393835         nan         nan  0.72556707] 0.785043601392\n",
      "------------------\n",
      "39\n"
     ]
    },
    {
     "name": "stderr",
     "output_type": "stream",
     "text": [
      "/usr/local/lib/python3.4/dist-packages/sklearn/metrics/ranking.py:542: UndefinedMetricWarning: No positive samples in y_true, true positive value should be meaningless\n",
      "  UndefinedMetricWarning)\n"
     ]
    },
    {
     "name": "stdout",
     "output_type": "stream",
     "text": [
      "[\"Another's Home\" 'Arts & Entertainment' 'Food' 'Home' 'Nightlife Spot'\n",
      " 'Outdoors & Recreation' 'Professional Or Medical Office' 'Shop Or Store'\n",
      " 'Spiritual' 'Travel Or Transport' 'Work']\n",
      "[ 0.86758401  0.93003345  0.79261882  0.93600335  0.97887062  0.99303346\n",
      "  0.92058725  0.78676962  0.99627721  0.993923    0.89743878] 0.917558144133\n",
      "[ 0.75375724  0.86880232  0.72925984  0.8726994   0.74645961         nan\n",
      "  0.80178411  0.73874669         nan         nan  0.69941952] 0.776366089693\n",
      "------------------\n",
      "40\n"
     ]
    },
    {
     "name": "stderr",
     "output_type": "stream",
     "text": [
      "/usr/local/lib/python3.4/dist-packages/sklearn/metrics/ranking.py:542: UndefinedMetricWarning: No positive samples in y_true, true positive value should be meaningless\n",
      "  UndefinedMetricWarning)\n"
     ]
    },
    {
     "name": "stdout",
     "output_type": "stream",
     "text": [
      "[\"Another's Home\" 'Arts & Entertainment' 'Food' 'Home' 'Nightlife Spot'\n",
      " 'Outdoors & Recreation' 'Professional Or Medical Office' 'Shop Or Store'\n",
      " 'Spiritual' 'Travel Or Transport' 'Work']\n",
      "[ 0.88616713  0.95301364  0.76783314  0.93718841  0.98060098  0.97641451\n",
      "  0.89841504  0.77556429  0.99547808         nan  0.90089444] 0.907156966781\n",
      "[ 0.77335772  0.99565283  0.74951442  0.89138442         nan         nan\n",
      "  0.81836378  0.73896444         nan         nan  0.72614192] 0.813339934222\n",
      "------------------\n",
      "41\n"
     ]
    },
    {
     "name": "stderr",
     "output_type": "stream",
     "text": [
      "/usr/local/lib/python3.4/dist-packages/sklearn/metrics/ranking.py:542: UndefinedMetricWarning: No positive samples in y_true, true positive value should be meaningless\n",
      "  UndefinedMetricWarning)\n"
     ]
    },
    {
     "name": "stdout",
     "output_type": "stream",
     "text": [
      "[\"Another's Home\" 'Arts & Entertainment' 'Food' 'Home' 'Nightlife Spot'\n",
      " 'Outdoors & Recreation' 'Professional Or Medical Office' 'Shop Or Store'\n",
      " 'Spiritual' 'Travel Or Transport' 'Work']\n",
      "[ 0.85339344  0.92712399  0.76866518  0.93392533  0.94694545  0.99258384\n",
      "  0.93773067  0.78272146  0.99612962  0.99511187  0.87734427] 0.910152283304\n",
      "[ 0.66514019  0.86902182  0.73525227  0.85442467         nan         nan\n",
      "  0.85901425  0.73900361         nan         nan  0.71008297] 0.775991399032\n",
      "------------------\n",
      "42\n"
     ]
    },
    {
     "name": "stderr",
     "output_type": "stream",
     "text": [
      "/usr/local/lib/python3.4/dist-packages/sklearn/metrics/ranking.py:542: UndefinedMetricWarning: No positive samples in y_true, true positive value should be meaningless\n",
      "  UndefinedMetricWarning)\n"
     ]
    },
    {
     "name": "stdout",
     "output_type": "stream",
     "text": [
      "[\"Another's Home\" 'Arts & Entertainment' 'Food' 'Home' 'Nightlife Spot'\n",
      " 'Outdoors & Recreation' 'Professional Or Medical Office' 'Shop Or Store'\n",
      " 'Spiritual' 'Travel Or Transport' 'Work']\n",
      "[ 0.85549849  0.91669803  0.77941942  0.9370991   0.96040456  0.99176573\n",
      "  0.91781928  0.78591076  0.9958798   0.99427988  0.87759791] 0.910215722846\n",
      "[ 0.75393215  0.9940208   0.74030436  0.8883106          nan  0.74462459\n",
      "  0.90337974  0.74393616  0.99653319         nan  0.78116311] 0.838467188523\n",
      "------------------\n",
      "43\n"
     ]
    },
    {
     "name": "stderr",
     "output_type": "stream",
     "text": [
      "/usr/local/lib/python3.4/dist-packages/sklearn/metrics/ranking.py:542: UndefinedMetricWarning: No positive samples in y_true, true positive value should be meaningless\n",
      "  UndefinedMetricWarning)\n"
     ]
    },
    {
     "name": "stdout",
     "output_type": "stream",
     "text": [
      "[\"Another's Home\" 'Arts & Entertainment' 'Food' 'Home' 'Nightlife Spot'\n",
      " 'Outdoors & Recreation' 'Professional Or Medical Office' 'Shop Or Store'\n",
      " 'Spiritual' 'Travel Or Transport' 'Work']\n",
      "[ 0.85047968  0.85918372  0.77937493  0.93982508  0.97680845  0.99247291\n",
      "  0.92226655  0.77957632  0.99546044  0.99318845  0.87902526] 0.906151072107\n",
      "[ 0.65753621  0.95241481  0.76824958  0.86939021  0.99347759         nan\n",
      "  0.87485429  0.73013381         nan         nan  0.70686065] 0.819114644444\n",
      "------------------\n",
      "44\n"
     ]
    },
    {
     "name": "stderr",
     "output_type": "stream",
     "text": [
      "/usr/local/lib/python3.4/dist-packages/sklearn/metrics/ranking.py:542: UndefinedMetricWarning: No positive samples in y_true, true positive value should be meaningless\n",
      "  UndefinedMetricWarning)\n"
     ]
    },
    {
     "name": "stdout",
     "output_type": "stream",
     "text": [
      "[\"Another's Home\" 'Arts & Entertainment' 'Food' 'Home' 'Nightlife Spot'\n",
      " 'Outdoors & Recreation' 'Professional Or Medical Office' 'Shop Or Store'\n",
      " 'Spiritual' 'Travel Or Transport' 'Work']\n",
      "[ 0.84612494  0.89383779  0.78803117  0.92988793  0.95204294  0.96890378\n",
      "  0.93595142  0.77801375  0.99565592  0.99510161  0.89218297] 0.906884928959\n",
      "[ 0.65397321  0.82717046  0.77012353  0.87883739  0.49589503  0.49186932\n",
      "  0.8568271   0.75294886         nan         nan  0.82053857] 0.727575941125\n",
      "------------------\n",
      "45\n"
     ]
    },
    {
     "name": "stderr",
     "output_type": "stream",
     "text": [
      "/usr/local/lib/python3.4/dist-packages/sklearn/metrics/ranking.py:542: UndefinedMetricWarning: No positive samples in y_true, true positive value should be meaningless\n",
      "  UndefinedMetricWarning)\n"
     ]
    },
    {
     "name": "stdout",
     "output_type": "stream",
     "text": [
      "[\"Another's Home\" 'Arts & Entertainment' 'Food' 'Home' 'Nightlife Spot'\n",
      " 'Outdoors & Recreation' 'Professional Or Medical Office' 'Shop Or Store'\n",
      " 'Spiritual' 'Travel Or Transport' 'Work']\n",
      "[ 0.84367401  0.95682693  0.78853646  0.93141387  0.97889505  0.99342515\n",
      "  0.95468279  0.78982059  0.99636578  0.99345296  0.88591706] 0.919364603683\n",
      "[ 0.63264562  0.99366075  0.71912981  0.88259539  0.9950614          nan\n",
      "  0.83327746  0.72378457         nan         nan  0.79765751] 0.822226563542\n",
      "------------------\n",
      "46\n"
     ]
    },
    {
     "name": "stderr",
     "output_type": "stream",
     "text": [
      "/usr/local/lib/python3.4/dist-packages/sklearn/metrics/ranking.py:542: UndefinedMetricWarning: No positive samples in y_true, true positive value should be meaningless\n",
      "  UndefinedMetricWarning)\n"
     ]
    },
    {
     "name": "stdout",
     "output_type": "stream",
     "text": [
      "[\"Another's Home\" 'Arts & Entertainment' 'Food' 'Home' 'Nightlife Spot'\n",
      " 'Outdoors & Recreation' 'Professional Or Medical Office' 'Shop Or Store'\n",
      " 'Spiritual' 'Travel Or Transport' 'Work']\n",
      "[ 0.8276999   0.99405998  0.78752364  0.92957031  0.96210908  0.97206398\n",
      "  0.90990949  0.78809862  0.99596958  0.99370334  0.89066406] 0.913761089148\n",
      "[ 0.65613765  0.49233482  0.74068503  0.89783374  0.99724096  0.49555419\n",
      "  0.82216765  0.74656383         nan         nan  0.83467675] 0.74257718019\n",
      "------------------\n",
      "47\n"
     ]
    },
    {
     "name": "stderr",
     "output_type": "stream",
     "text": [
      "/usr/local/lib/python3.4/dist-packages/sklearn/metrics/ranking.py:542: UndefinedMetricWarning: No positive samples in y_true, true positive value should be meaningless\n",
      "  UndefinedMetricWarning)\n"
     ]
    },
    {
     "name": "stdout",
     "output_type": "stream",
     "text": [
      "[\"Another's Home\" 'Arts & Entertainment' 'Food' 'Home' 'Nightlife Spot'\n",
      " 'Outdoors & Recreation' 'Professional Or Medical Office' 'Shop Or Store'\n",
      " 'Spiritual' 'Travel Or Transport' 'Work']\n",
      "[ 0.84886753  0.96602098  0.79233119  0.93537249  0.99636933  0.99307452\n",
      "  0.94073427  0.78994014         nan         nan  0.88979364] 0.905833787761\n",
      "[ 0.73103697  0.70885408  0.72237307  0.89203805  0.99269175         nan\n",
      "  0.78014978  0.73287411         nan         nan  0.81900141] 0.797377403179\n",
      "------------------\n",
      "48\n"
     ]
    },
    {
     "name": "stderr",
     "output_type": "stream",
     "text": [
      "/usr/local/lib/python3.4/dist-packages/sklearn/metrics/ranking.py:542: UndefinedMetricWarning: No positive samples in y_true, true positive value should be meaningless\n",
      "  UndefinedMetricWarning)\n"
     ]
    },
    {
     "name": "stdout",
     "output_type": "stream",
     "text": [
      "[\"Another's Home\" 'Arts & Entertainment' 'Food' 'Home' 'Nightlife Spot'\n",
      " 'Outdoors & Recreation' 'Professional Or Medical Office' 'Shop Or Store'\n",
      " 'Spiritual' 'Travel Or Transport' 'Work']\n",
      "[ 0.85328888  0.91559327  0.77903375  0.94539381  0.97522559  0.99314356\n",
      "  0.91321212  0.80321728  0.99551044  0.9957115   0.9060082 ] 0.915939855174\n",
      "[ 0.65239476  0.82752915  0.6802372   0.82110274  0.74610568         nan\n",
      "  0.82036724  0.71287191         nan         nan  0.72993946] 0.748818517774\n",
      "------------------\n",
      "49\n"
     ]
    },
    {
     "name": "stderr",
     "output_type": "stream",
     "text": [
      "/usr/local/lib/python3.4/dist-packages/sklearn/metrics/ranking.py:542: UndefinedMetricWarning: No positive samples in y_true, true positive value should be meaningless\n",
      "  UndefinedMetricWarning)\n"
     ]
    },
    {
     "name": "stdout",
     "output_type": "stream",
     "text": [
      "[\"Another's Home\" 'Arts & Entertainment' 'Food' 'Home' 'Nightlife Spot'\n",
      " 'Outdoors & Recreation' 'Professional Or Medical Office' 'Shop Or Store'\n",
      " 'Spiritual' 'Travel Or Transport' 'Work']\n",
      "[ 0.8591019   0.89426112  0.79597288  0.9357598   0.97853765  0.97493994\n",
      "  0.91919341  0.79542242  0.99602321  0.97200517  0.88728243] 0.909863629714\n",
      "[ 0.61101353  0.81155476  0.72316704  0.88579284  0.55816012  0.49216611\n",
      "  0.82822153  0.73486707         nan         nan  0.82616947] 0.719012497869\n",
      "------------------\n",
      "50\n"
     ]
    },
    {
     "name": "stderr",
     "output_type": "stream",
     "text": [
      "/usr/local/lib/python3.4/dist-packages/sklearn/metrics/ranking.py:542: UndefinedMetricWarning: No positive samples in y_true, true positive value should be meaningless\n",
      "  UndefinedMetricWarning)\n"
     ]
    },
    {
     "name": "stdout",
     "output_type": "stream",
     "text": [
      "[\"Another's Home\" 'Arts & Entertainment' 'Food' 'Home' 'Nightlife Spot'\n",
      " 'Outdoors & Recreation' 'Professional Or Medical Office' 'Shop Or Store'\n",
      " 'Spiritual' 'Travel Or Transport' 'Work']\n",
      "[ 0.86958034  0.89483621  0.7792615   0.93886914  0.97497912  0.99368421\n",
      "  0.93446969  0.78877209  0.99661229  0.99341889  0.88811233] 0.913872345415\n",
      "[ 0.71497792         nan  0.73670107  0.89638213  0.6321232          nan\n",
      "  0.90106844  0.74274641         nan         nan  0.7833422 ] 0.77247733695\n",
      "------------------\n",
      "51\n"
     ]
    },
    {
     "name": "stderr",
     "output_type": "stream",
     "text": [
      "/usr/local/lib/python3.4/dist-packages/sklearn/metrics/ranking.py:542: UndefinedMetricWarning: No positive samples in y_true, true positive value should be meaningless\n",
      "  UndefinedMetricWarning)\n"
     ]
    },
    {
     "name": "stdout",
     "output_type": "stream",
     "text": [
      "[\"Another's Home\" 'Arts & Entertainment' 'Food' 'Home' 'Nightlife Spot'\n",
      " 'Outdoors & Recreation' 'Professional Or Medical Office' 'Shop Or Store'\n",
      " 'Spiritual' 'Travel Or Transport' 'Work']\n",
      "[ 0.82887063  0.99377926  0.77854731  0.93593015  0.96513001  0.96466117\n",
      "  0.93971469  0.78746776  0.99555214  0.9703345   0.89560528] 0.914144809131\n",
      "[ 0.63414311  0.8265233   0.74444972  0.86357503  0.99584468  0.49226361\n",
      "  0.88688005  0.75523358  0.99555874         nan  0.7884074 ] 0.798287922176\n",
      "------------------\n",
      "52\n"
     ]
    },
    {
     "name": "stderr",
     "output_type": "stream",
     "text": [
      "/usr/local/lib/python3.4/dist-packages/sklearn/metrics/ranking.py:542: UndefinedMetricWarning: No positive samples in y_true, true positive value should be meaningless\n",
      "  UndefinedMetricWarning)\n"
     ]
    },
    {
     "name": "stdout",
     "output_type": "stream",
     "text": [
      "[\"Another's Home\" 'Arts & Entertainment' 'Food' 'Home' 'Nightlife Spot'\n",
      " 'Outdoors & Recreation' 'Professional Or Medical Office' 'Shop Or Store'\n",
      " 'Spiritual' 'Travel Or Transport' 'Work']\n",
      "[ 0.82956614  0.99391653  0.78402173  0.93709288  0.95560447  0.99228049\n",
      "  0.93035571  0.78833783  0.99649708  0.97237543  0.88592598] 0.915088571205\n",
      "[ 0.66258542  0.6593229   0.72655861  0.899086    0.49597948         nan\n",
      "  0.86975901  0.76205668         nan         nan  0.79536899] 0.733839634913\n",
      "------------------\n",
      "53\n"
     ]
    },
    {
     "name": "stderr",
     "output_type": "stream",
     "text": [
      "/usr/local/lib/python3.4/dist-packages/sklearn/metrics/ranking.py:542: UndefinedMetricWarning: No positive samples in y_true, true positive value should be meaningless\n",
      "  UndefinedMetricWarning)\n"
     ]
    },
    {
     "name": "stdout",
     "output_type": "stream",
     "text": [
      "[\"Another's Home\" 'Arts & Entertainment' 'Food' 'Home' 'Nightlife Spot'\n",
      " 'Outdoors & Recreation' 'Professional Or Medical Office' 'Shop Or Store'\n",
      " 'Spiritual' 'Travel Or Transport' 'Work']\n",
      "[ 0.8407661   0.95104561  0.79990586  0.93413304  0.94463216  0.94720071\n",
      "  0.92443128  0.78679472  0.99613089  0.99521531  0.90168301] 0.911085336454\n",
      "[ 0.68266313  0.99212657  0.72880879  0.86415781  0.51330626  0.49198021\n",
      "  0.87329449  0.73965923         nan         nan  0.79831085] 0.742700816588\n",
      "------------------\n",
      "54\n"
     ]
    },
    {
     "name": "stderr",
     "output_type": "stream",
     "text": [
      "/usr/local/lib/python3.4/dist-packages/sklearn/metrics/ranking.py:542: UndefinedMetricWarning: No positive samples in y_true, true positive value should be meaningless\n",
      "  UndefinedMetricWarning)\n"
     ]
    },
    {
     "name": "stdout",
     "output_type": "stream",
     "text": [
      "[\"Another's Home\" 'Arts & Entertainment' 'Food' 'Home' 'Nightlife Spot'\n",
      " 'Outdoors & Recreation' 'Professional Or Medical Office' 'Shop Or Store'\n",
      " 'Spiritual' 'Travel Or Transport' 'Work']\n",
      "[ 0.83165263  0.89628301  0.78497552  0.93933725  0.96070598  0.94094534\n",
      "  0.95353757  0.79863655         nan  0.94954513  0.88944232] 0.894506129122\n",
      "[ 0.70380492  0.99494635  0.6801786   0.88753649  0.52951654         nan\n",
      "  0.84348973  0.76104949         nan         nan  0.75282006] 0.769167771987\n",
      "------------------\n",
      "55\n"
     ]
    },
    {
     "name": "stderr",
     "output_type": "stream",
     "text": [
      "/usr/local/lib/python3.4/dist-packages/sklearn/metrics/ranking.py:542: UndefinedMetricWarning: No positive samples in y_true, true positive value should be meaningless\n",
      "  UndefinedMetricWarning)\n"
     ]
    },
    {
     "name": "stdout",
     "output_type": "stream",
     "text": [
      "[\"Another's Home\" 'Arts & Entertainment' 'Food' 'Home' 'Nightlife Spot'\n",
      " 'Outdoors & Recreation' 'Professional Or Medical Office' 'Shop Or Store'\n",
      " 'Spiritual' 'Travel Or Transport' 'Work']\n",
      "[ 0.83692203  0.91701945  0.77621836  0.93784288  0.98262984  0.99338381\n",
      "  0.93645164  0.78834302  0.99628314  0.99588735  0.88389248] 0.91317036181\n",
      "[ 0.68129391  0.66302949  0.74681471  0.85405867         nan         nan\n",
      "  0.80584947  0.73340034         nan         nan  0.79096905] 0.753630806376\n",
      "------------------\n",
      "56\n"
     ]
    },
    {
     "name": "stderr",
     "output_type": "stream",
     "text": [
      "/usr/local/lib/python3.4/dist-packages/sklearn/metrics/ranking.py:542: UndefinedMetricWarning: No positive samples in y_true, true positive value should be meaningless\n",
      "  UndefinedMetricWarning)\n"
     ]
    },
    {
     "name": "stdout",
     "output_type": "stream",
     "text": [
      "[\"Another's Home\" 'Arts & Entertainment' 'Food' 'Home' 'Nightlife Spot'\n",
      " 'Outdoors & Recreation' 'Professional Or Medical Office' 'Shop Or Store'\n",
      " 'Spiritual' 'Travel Or Transport' 'Work']\n",
      "[ 0.83997137  0.86088296  0.78168547  0.93672527  0.96141825  0.99250579\n",
      "  0.90234914  0.79217145  0.99584554  0.99363122  0.90168191] 0.905351671642\n",
      "[ 0.65414801  0.85908338  0.70339054  0.85837477  0.66397812         nan\n",
      "  0.80166548  0.77476057         nan         nan  0.80089922] 0.764537511864\n",
      "------------------\n",
      "57\n"
     ]
    },
    {
     "name": "stderr",
     "output_type": "stream",
     "text": [
      "/usr/local/lib/python3.4/dist-packages/sklearn/metrics/ranking.py:542: UndefinedMetricWarning: No positive samples in y_true, true positive value should be meaningless\n",
      "  UndefinedMetricWarning)\n"
     ]
    },
    {
     "name": "stdout",
     "output_type": "stream",
     "text": [
      "[\"Another's Home\" 'Arts & Entertainment' 'Food' 'Home' 'Nightlife Spot'\n",
      " 'Outdoors & Recreation' 'Professional Or Medical Office' 'Shop Or Store'\n",
      " 'Spiritual' 'Travel Or Transport' 'Work']\n",
      "[ 0.85078296  0.9412554   0.79383584  0.93700758  0.97923213  0.97529786\n",
      "  0.90829048  0.79547823  0.99609277  0.99476836  0.90574063] 0.916162022294\n",
      "[ 0.69353439  0.99109499  0.69398525  0.88412423  0.99398087  0.65792368\n",
      "  0.83257544  0.73636247         nan         nan  0.77882506] 0.806934042123\n",
      "------------------\n",
      "58\n"
     ]
    },
    {
     "name": "stderr",
     "output_type": "stream",
     "text": [
      "/usr/local/lib/python3.4/dist-packages/sklearn/metrics/ranking.py:542: UndefinedMetricWarning: No positive samples in y_true, true positive value should be meaningless\n",
      "  UndefinedMetricWarning)\n"
     ]
    },
    {
     "name": "stdout",
     "output_type": "stream",
     "text": [
      "[\"Another's Home\" 'Arts & Entertainment' 'Food' 'Home' 'Nightlife Spot'\n",
      " 'Outdoors & Recreation' 'Professional Or Medical Office' 'Shop Or Store'\n",
      " 'Spiritual' 'Travel Or Transport' 'Work']\n",
      "[ 0.82584075  0.99404027  0.79146173  0.93780699  0.96792812  0.99219425\n",
      "  0.94715595  0.79471183  0.99601999  0.9953124   0.89030048] 0.921161160449\n",
      "[ 0.70174734  0.8268648   0.72106444  0.90131059         nan         nan\n",
      "  0.9179405   0.75169081         nan         nan  0.77711838] 0.799676694742\n",
      "------------------\n",
      "59\n"
     ]
    },
    {
     "name": "stderr",
     "output_type": "stream",
     "text": [
      "/usr/local/lib/python3.4/dist-packages/sklearn/metrics/ranking.py:542: UndefinedMetricWarning: No positive samples in y_true, true positive value should be meaningless\n",
      "  UndefinedMetricWarning)\n"
     ]
    },
    {
     "name": "stdout",
     "output_type": "stream",
     "text": [
      "[\"Another's Home\" 'Arts & Entertainment' 'Food' 'Home' 'Nightlife Spot'\n",
      " 'Outdoors & Recreation' 'Professional Or Medical Office' 'Shop Or Store'\n",
      " 'Spiritual' 'Travel Or Transport' 'Work']\n",
      "[ 0.84402694  0.92246024  0.77735849  0.93390579  0.95130547  0.97863291\n",
      "  0.92858156  0.78914167  0.99573183  0.99557319  0.89939711] 0.910555927585\n",
      "[ 0.72381265  0.77987946  0.76794867  0.92984373  0.87283161  0.66105961\n",
      "  0.88239543  0.73811602         nan         nan  0.81134055] 0.796358635947\n",
      "------------------\n",
      "60\n"
     ]
    },
    {
     "name": "stderr",
     "output_type": "stream",
     "text": [
      "/usr/local/lib/python3.4/dist-packages/sklearn/metrics/ranking.py:542: UndefinedMetricWarning: No positive samples in y_true, true positive value should be meaningless\n",
      "  UndefinedMetricWarning)\n"
     ]
    },
    {
     "name": "stdout",
     "output_type": "stream",
     "text": [
      "[\"Another's Home\" 'Arts & Entertainment' 'Food' 'Home' 'Nightlife Spot'\n",
      " 'Outdoors & Recreation' 'Professional Or Medical Office' 'Shop Or Store'\n",
      " 'Spiritual' 'Travel Or Transport' 'Work']\n",
      "[ 0.82884563  0.95252988  0.78558675  0.93456196  0.99628769  0.96840523\n",
      "  0.91762619  0.79291806  0.9965159          nan  0.88421235] 0.905748964009\n",
      "[ 0.75940636  0.82530903  0.71758844  0.90356174  0.99361271  0.49455083\n",
      "  0.82937018  0.75425736         nan         nan  0.81037982] 0.787559608092\n",
      "------------------\n",
      "61\n"
     ]
    },
    {
     "name": "stderr",
     "output_type": "stream",
     "text": [
      "/usr/local/lib/python3.4/dist-packages/sklearn/metrics/ranking.py:542: UndefinedMetricWarning: No positive samples in y_true, true positive value should be meaningless\n",
      "  UndefinedMetricWarning)\n"
     ]
    },
    {
     "name": "stdout",
     "output_type": "stream",
     "text": [
      "[\"Another's Home\" 'Arts & Entertainment' 'Food' 'Home' 'Nightlife Spot'\n",
      " 'Outdoors & Recreation' 'Professional Or Medical Office' 'Shop Or Store'\n",
      " 'Spiritual' 'Travel Or Transport' 'Work']\n",
      "[ 0.84985146  0.90332155  0.78804406  0.9379425   0.98346933  0.94527967\n",
      "  0.92170144  0.79532891  0.99658927  0.99458945  0.89246933] 0.909871545133\n",
      "[ 0.6985903   0.99176277  0.71177076  0.91873312  0.99550831  0.49378649\n",
      "  0.89102081  0.77252422         nan         nan  0.79673842] 0.807826133408\n",
      "------------------\n",
      "62\n"
     ]
    },
    {
     "name": "stderr",
     "output_type": "stream",
     "text": [
      "/usr/local/lib/python3.4/dist-packages/sklearn/metrics/ranking.py:542: UndefinedMetricWarning: No positive samples in y_true, true positive value should be meaningless\n",
      "  UndefinedMetricWarning)\n"
     ]
    },
    {
     "name": "stdout",
     "output_type": "stream",
     "text": [
      "[\"Another's Home\" 'Arts & Entertainment' 'Food' 'Home' 'Nightlife Spot'\n",
      " 'Outdoors & Recreation' 'Professional Or Medical Office' 'Shop Or Store'\n",
      " 'Spiritual' 'Travel Or Transport' 'Work']\n",
      "[ 0.82926509  0.91071547  0.78875135  0.92855666  0.98534969  0.99290523\n",
      "  0.92563519  0.77896412  0.99530703  0.99376238  0.8910958 ] 0.910937090582\n",
      "[ 0.67228429  0.99409681  0.77635989  0.87917832  0.51661424         nan\n",
      "  0.82574287  0.73928928         nan         nan  0.82808419] 0.778956237135\n",
      "------------------\n",
      "63\n"
     ]
    },
    {
     "name": "stderr",
     "output_type": "stream",
     "text": [
      "/usr/local/lib/python3.4/dist-packages/sklearn/metrics/ranking.py:542: UndefinedMetricWarning: No positive samples in y_true, true positive value should be meaningless\n",
      "  UndefinedMetricWarning)\n"
     ]
    },
    {
     "name": "stdout",
     "output_type": "stream",
     "text": [
      "[\"Another's Home\" 'Arts & Entertainment' 'Food' 'Home' 'Nightlife Spot'\n",
      " 'Outdoors & Recreation' 'Professional Or Medical Office' 'Shop Or Store'\n",
      " 'Spiritual' 'Travel Or Transport' 'Work']\n",
      "[ 0.85449934  0.89883397  0.78775322  0.93331261  0.99579693  0.9923831\n",
      "  0.92520852  0.7825237   0.99513116  0.97213342  0.8816007 ] 0.910834241389\n",
      "[ 0.70632107  0.93053213  0.73442665  0.87563635         nan         nan\n",
      "  0.90116857  0.73902508  0.99728898         nan  0.80543266] 0.836228935707\n",
      "------------------\n",
      "64\n"
     ]
    },
    {
     "name": "stderr",
     "output_type": "stream",
     "text": [
      "/usr/local/lib/python3.4/dist-packages/sklearn/metrics/ranking.py:542: UndefinedMetricWarning: No positive samples in y_true, true positive value should be meaningless\n",
      "  UndefinedMetricWarning)\n"
     ]
    },
    {
     "name": "stdout",
     "output_type": "stream",
     "text": [
      "[\"Another's Home\" 'Arts & Entertainment' 'Food' 'Home' 'Nightlife Spot'\n",
      " 'Outdoors & Recreation' 'Professional Or Medical Office' 'Shop Or Store'\n",
      " 'Spiritual' 'Travel Or Transport' 'Work']\n",
      "[ 0.82868113  0.92537436  0.78589855  0.93279604  0.9971488   0.99185056\n",
      "  0.91517098  0.78914092  0.99577068  0.99386318  0.89030756] 0.913272977751\n",
      "[ 0.71895442  0.71630633  0.72830356  0.88224165         nan         nan\n",
      "  0.86310206  0.74639897         nan         nan  0.80676229] 0.780295611662\n",
      "------------------\n",
      "65\n"
     ]
    },
    {
     "name": "stderr",
     "output_type": "stream",
     "text": [
      "/usr/local/lib/python3.4/dist-packages/sklearn/metrics/ranking.py:542: UndefinedMetricWarning: No positive samples in y_true, true positive value should be meaningless\n",
      "  UndefinedMetricWarning)\n"
     ]
    },
    {
     "name": "stdout",
     "output_type": "stream",
     "text": [
      "[\"Another's Home\" 'Arts & Entertainment' 'Food' 'Home' 'Nightlife Spot'\n",
      " 'Outdoors & Recreation' 'Professional Or Medical Office' 'Shop Or Store'\n",
      " 'Spiritual' 'Travel Or Transport' 'Work']\n",
      "[ 0.85030669  0.95049812  0.77800837  0.93836107  0.96289104  0.99279635\n",
      "  0.91787117  0.79290617  0.99580621  0.70812239  0.90988885] 0.890677856802\n",
      "[ 0.60647457  0.87036112  0.70722155  0.86762542  0.99614726  0.49108289\n",
      "  0.76722436  0.76472282         nan         nan  0.77192866] 0.760309850799\n",
      "------------------\n",
      "66\n"
     ]
    },
    {
     "name": "stderr",
     "output_type": "stream",
     "text": [
      "/usr/local/lib/python3.4/dist-packages/sklearn/metrics/ranking.py:542: UndefinedMetricWarning: No positive samples in y_true, true positive value should be meaningless\n",
      "  UndefinedMetricWarning)\n"
     ]
    },
    {
     "name": "stdout",
     "output_type": "stream",
     "text": [
      "[\"Another's Home\" 'Arts & Entertainment' 'Food' 'Home' 'Nightlife Spot'\n",
      " 'Outdoors & Recreation' 'Professional Or Medical Office' 'Shop Or Store'\n",
      " 'Spiritual' 'Travel Or Transport' 'Work']\n",
      "[ 0.85527404  0.94002857  0.77628668  0.93996696  0.95683204  0.95994581\n",
      "  0.95084739  0.78550135  0.99597032  0.99386032  0.88690158] 0.912855915117\n",
      "[ 0.74370052  0.91125696  0.70284788  0.86332634  0.52582554  0.99109698\n",
      "  0.87230243  0.74568396         nan         nan  0.7817636 ] 0.793089357509\n",
      "------------------\n",
      "67\n"
     ]
    },
    {
     "name": "stderr",
     "output_type": "stream",
     "text": [
      "/usr/local/lib/python3.4/dist-packages/sklearn/metrics/ranking.py:542: UndefinedMetricWarning: No positive samples in y_true, true positive value should be meaningless\n",
      "  UndefinedMetricWarning)\n"
     ]
    },
    {
     "name": "stdout",
     "output_type": "stream",
     "text": [
      "[\"Another's Home\" 'Arts & Entertainment' 'Food' 'Home' 'Nightlife Spot'\n",
      " 'Outdoors & Recreation' 'Professional Or Medical Office' 'Shop Or Store'\n",
      " 'Spiritual' 'Travel Or Transport' 'Work']\n",
      "[ 0.85791272  0.93898955  0.79609818  0.93121146  0.99601047  0.99244405\n",
      "  0.93514214  0.78363684  0.99617054  0.99495981  0.89553725] 0.919828454276\n",
      "[ 0.71595096  0.92917201  0.78238157  0.90690931  0.99352104         nan\n",
      "  0.87826163  0.74103484         nan         nan  0.73828016] 0.835688940344\n",
      "------------------\n",
      "68\n"
     ]
    },
    {
     "name": "stderr",
     "output_type": "stream",
     "text": [
      "/usr/local/lib/python3.4/dist-packages/sklearn/metrics/ranking.py:542: UndefinedMetricWarning: No positive samples in y_true, true positive value should be meaningless\n",
      "  UndefinedMetricWarning)\n"
     ]
    },
    {
     "name": "stdout",
     "output_type": "stream",
     "text": [
      "[\"Another's Home\" 'Arts & Entertainment' 'Food' 'Home' 'Nightlife Spot'\n",
      " 'Outdoors & Recreation' 'Professional Or Medical Office' 'Shop Or Store'\n",
      " 'Spiritual' 'Travel Or Transport' 'Work']\n",
      "[ 0.85918138  0.90976832  0.78773547  0.92747388  0.98171314  0.96869471\n",
      "  0.92850741  0.79178984  0.99593125  0.99557666  0.88794234] 0.912210401105\n",
      "[ 0.74394521  0.82807178  0.73519167  0.91301545  0.49519744  0.49382434\n",
      "  0.84070913  0.74339153         nan         nan  0.82369542] 0.735226884206\n",
      "------------------\n",
      "69\n"
     ]
    },
    {
     "name": "stderr",
     "output_type": "stream",
     "text": [
      "/usr/local/lib/python3.4/dist-packages/sklearn/metrics/ranking.py:542: UndefinedMetricWarning: No positive samples in y_true, true positive value should be meaningless\n",
      "  UndefinedMetricWarning)\n"
     ]
    },
    {
     "name": "stdout",
     "output_type": "stream",
     "text": [
      "[\"Another's Home\" 'Arts & Entertainment' 'Food' 'Home' 'Nightlife Spot'\n",
      " 'Outdoors & Recreation' 'Professional Or Medical Office' 'Shop Or Store'\n",
      " 'Spiritual' 'Travel Or Transport' 'Work']\n",
      "[ 0.82652257  0.94168131  0.78978487  0.93104029  0.97978214  0.99269103\n",
      "  0.94876029  0.79753534  0.99611011  0.9250184   0.88711799] 0.910549485722\n",
      "[ 0.73061059  0.82685212  0.73029523  0.90315202  0.9942512   0.49206811\n",
      "  0.88399591  0.73455521  0.99585213         nan  0.75760184] 0.804923434808\n",
      "------------------\n",
      "70\n"
     ]
    },
    {
     "name": "stderr",
     "output_type": "stream",
     "text": [
      "/usr/local/lib/python3.4/dist-packages/sklearn/metrics/ranking.py:542: UndefinedMetricWarning: No positive samples in y_true, true positive value should be meaningless\n",
      "  UndefinedMetricWarning)\n"
     ]
    },
    {
     "name": "stdout",
     "output_type": "stream",
     "text": [
      "[\"Another's Home\" 'Arts & Entertainment' 'Food' 'Home' 'Nightlife Spot'\n",
      " 'Outdoors & Recreation' 'Professional Or Medical Office' 'Shop Or Store'\n",
      " 'Spiritual' 'Travel Or Transport' 'Work']\n",
      "[ 0.82496269  0.90300423  0.78450318  0.93578055  0.95312755  0.99366202\n",
      "  0.94352497  0.79040375  0.99553571  0.94603974  0.91056249] 0.907373352996\n",
      "[ 0.649323    0.90992076  0.72339824  0.86712872  0.60239857         nan\n",
      "  0.78300403  0.75705084         nan         nan  0.77749703] 0.75871514838\n",
      "------------------\n",
      "71\n"
     ]
    },
    {
     "name": "stderr",
     "output_type": "stream",
     "text": [
      "/usr/local/lib/python3.4/dist-packages/sklearn/metrics/ranking.py:542: UndefinedMetricWarning: No positive samples in y_true, true positive value should be meaningless\n",
      "  UndefinedMetricWarning)\n"
     ]
    },
    {
     "name": "stdout",
     "output_type": "stream",
     "text": [
      "[\"Another's Home\" 'Arts & Entertainment' 'Food' 'Home' 'Nightlife Spot'\n",
      " 'Outdoors & Recreation' 'Professional Or Medical Office' 'Shop Or Store'\n",
      " 'Spiritual' 'Travel Or Transport' 'Work']\n",
      "[ 0.86798927  0.94900107  0.78679786  0.93051531  0.96132922  0.9933558\n",
      "  0.93401312  0.78541043  0.99637235  0.99426702  0.89369109] 0.917522050079\n",
      "[ 0.74315842  0.99222479  0.77017064  0.88712614  0.58623036         nan\n",
      "  0.84383486  0.72374576         nan         nan  0.79358807] 0.792509878146\n",
      "------------------\n",
      "72\n"
     ]
    },
    {
     "name": "stderr",
     "output_type": "stream",
     "text": [
      "/usr/local/lib/python3.4/dist-packages/sklearn/metrics/ranking.py:542: UndefinedMetricWarning: No positive samples in y_true, true positive value should be meaningless\n",
      "  UndefinedMetricWarning)\n"
     ]
    },
    {
     "name": "stdout",
     "output_type": "stream",
     "text": [
      "[\"Another's Home\" 'Arts & Entertainment' 'Food' 'Home' 'Nightlife Spot'\n",
      " 'Outdoors & Recreation' 'Professional Or Medical Office' 'Shop Or Store'\n",
      " 'Spiritual' 'Travel Or Transport' 'Work']\n",
      "[ 0.85092543  0.90075167  0.78700873  0.93740827  0.99537975  0.99289773\n",
      "  0.91596317  0.79842884  0.99561043  0.9935946   0.88794376] 0.914173852748\n",
      "[ 0.72998231  0.82560688  0.70396116  0.9126506   0.83086866         nan\n",
      "  0.84119245  0.74296105         nan         nan  0.75071483] 0.792242243722\n",
      "------------------\n",
      "73\n"
     ]
    },
    {
     "name": "stderr",
     "output_type": "stream",
     "text": [
      "/usr/local/lib/python3.4/dist-packages/sklearn/metrics/ranking.py:542: UndefinedMetricWarning: No positive samples in y_true, true positive value should be meaningless\n",
      "  UndefinedMetricWarning)\n"
     ]
    },
    {
     "name": "stdout",
     "output_type": "stream",
     "text": [
      "[\"Another's Home\" 'Arts & Entertainment' 'Food' 'Home' 'Nightlife Spot'\n",
      " 'Outdoors & Recreation' 'Professional Or Medical Office' 'Shop Or Store'\n",
      " 'Spiritual' 'Travel Or Transport' 'Work']\n",
      "[ 0.83765302  0.95184968  0.77204266  0.9382864   0.95376965  0.94729424\n",
      "  0.92285116  0.79176173  0.99565367  0.99520756  0.87458369] 0.907359404486\n",
      "[ 0.69000282  0.49334051  0.75220459  0.86231593  0.99623301         nan\n",
      "  0.80742558  0.73640719         nan         nan  0.79392633] 0.766481994987\n",
      "------------------\n",
      "74\n"
     ]
    },
    {
     "name": "stderr",
     "output_type": "stream",
     "text": [
      "/usr/local/lib/python3.4/dist-packages/sklearn/metrics/ranking.py:542: UndefinedMetricWarning: No positive samples in y_true, true positive value should be meaningless\n",
      "  UndefinedMetricWarning)\n"
     ]
    },
    {
     "name": "stdout",
     "output_type": "stream",
     "text": [
      "[\"Another's Home\" 'Arts & Entertainment' 'Food' 'Home' 'Nightlife Spot'\n",
      " 'Outdoors & Recreation' 'Professional Or Medical Office' 'Shop Or Store'\n",
      " 'Spiritual' 'Travel Or Transport' 'Work']\n",
      "[ 0.85806548  0.93469105  0.79098107  0.94562666  0.97745002  0.94759919\n",
      "  0.92333663  0.78948692  0.99620295  0.99577852  0.90289499] 0.914737587694\n",
      "[ 0.7040262   0.99384292  0.71295191  0.87813847  0.99399219         nan\n",
      "  0.84021045  0.7385875          nan         nan  0.76273867] 0.828061038024\n",
      "------------------\n",
      "75\n"
     ]
    },
    {
     "name": "stderr",
     "output_type": "stream",
     "text": [
      "/usr/local/lib/python3.4/dist-packages/sklearn/metrics/ranking.py:542: UndefinedMetricWarning: No positive samples in y_true, true positive value should be meaningless\n",
      "  UndefinedMetricWarning)\n"
     ]
    },
    {
     "name": "stdout",
     "output_type": "stream",
     "text": [
      "[\"Another's Home\" 'Arts & Entertainment' 'Food' 'Home' 'Nightlife Spot'\n",
      " 'Outdoors & Recreation' 'Professional Or Medical Office' 'Shop Or Store'\n",
      " 'Spiritual' 'Travel Or Transport' 'Work']\n",
      "[ 0.84369344  0.9374071   0.78257585  0.93867758  0.96510803  0.99426533\n",
      "  0.95696651  0.80577876  0.99576271  0.97104372  0.88281483] 0.915826716472\n",
      "[ 0.72034501  0.70563225  0.70740809  0.91091127  0.57690963         nan\n",
      "  0.8669582   0.7579703          nan         nan  0.70755871] 0.744211682686\n",
      "------------------\n",
      "76\n"
     ]
    },
    {
     "name": "stderr",
     "output_type": "stream",
     "text": [
      "/usr/local/lib/python3.4/dist-packages/sklearn/metrics/ranking.py:542: UndefinedMetricWarning: No positive samples in y_true, true positive value should be meaningless\n",
      "  UndefinedMetricWarning)\n"
     ]
    },
    {
     "name": "stdout",
     "output_type": "stream",
     "text": [
      "[\"Another's Home\" 'Arts & Entertainment' 'Food' 'Home' 'Nightlife Spot'\n",
      " 'Outdoors & Recreation' 'Professional Or Medical Office' 'Shop Or Store'\n",
      " 'Spiritual' 'Travel Or Transport' 'Work']\n",
      "[ 0.85632597  0.89468965  0.78033475  0.9362806   0.9700511   0.99284624\n",
      "  0.90879631  0.79043747         nan  0.96885268  0.89380726] 0.899242203533\n",
      "[ 0.71010627  0.99127907  0.69552327  0.9051079   0.8306686          nan\n",
      "  0.85721981  0.76629669         nan         nan  0.76618297] 0.815298072949\n",
      "------------------\n",
      "77\n"
     ]
    },
    {
     "name": "stderr",
     "output_type": "stream",
     "text": [
      "/usr/local/lib/python3.4/dist-packages/sklearn/metrics/ranking.py:542: UndefinedMetricWarning: No positive samples in y_true, true positive value should be meaningless\n",
      "  UndefinedMetricWarning)\n"
     ]
    },
    {
     "name": "stdout",
     "output_type": "stream",
     "text": [
      "[\"Another's Home\" 'Arts & Entertainment' 'Food' 'Home' 'Nightlife Spot'\n",
      " 'Outdoors & Recreation' 'Professional Or Medical Office' 'Shop Or Store'\n",
      " 'Spiritual' 'Travel Or Transport' 'Work']\n",
      "[ 0.85313172  0.89791428  0.78717928  0.93717395  0.99644581  0.94624683\n",
      "  0.9274373   0.79904555  0.99592568  0.95069188  0.89053457] 0.907429714281\n",
      "[ 0.74901242  0.94026918  0.71597461  0.90458523  0.99375761         nan\n",
      "  0.79678155  0.72563997  0.99642205         nan  0.80508373] 0.847502929038\n",
      "------------------\n",
      "78\n"
     ]
    },
    {
     "name": "stderr",
     "output_type": "stream",
     "text": [
      "/usr/local/lib/python3.4/dist-packages/sklearn/metrics/ranking.py:542: UndefinedMetricWarning: No positive samples in y_true, true positive value should be meaningless\n",
      "  UndefinedMetricWarning)\n"
     ]
    },
    {
     "name": "stdout",
     "output_type": "stream",
     "text": [
      "[\"Another's Home\" 'Arts & Entertainment' 'Food' 'Home' 'Nightlife Spot'\n",
      " 'Outdoors & Recreation' 'Professional Or Medical Office' 'Shop Or Store'\n",
      " 'Spiritual' 'Travel Or Transport' 'Work']\n",
      "[ 0.84891963  0.9291986   0.78012222  0.94368342  0.98425299  0.96988789\n",
      "  0.95308006  0.79498168         nan         nan  0.88480082] 0.898769700591\n",
      "[ 0.70203992  0.99585635  0.69109261  0.87623714  0.82772631  0.49471974\n",
      "  0.8510673   0.74753574         nan         nan  0.7331539 ] 0.768825446528\n",
      "------------------\n",
      "79\n"
     ]
    },
    {
     "name": "stderr",
     "output_type": "stream",
     "text": [
      "/usr/local/lib/python3.4/dist-packages/sklearn/metrics/ranking.py:542: UndefinedMetricWarning: No positive samples in y_true, true positive value should be meaningless\n",
      "  UndefinedMetricWarning)\n"
     ]
    },
    {
     "name": "stdout",
     "output_type": "stream",
     "text": [
      "[\"Another's Home\" 'Arts & Entertainment' 'Food' 'Home' 'Nightlife Spot'\n",
      " 'Outdoors & Recreation' 'Professional Or Medical Office' 'Shop Or Store'\n",
      " 'Spiritual' 'Travel Or Transport' 'Work']\n",
      "[ 0.83874954  0.95635286  0.78513273  0.92893595  0.94776422  0.99228091\n",
      "  0.92987149  0.77910429  0.99559442  0.99493854  0.87788735] 0.911510210054\n",
      "[ 0.64622277  0.99478468  0.72141223  0.86078262  0.9224575   0.4920292\n",
      "  0.88143939  0.74512467  0.49620083         nan  0.80279547] 0.756324937416\n",
      "------------------\n",
      "80\n"
     ]
    },
    {
     "name": "stderr",
     "output_type": "stream",
     "text": [
      "/usr/local/lib/python3.4/dist-packages/sklearn/metrics/ranking.py:542: UndefinedMetricWarning: No positive samples in y_true, true positive value should be meaningless\n",
      "  UndefinedMetricWarning)\n"
     ]
    },
    {
     "name": "stdout",
     "output_type": "stream",
     "text": [
      "[\"Another's Home\" 'Arts & Entertainment' 'Food' 'Home' 'Nightlife Spot'\n",
      " 'Outdoors & Recreation' 'Professional Or Medical Office' 'Shop Or Store'\n",
      " 'Spiritual' 'Travel Or Transport' 'Work']\n",
      "[ 0.88138615  0.9149076   0.77388671  0.93727474  0.9963102   0.99177355\n",
      "  0.9421942   0.79231335  0.9956983   0.99411041  0.8728905 ] 0.917522336535\n",
      "[ 0.77757022  0.85320524  0.735839    0.9072594          nan         nan\n",
      "  0.83534463  0.76066432         nan         nan  0.73489193] 0.800682107102\n",
      "------------------\n",
      "81\n"
     ]
    },
    {
     "name": "stderr",
     "output_type": "stream",
     "text": [
      "/usr/local/lib/python3.4/dist-packages/sklearn/metrics/ranking.py:542: UndefinedMetricWarning: No positive samples in y_true, true positive value should be meaningless\n",
      "  UndefinedMetricWarning)\n"
     ]
    },
    {
     "name": "stdout",
     "output_type": "stream",
     "text": [
      "[\"Another's Home\" 'Arts & Entertainment' 'Food' 'Home' 'Nightlife Spot'\n",
      " 'Outdoors & Recreation' 'Professional Or Medical Office' 'Shop Or Store'\n",
      " 'Spiritual' 'Travel Or Transport' 'Work']\n",
      "[ 0.83682946  0.95722963  0.78652633  0.9333142   0.95607394  0.99423986\n",
      "  0.95503105  0.80341937  0.99636836  0.97802466  0.88664041] 0.916699752641\n",
      "[ 0.67270913  0.82617395  0.68305295  0.87583195  0.54666522         nan\n",
      "  0.86143551  0.74268955         nan         nan  0.73259926] 0.742644689034\n",
      "------------------\n",
      "82\n"
     ]
    },
    {
     "name": "stderr",
     "output_type": "stream",
     "text": [
      "/usr/local/lib/python3.4/dist-packages/sklearn/metrics/ranking.py:542: UndefinedMetricWarning: No positive samples in y_true, true positive value should be meaningless\n",
      "  UndefinedMetricWarning)\n"
     ]
    },
    {
     "name": "stdout",
     "output_type": "stream",
     "text": [
      "[\"Another's Home\" 'Arts & Entertainment' 'Food' 'Home' 'Nightlife Spot'\n",
      " 'Outdoors & Recreation' 'Professional Or Medical Office' 'Shop Or Store'\n",
      " 'Spiritual' 'Travel Or Transport' 'Work']\n",
      "[ 0.84221031  0.92242023  0.76529447  0.9429605   0.96199377  0.97283325\n",
      "  0.91454061  0.79440327  0.99507275  0.99349234  0.89480825] 0.909093612893\n",
      "[ 0.64440058  0.99381716  0.7526725   0.8496377   0.62242382  0.49367275\n",
      "  0.82769874  0.74507759         nan         nan  0.79277411] 0.746908327922\n",
      "------------------\n",
      "83\n"
     ]
    },
    {
     "name": "stderr",
     "output_type": "stream",
     "text": [
      "/usr/local/lib/python3.4/dist-packages/sklearn/metrics/ranking.py:542: UndefinedMetricWarning: No positive samples in y_true, true positive value should be meaningless\n",
      "  UndefinedMetricWarning)\n"
     ]
    },
    {
     "name": "stdout",
     "output_type": "stream",
     "text": [
      "[\"Another's Home\" 'Arts & Entertainment' 'Food' 'Home' 'Nightlife Spot'\n",
      " 'Outdoors & Recreation' 'Professional Or Medical Office' 'Shop Or Store'\n",
      " 'Spiritual' 'Travel Or Transport' 'Work']\n",
      "[ 0.84483754  0.93842831  0.78067241  0.93856664  0.99560069  0.96435497\n",
      "  0.93777902  0.79866235  0.99643329  0.99438647  0.89871247] 0.917130379405\n",
      "[ 0.6156712   0.82626828  0.70581529  0.90151948         nan         nan\n",
      "  0.81004593  0.75714941         nan         nan  0.80003835] 0.773786848998\n",
      "------------------\n",
      "84\n"
     ]
    },
    {
     "name": "stderr",
     "output_type": "stream",
     "text": [
      "/usr/local/lib/python3.4/dist-packages/sklearn/metrics/ranking.py:542: UndefinedMetricWarning: No positive samples in y_true, true positive value should be meaningless\n",
      "  UndefinedMetricWarning)\n"
     ]
    },
    {
     "name": "stdout",
     "output_type": "stream",
     "text": [
      "[\"Another's Home\" 'Arts & Entertainment' 'Food' 'Home' 'Nightlife Spot'\n",
      " 'Outdoors & Recreation' 'Professional Or Medical Office' 'Shop Or Store'\n",
      " 'Spiritual' 'Travel Or Transport' 'Work']\n",
      "[ 0.83488925  0.94394993  0.78441427  0.93104853  0.95333624  0.94927956\n",
      "  0.95557309  0.7879275   0.99542496  0.96681647  0.8971873 ] 0.909077008361\n",
      "[ 0.74562697  0.86802836  0.73112024  0.89200158  0.49639498         nan\n",
      "  0.80333857  0.77265947         nan         nan  0.77847899] 0.760956146747\n",
      "------------------\n",
      "85\n"
     ]
    },
    {
     "name": "stderr",
     "output_type": "stream",
     "text": [
      "/usr/local/lib/python3.4/dist-packages/sklearn/metrics/ranking.py:542: UndefinedMetricWarning: No positive samples in y_true, true positive value should be meaningless\n",
      "  UndefinedMetricWarning)\n"
     ]
    },
    {
     "name": "stdout",
     "output_type": "stream",
     "text": [
      "[\"Another's Home\" 'Arts & Entertainment' 'Food' 'Home' 'Nightlife Spot'\n",
      " 'Outdoors & Recreation' 'Professional Or Medical Office' 'Shop Or Store'\n",
      " 'Spiritual' 'Travel Or Transport' 'Work']\n",
      "[ 0.85964427  0.92069834  0.78663168  0.92875891  0.99577254  0.99310862\n",
      "  0.92493428  0.80604885  0.99610895  0.99553145  0.88822551] 0.917769399207\n",
      "[ 0.67469454  0.49312242  0.66045833  0.89266152         nan  0.4909216\n",
      "  0.82260372  0.73448601         nan         nan  0.80460102] 0.696693644553\n",
      "------------------\n",
      "86\n"
     ]
    },
    {
     "name": "stderr",
     "output_type": "stream",
     "text": [
      "/usr/local/lib/python3.4/dist-packages/sklearn/metrics/ranking.py:542: UndefinedMetricWarning: No positive samples in y_true, true positive value should be meaningless\n",
      "  UndefinedMetricWarning)\n"
     ]
    },
    {
     "name": "stdout",
     "output_type": "stream",
     "text": [
      "[\"Another's Home\" 'Arts & Entertainment' 'Food' 'Home' 'Nightlife Spot'\n",
      " 'Outdoors & Recreation' 'Professional Or Medical Office' 'Shop Or Store'\n",
      " 'Spiritual' 'Travel Or Transport' 'Work']\n",
      "[ 0.84950633  0.9412895   0.78902172  0.93920191  0.95783609  0.99281854\n",
      "  0.9202773   0.79160778  0.996056    0.99470542  0.87698231] 0.913572990908\n",
      "[ 0.65996976  0.7433121   0.73585705  0.89495323  0.99611762         nan\n",
      "  0.84535717  0.72475141         nan         nan  0.7911756 ] 0.798936742125\n",
      "------------------\n",
      "87\n"
     ]
    },
    {
     "name": "stderr",
     "output_type": "stream",
     "text": [
      "/usr/local/lib/python3.4/dist-packages/sklearn/metrics/ranking.py:542: UndefinedMetricWarning: No positive samples in y_true, true positive value should be meaningless\n",
      "  UndefinedMetricWarning)\n"
     ]
    },
    {
     "name": "stdout",
     "output_type": "stream",
     "text": [
      "[\"Another's Home\" 'Arts & Entertainment' 'Food' 'Home' 'Nightlife Spot'\n",
      " 'Outdoors & Recreation' 'Professional Or Medical Office' 'Shop Or Store'\n",
      " 'Spiritual' 'Travel Or Transport' 'Work']\n",
      "[ 0.86119131  0.93575791  0.79981263  0.94103757  0.97904986  0.99377513\n",
      "  0.93036816  0.77869043  0.99561831  0.96886642  0.88191116] 0.915098079001\n",
      "[ 0.73643701  0.74147072  0.72750483  0.88495689  0.54793783         nan\n",
      "  0.87303774  0.75162151         nan         nan  0.75431402] 0.752160069203\n",
      "------------------\n",
      "88\n"
     ]
    },
    {
     "name": "stderr",
     "output_type": "stream",
     "text": [
      "/usr/local/lib/python3.4/dist-packages/sklearn/metrics/ranking.py:542: UndefinedMetricWarning: No positive samples in y_true, true positive value should be meaningless\n",
      "  UndefinedMetricWarning)\n"
     ]
    },
    {
     "name": "stdout",
     "output_type": "stream",
     "text": [
      "[\"Another's Home\" 'Arts & Entertainment' 'Food' 'Home' 'Nightlife Spot'\n",
      " 'Outdoors & Recreation' 'Professional Or Medical Office' 'Shop Or Store'\n",
      " 'Spiritual' 'Travel Or Transport' 'Work']\n",
      "[ 0.85342572  0.90773047  0.76822452  0.92755354  0.99582902  0.99159357\n",
      "  0.91689565  0.79022912  0.99598271  0.99348435  0.88158039] 0.911139005263\n",
      "[ 0.74229109  0.77925504  0.70399985  0.93100325         nan  0.57887636\n",
      "  0.89601961  0.78899624         nan         nan  0.8122121 ] 0.779081694439\n",
      "------------------\n",
      "89\n"
     ]
    },
    {
     "name": "stderr",
     "output_type": "stream",
     "text": [
      "/usr/local/lib/python3.4/dist-packages/sklearn/metrics/ranking.py:542: UndefinedMetricWarning: No positive samples in y_true, true positive value should be meaningless\n",
      "  UndefinedMetricWarning)\n"
     ]
    },
    {
     "name": "stdout",
     "output_type": "stream",
     "text": [
      "[\"Another's Home\" 'Arts & Entertainment' 'Food' 'Home' 'Nightlife Spot'\n",
      " 'Outdoors & Recreation' 'Professional Or Medical Office' 'Shop Or Store'\n",
      " 'Spiritual' 'Travel Or Transport' 'Work']\n",
      "[ 0.84475932  0.87716809  0.78746804  0.93267987  0.98056576  0.9722231\n",
      "  0.90162725  0.79340206  0.99648066  0.99378882  0.87656808] 0.905157368141\n",
      "[ 0.78110774  0.87899375  0.7262398   0.91735013  0.74471373         nan\n",
      "  0.82089674  0.76861732         nan         nan  0.76950464] 0.800927981765\n",
      "------------------\n",
      "90\n"
     ]
    },
    {
     "name": "stderr",
     "output_type": "stream",
     "text": [
      "/usr/local/lib/python3.4/dist-packages/sklearn/metrics/ranking.py:542: UndefinedMetricWarning: No positive samples in y_true, true positive value should be meaningless\n",
      "  UndefinedMetricWarning)\n"
     ]
    },
    {
     "name": "stdout",
     "output_type": "stream",
     "text": [
      "[\"Another's Home\" 'Arts & Entertainment' 'Food' 'Home' 'Nightlife Spot'\n",
      " 'Outdoors & Recreation' 'Professional Or Medical Office' 'Shop Or Store'\n",
      " 'Spiritual' 'Travel Or Transport' 'Work']\n",
      "[ 0.83052789  0.88488264  0.78561082  0.93379004  0.9527487   0.96621894\n",
      "  0.90875717  0.79864144  0.99689184  0.99471174  0.88440532] 0.903380595136\n",
      "[ 0.62687225  0.68052013  0.75054777  0.88880189  0.9952381   0.49215502\n",
      "  0.83398786  0.73634091  0.99269143         nan  0.81485222] 0.781200758256\n",
      "------------------\n",
      "91\n"
     ]
    },
    {
     "name": "stderr",
     "output_type": "stream",
     "text": [
      "/usr/local/lib/python3.4/dist-packages/sklearn/metrics/ranking.py:542: UndefinedMetricWarning: No positive samples in y_true, true positive value should be meaningless\n",
      "  UndefinedMetricWarning)\n"
     ]
    },
    {
     "name": "stdout",
     "output_type": "stream",
     "text": [
      "[\"Another's Home\" 'Arts & Entertainment' 'Food' 'Home' 'Nightlife Spot'\n",
      " 'Outdoors & Recreation' 'Professional Or Medical Office' 'Shop Or Store'\n",
      " 'Spiritual' 'Travel Or Transport' 'Work']\n",
      "[ 0.85256801  0.81208182  0.78614229  0.94386764  0.9964636   0.99159327\n",
      "  0.92351013  0.78771462  0.99666422         nan  0.8946317 ] 0.898523730886\n",
      "[ 0.71304158  0.93020758  0.72353702  0.88559815  0.74264175         nan\n",
      "  0.85434619  0.75436137         nan         nan  0.73157073] 0.791913048684\n",
      "------------------\n",
      "92\n"
     ]
    },
    {
     "name": "stderr",
     "output_type": "stream",
     "text": [
      "/usr/local/lib/python3.4/dist-packages/sklearn/metrics/ranking.py:542: UndefinedMetricWarning: No positive samples in y_true, true positive value should be meaningless\n",
      "  UndefinedMetricWarning)\n"
     ]
    },
    {
     "name": "stdout",
     "output_type": "stream",
     "text": [
      "[\"Another's Home\" 'Arts & Entertainment' 'Food' 'Home' 'Nightlife Spot'\n",
      " 'Outdoors & Recreation' 'Professional Or Medical Office' 'Shop Or Store'\n",
      " 'Spiritual' 'Travel Or Transport' 'Work']\n",
      "[ 0.83050943  0.91595374  0.78853191  0.93998391  0.97959939  0.95412796\n",
      "  0.9433891   0.79421103  0.99611682  0.99487048  0.88842895] 0.911429337437\n",
      "[ 0.6726295   0.71740846  0.69745476  0.89156732  0.99456179         nan\n",
      "  0.80529237  0.72850624         nan         nan  0.77821066] 0.785703887667\n",
      "------------------\n",
      "93\n"
     ]
    },
    {
     "name": "stderr",
     "output_type": "stream",
     "text": [
      "/usr/local/lib/python3.4/dist-packages/sklearn/metrics/ranking.py:542: UndefinedMetricWarning: No positive samples in y_true, true positive value should be meaningless\n",
      "  UndefinedMetricWarning)\n"
     ]
    },
    {
     "name": "stdout",
     "output_type": "stream",
     "text": [
      "[\"Another's Home\" 'Arts & Entertainment' 'Food' 'Home' 'Nightlife Spot'\n",
      " 'Outdoors & Recreation' 'Professional Or Medical Office' 'Shop Or Store'\n",
      " 'Spiritual' 'Travel Or Transport' 'Work']\n",
      "[ 0.8504444   0.99498435  0.79457597  0.9383955   0.95121937  0.967901\n",
      "  0.91720337  0.8003646   0.99638354         nan  0.90364216] 0.911511425193\n",
      "[ 0.68612677  0.98934139  0.74912315  0.87646759  0.99164545         nan\n",
      "  0.84190639  0.71709348         nan         nan  0.79496495] 0.830833647524\n",
      "------------------\n",
      "94\n"
     ]
    },
    {
     "name": "stderr",
     "output_type": "stream",
     "text": [
      "/usr/local/lib/python3.4/dist-packages/sklearn/metrics/ranking.py:542: UndefinedMetricWarning: No positive samples in y_true, true positive value should be meaningless\n",
      "  UndefinedMetricWarning)\n"
     ]
    },
    {
     "name": "stdout",
     "output_type": "stream",
     "text": [
      "[\"Another's Home\" 'Arts & Entertainment' 'Food' 'Home' 'Nightlife Spot'\n",
      " 'Outdoors & Recreation' 'Professional Or Medical Office' 'Shop Or Store'\n",
      " 'Spiritual' 'Travel Or Transport' 'Work']\n",
      "[ 0.85898337  0.91352098  0.77632052  0.93977329  0.97540441  0.99309515\n",
      "  0.95678067  0.80223524         nan  0.9950909   0.89011659] 0.910132110199\n",
      "[ 0.8012342   0.592913    0.69359996  0.88476302         nan         nan\n",
      "  0.86370922  0.7220569          nan         nan  0.76669146] 0.760709680805\n",
      "------------------\n",
      "95\n"
     ]
    },
    {
     "name": "stderr",
     "output_type": "stream",
     "text": [
      "/usr/local/lib/python3.4/dist-packages/sklearn/metrics/ranking.py:542: UndefinedMetricWarning: No positive samples in y_true, true positive value should be meaningless\n",
      "  UndefinedMetricWarning)\n"
     ]
    },
    {
     "name": "stdout",
     "output_type": "stream",
     "text": [
      "[\"Another's Home\" 'Arts & Entertainment' 'Food' 'Home' 'Nightlife Spot'\n",
      " 'Outdoors & Recreation' 'Professional Or Medical Office' 'Shop Or Store'\n",
      " 'Spiritual' 'Travel Or Transport' 'Work']\n",
      "[ 0.86380204  0.9275818   0.78296706  0.94578316  0.94751392  0.95565205\n",
      "  0.9062849   0.79036977  0.99572868  0.99480561  0.88977159] 0.90911459626\n",
      "[ 0.69547298  0.83829691  0.73200092  0.87467515  0.99368     0.4944\n",
      "  0.76461363  0.73940181         nan         nan  0.76362731] 0.766240968754\n",
      "------------------\n",
      "96\n"
     ]
    },
    {
     "name": "stderr",
     "output_type": "stream",
     "text": [
      "/usr/local/lib/python3.4/dist-packages/sklearn/metrics/ranking.py:542: UndefinedMetricWarning: No positive samples in y_true, true positive value should be meaningless\n",
      "  UndefinedMetricWarning)\n"
     ]
    },
    {
     "name": "stdout",
     "output_type": "stream",
     "text": [
      "[\"Another's Home\" 'Arts & Entertainment' 'Food' 'Home' 'Nightlife Spot'\n",
      " 'Outdoors & Recreation' 'Professional Or Medical Office' 'Shop Or Store'\n",
      " 'Spiritual' 'Travel Or Transport' 'Work']\n",
      "[ 0.8489481   0.91114671  0.77461638  0.93111773  0.96855028  0.99249715\n",
      "  0.9318597   0.78941165  0.99592005         nan  0.89812631] 0.904219406265\n",
      "[ 0.76731736  0.74363473  0.74746227  0.89894176  0.74738861         nan\n",
      "  0.81020266  0.74864247  0.99412533         nan  0.79428174] 0.805777437059\n",
      "------------------\n",
      "97\n"
     ]
    },
    {
     "name": "stderr",
     "output_type": "stream",
     "text": [
      "/usr/local/lib/python3.4/dist-packages/sklearn/metrics/ranking.py:542: UndefinedMetricWarning: No positive samples in y_true, true positive value should be meaningless\n",
      "  UndefinedMetricWarning)\n"
     ]
    },
    {
     "name": "stdout",
     "output_type": "stream",
     "text": [
      "[\"Another's Home\" 'Arts & Entertainment' 'Food' 'Home' 'Nightlife Spot'\n",
      " 'Outdoors & Recreation' 'Professional Or Medical Office' 'Shop Or Store'\n",
      " 'Spiritual' 'Travel Or Transport' 'Work']\n",
      "[ 0.84686521  0.94720344  0.79178411  0.93915208  0.95559235  0.97188175\n",
      "  0.91785756  0.79363181  0.9962479   0.9952821   0.902502  ] 0.914363664797\n",
      "[ 0.67085634  0.69364341  0.72307513  0.88828609  0.74628253  0.49411674\n",
      "  0.72925841  0.75039138  0.99496826         nan  0.76158399] 0.745246228829\n",
      "------------------\n",
      "98\n"
     ]
    },
    {
     "name": "stderr",
     "output_type": "stream",
     "text": [
      "/usr/local/lib/python3.4/dist-packages/sklearn/metrics/ranking.py:542: UndefinedMetricWarning: No positive samples in y_true, true positive value should be meaningless\n",
      "  UndefinedMetricWarning)\n"
     ]
    },
    {
     "name": "stdout",
     "output_type": "stream",
     "text": [
      "[\"Another's Home\" 'Arts & Entertainment' 'Food' 'Home' 'Nightlife Spot'\n",
      " 'Outdoors & Recreation' 'Professional Or Medical Office' 'Shop Or Store'\n",
      " 'Spiritual' 'Travel Or Transport' 'Work']\n",
      "[ 0.83069671  0.92234466  0.78159111  0.93689927  0.95662208  0.99191392\n",
      "  0.94453749  0.7930574   0.99543528  0.99466042  0.89918293] 0.913358297548\n",
      "[ 0.61764309  0.99339307  0.75686324  0.88558457  0.51770929         nan\n",
      "  0.85200298  0.73945452         nan         nan  0.79841107] 0.770132728463\n",
      "------------------\n",
      "99\n",
      "[\"Another's Home\" 'Arts & Entertainment' 'Food' 'Home' 'Nightlife Spot'\n",
      " 'Outdoors & Recreation' 'Professional Or Medical Office' 'Shop Or Store'\n",
      " 'Spiritual' 'Travel Or Transport' 'Work']\n",
      "[ 0.83586687  0.89935049  0.77510045  0.9303994   0.99600057  0.94997081\n",
      "  0.9349086   0.79908111  0.99700257  0.9701879   0.86753033] 0.905036282507\n",
      "[ 0.66583043  0.71949994  0.72133429  0.86732408         nan  0.49400782\n",
      "  0.82360018  0.74035078         nan         nan  0.77123727] 0.725398099218\n"
     ]
    },
    {
     "name": "stderr",
     "output_type": "stream",
     "text": [
      "/usr/local/lib/python3.4/dist-packages/sklearn/metrics/ranking.py:542: UndefinedMetricWarning: No positive samples in y_true, true positive value should be meaningless\n",
      "  UndefinedMetricWarning)\n"
     ]
    }
   ],
   "source": [
    "import os\n",
    "import pickle\n",
    "import pandas as pd\n",
    "import numpy as np\n",
    "import xgboost as xgb\n",
    "from calculate_confusion_matrix import calculate_confusion_matrix\n",
    "import time\n",
    "from copy import deepcopy\n",
    "from utils import one_hot_encoder\n",
    "\n",
    "save_results = True\n",
    "do_stratify = False\n",
    "\n",
    "n_boot = 100\n",
    "split = 0.7\n",
    "np.random.seed(seed=0)\n",
    "\n",
    "ft_dir = 'features_long/'\n",
    "\n",
    "# list feature files\n",
    "# files = os.listdir(ft_dir)\n",
    "# files.remove('1515656.dat')\n",
    "# print('subject 1515656 removed due to spoofed gps.')\n",
    "\n",
    "# reading top locations\n",
    "with open('top_locations.dat', 'rb') as f:\n",
    "    location_top = pickle.load(f)\n",
    "f.close()\n",
    "\n",
    "feature_all = []\n",
    "target_all = []\n",
    "\n",
    "for filename in files:\n",
    "    with open(ft_dir+filename, 'rb') as f:  \n",
    "        feature, target = pickle.load(f)\n",
    "\n",
    "        # only keeping locations in location_top\n",
    "        ind = np.array([], int)\n",
    "        for (i,loc) in enumerate(target['location']):\n",
    "            if loc in location_top:\n",
    "                ind = np.append(ind, i)\n",
    "        feature = feature.loc[ind,:]\n",
    "        target = target.loc[ind]\n",
    "        feature = feature.reset_index(drop=True)\n",
    "        target = target.reset_index(drop=True)\n",
    "        \n",
    "        feature_all.append(feature)\n",
    "        target_all.append(target)\n",
    "        \n",
    "    f.close()\n",
    "\n",
    "confs = []\n",
    "aucs = []\n",
    "labels = []\n",
    "inds = np.arange(0,len(feature_all),1)\n",
    "inds_split = int(np.floor(split*len(feature_all)))\n",
    "\n",
    "for i in range(n_boot):\n",
    "    \n",
    "    print('------------------')\n",
    "    print(i)\n",
    "#     if i==6:\n",
    "#         print 'subject skipped because of lack of data'\n",
    "#         continue\n",
    "    \n",
    "    # training set\n",
    "    np.random.shuffle(inds)\n",
    "    ind_train = inds[:inds_split]\n",
    "    ind_test = inds[inds_split:]\n",
    "    \n",
    "    x_train = pd.concat([feature_all[j] for j in ind_train], axis=0)\n",
    "    y_train = pd.concat([target_all[j]['location'] for j in ind_train], axis=0)\n",
    "    x_train = x_train.reset_index(drop=True)\n",
    "    y_train = y_train.reset_index(drop=True)\n",
    "    \n",
    "    # test set\n",
    "    x_test = pd.concat([feature_all[j] for j in ind_test], axis=0)\n",
    "    y_test = pd.concat([target_all[j]['location'] for j in ind_test], axis=0)\n",
    "    x_test = x_test.reset_index(drop=True)\n",
    "    y_test = y_test.reset_index(drop=True)\n",
    "    \n",
    "    # remove foursquare features\n",
    "#     x_train = x_train.drop(['fsq 0','fsq 1','fsq 2','fsq 3','fsq 4','fsq 5','fsq 6','fsq 7','fsq 8','fsq distance'],axis=1)\n",
    "#     x_test = x_test.drop(['fsq 0','fsq 1','fsq 2','fsq 3','fsq 4','fsq 5','fsq 6','fsq 7','fsq 8','fsq distance'],axis=1)\n",
    "#     x_train = x_train.reset_index(drop=True)\n",
    "#     x_test = x_test.reset_index(drop=True)\n",
    "    \n",
    "    # model (sensor)\n",
    "#     gbm = xgb.XGBClassifier(max_depth=6, n_estimators=50, learning_rate=0.05, nthread=12, subsample=0.25, \\\n",
    "#                         colsample_bytree=0.5, max_delta_step=0, gamma=3, objective='mlogloss', reg_alpha=0.5, \\\n",
    "#                         missing=np.nan)\n",
    "    # model (sensor + foursquare)\n",
    "    gbm = xgb.XGBClassifier(max_depth=6, n_estimators=75, learning_rate=0.05, nthread=12, subsample=0.25, \\\n",
    "                        colsample_bytree=0.2, max_delta_step=0, gamma=3, objective='mlogloss', reg_alpha=0.5, \\\n",
    "                        missing=np.nan)\n",
    "    \n",
    "    # fitting model\n",
    "#     gbm.fit(x_train, y_train, eval_set=[(x_train,y_train),(x_test, y_test)], eval_metric='mlogloss', verbose=True)\n",
    "#     print gbm.evals_result()\n",
    "    gbm.fit(x_train, y_train)\n",
    "    \n",
    "    # training performance\n",
    "    y_pred = gbm.predict(x_train)\n",
    "    conf_train, roc_auc_train = calculate_confusion_matrix(y_pred, y_train)\n",
    "\n",
    "    # test\n",
    "    y_pred = gbm.predict(x_test)\n",
    "    conf, roc_auc = calculate_confusion_matrix(y_pred, y_test)\n",
    "    \n",
    "    labels.append(np.unique(y_test))\n",
    "    confs.append(conf)\n",
    "    aucs.append(roc_auc)\n",
    "\n",
    "    print(np.unique(y_test))\n",
    "    print(roc_auc_train, np.nanmean(roc_auc_train))\n",
    "    print(roc_auc, np.nanmean(roc_auc))\n",
    "\n",
    "# saving the results\n",
    "if save_results:\n",
    "    with open('auc_location_new_10fold3_1515656removed.dat','wb') as f:\n",
    "        pickle.dump([aucs, confs, labels], f)\n",
    "    f.close()\n"
   ]
  },
  {
   "cell_type": "code",
   "execution_count": 13,
   "metadata": {},
   "outputs": [
    {
     "data": {
      "text/html": [
       "<div>\n",
       "<table border=\"1\" class=\"dataframe\">\n",
       "  <thead>\n",
       "    <tr style=\"text-align: right;\">\n",
       "      <th></th>\n",
       "      <th>location</th>\n",
       "      <th>reason</th>\n",
       "      <th>accomplishment</th>\n",
       "      <th>pleasure</th>\n",
       "      <th>fsq</th>\n",
       "    </tr>\n",
       "  </thead>\n",
       "  <tbody>\n",
       "    <tr>\n",
       "      <th>0</th>\n",
       "      <td>Another's Home</td>\n",
       "      <td>socialize</td>\n",
       "      <td>6.0</td>\n",
       "      <td>6.0</td>\n",
       "      <td>Unknown</td>\n",
       "    </tr>\n",
       "    <tr>\n",
       "      <th>1</th>\n",
       "      <td>Home</td>\n",
       "      <td>home</td>\n",
       "      <td>7.0</td>\n",
       "      <td>7.0</td>\n",
       "      <td>Outdoors &amp; Recreation</td>\n",
       "    </tr>\n",
       "    <tr>\n",
       "      <th>2</th>\n",
       "      <td>Home</td>\n",
       "      <td>home</td>\n",
       "      <td>0.0</td>\n",
       "      <td>3.0</td>\n",
       "      <td>Outdoors &amp; Recreation</td>\n",
       "    </tr>\n",
       "    <tr>\n",
       "      <th>3</th>\n",
       "      <td>Shop Or Store</td>\n",
       "      <td>errand</td>\n",
       "      <td>4.0</td>\n",
       "      <td>4.0</td>\n",
       "      <td>Professional or Medical Office</td>\n",
       "    </tr>\n",
       "    <tr>\n",
       "      <th>4</th>\n",
       "      <td>Home</td>\n",
       "      <td>home</td>\n",
       "      <td>6.0</td>\n",
       "      <td>9.0</td>\n",
       "      <td>Outdoors &amp; Recreation</td>\n",
       "    </tr>\n",
       "    <tr>\n",
       "      <th>5</th>\n",
       "      <td>Home</td>\n",
       "      <td>home</td>\n",
       "      <td>8.0</td>\n",
       "      <td>7.0</td>\n",
       "      <td>Outdoors &amp; Recreation</td>\n",
       "    </tr>\n",
       "    <tr>\n",
       "      <th>6</th>\n",
       "      <td>Home</td>\n",
       "      <td>home</td>\n",
       "      <td>6.0</td>\n",
       "      <td>9.0</td>\n",
       "      <td>Outdoors &amp; Recreation</td>\n",
       "    </tr>\n",
       "    <tr>\n",
       "      <th>7</th>\n",
       "      <td>Home</td>\n",
       "      <td>home</td>\n",
       "      <td>2.0</td>\n",
       "      <td>6.0</td>\n",
       "      <td>Outdoors &amp; Recreation</td>\n",
       "    </tr>\n",
       "    <tr>\n",
       "      <th>8</th>\n",
       "      <td>Home</td>\n",
       "      <td>home</td>\n",
       "      <td>9.0</td>\n",
       "      <td>7.0</td>\n",
       "      <td>Outdoors &amp; Recreation</td>\n",
       "    </tr>\n",
       "    <tr>\n",
       "      <th>9</th>\n",
       "      <td>Home</td>\n",
       "      <td>home</td>\n",
       "      <td>8.0</td>\n",
       "      <td>9.0</td>\n",
       "      <td>Outdoors &amp; Recreation</td>\n",
       "    </tr>\n",
       "    <tr>\n",
       "      <th>10</th>\n",
       "      <td>Home</td>\n",
       "      <td>home</td>\n",
       "      <td>9.0</td>\n",
       "      <td>9.0</td>\n",
       "      <td>Outdoors &amp; Recreation</td>\n",
       "    </tr>\n",
       "    <tr>\n",
       "      <th>11</th>\n",
       "      <td>Home</td>\n",
       "      <td>home</td>\n",
       "      <td>6.0</td>\n",
       "      <td>9.0</td>\n",
       "      <td>Outdoors &amp; Recreation</td>\n",
       "    </tr>\n",
       "    <tr>\n",
       "      <th>12</th>\n",
       "      <td>Home</td>\n",
       "      <td>home</td>\n",
       "      <td>1.0</td>\n",
       "      <td>9.0</td>\n",
       "      <td>Outdoors &amp; Recreation</td>\n",
       "    </tr>\n",
       "    <tr>\n",
       "      <th>13</th>\n",
       "      <td>Home</td>\n",
       "      <td>home</td>\n",
       "      <td>4.0</td>\n",
       "      <td>9.0</td>\n",
       "      <td>Outdoors &amp; Recreation</td>\n",
       "    </tr>\n",
       "    <tr>\n",
       "      <th>14</th>\n",
       "      <td>Home</td>\n",
       "      <td>home</td>\n",
       "      <td>6.0</td>\n",
       "      <td>9.0</td>\n",
       "      <td>Outdoors &amp; Recreation</td>\n",
       "    </tr>\n",
       "    <tr>\n",
       "      <th>15</th>\n",
       "      <td>Shop Or Store</td>\n",
       "      <td>errand</td>\n",
       "      <td>9.0</td>\n",
       "      <td>4.0</td>\n",
       "      <td>Shop or Store</td>\n",
       "    </tr>\n",
       "    <tr>\n",
       "      <th>16</th>\n",
       "      <td>Home</td>\n",
       "      <td>home</td>\n",
       "      <td>9.0</td>\n",
       "      <td>7.0</td>\n",
       "      <td>Outdoors &amp; Recreation</td>\n",
       "    </tr>\n",
       "    <tr>\n",
       "      <th>17</th>\n",
       "      <td>Home</td>\n",
       "      <td>home</td>\n",
       "      <td>1.0</td>\n",
       "      <td>6.0</td>\n",
       "      <td>Outdoors &amp; Recreation</td>\n",
       "    </tr>\n",
       "    <tr>\n",
       "      <th>18</th>\n",
       "      <td>Home</td>\n",
       "      <td>home</td>\n",
       "      <td>0.0</td>\n",
       "      <td>3.0</td>\n",
       "      <td>Outdoors &amp; Recreation</td>\n",
       "    </tr>\n",
       "    <tr>\n",
       "      <th>19</th>\n",
       "      <td>Home</td>\n",
       "      <td>home</td>\n",
       "      <td>4.0</td>\n",
       "      <td>8.0</td>\n",
       "      <td>Outdoors &amp; Recreation</td>\n",
       "    </tr>\n",
       "    <tr>\n",
       "      <th>20</th>\n",
       "      <td>Home</td>\n",
       "      <td>home</td>\n",
       "      <td>6.0</td>\n",
       "      <td>9.0</td>\n",
       "      <td>Outdoors &amp; Recreation</td>\n",
       "    </tr>\n",
       "    <tr>\n",
       "      <th>21</th>\n",
       "      <td>Home</td>\n",
       "      <td>home</td>\n",
       "      <td>6.0</td>\n",
       "      <td>9.0</td>\n",
       "      <td>Outdoors &amp; Recreation</td>\n",
       "    </tr>\n",
       "    <tr>\n",
       "      <th>22</th>\n",
       "      <td>Home</td>\n",
       "      <td>home</td>\n",
       "      <td>6.0</td>\n",
       "      <td>8.0</td>\n",
       "      <td>Outdoors &amp; Recreation</td>\n",
       "    </tr>\n",
       "    <tr>\n",
       "      <th>23</th>\n",
       "      <td>Home</td>\n",
       "      <td>home</td>\n",
       "      <td>4.0</td>\n",
       "      <td>9.0</td>\n",
       "      <td>Outdoors &amp; Recreation</td>\n",
       "    </tr>\n",
       "  </tbody>\n",
       "</table>\n",
       "</div>"
      ],
      "text/plain": [
       "          location     reason  accomplishment  pleasure  \\\n",
       "0   Another's Home  socialize             6.0       6.0   \n",
       "1             Home       home             7.0       7.0   \n",
       "2             Home       home             0.0       3.0   \n",
       "3    Shop Or Store     errand             4.0       4.0   \n",
       "4             Home       home             6.0       9.0   \n",
       "5             Home       home             8.0       7.0   \n",
       "6             Home       home             6.0       9.0   \n",
       "7             Home       home             2.0       6.0   \n",
       "8             Home       home             9.0       7.0   \n",
       "9             Home       home             8.0       9.0   \n",
       "10            Home       home             9.0       9.0   \n",
       "11            Home       home             6.0       9.0   \n",
       "12            Home       home             1.0       9.0   \n",
       "13            Home       home             4.0       9.0   \n",
       "14            Home       home             6.0       9.0   \n",
       "15   Shop Or Store     errand             9.0       4.0   \n",
       "16            Home       home             9.0       7.0   \n",
       "17            Home       home             1.0       6.0   \n",
       "18            Home       home             0.0       3.0   \n",
       "19            Home       home             4.0       8.0   \n",
       "20            Home       home             6.0       9.0   \n",
       "21            Home       home             6.0       9.0   \n",
       "22            Home       home             6.0       8.0   \n",
       "23            Home       home             4.0       9.0   \n",
       "\n",
       "                               fsq  \n",
       "0                          Unknown  \n",
       "1            Outdoors & Recreation  \n",
       "2            Outdoors & Recreation  \n",
       "3   Professional or Medical Office  \n",
       "4            Outdoors & Recreation  \n",
       "5            Outdoors & Recreation  \n",
       "6            Outdoors & Recreation  \n",
       "7            Outdoors & Recreation  \n",
       "8            Outdoors & Recreation  \n",
       "9            Outdoors & Recreation  \n",
       "10           Outdoors & Recreation  \n",
       "11           Outdoors & Recreation  \n",
       "12           Outdoors & Recreation  \n",
       "13           Outdoors & Recreation  \n",
       "14           Outdoors & Recreation  \n",
       "15                   Shop or Store  \n",
       "16           Outdoors & Recreation  \n",
       "17           Outdoors & Recreation  \n",
       "18           Outdoors & Recreation  \n",
       "19           Outdoors & Recreation  \n",
       "20           Outdoors & Recreation  \n",
       "21           Outdoors & Recreation  \n",
       "22           Outdoors & Recreation  \n",
       "23           Outdoors & Recreation  "
      ]
     },
     "execution_count": 13,
     "metadata": {},
     "output_type": "execute_result"
    }
   ],
   "source": [
    "target_all[30]"
   ]
  },
  {
   "cell_type": "code",
   "execution_count": 14,
   "metadata": {},
   "outputs": [
    {
     "data": {
      "text/plain": [
       "array(['Travel Or Transport (Airport, Bus Stop, Train Station, Etc.)',\n",
       "       'Nightlife Spot (Bar, Club)', 'Spiritual (Church, Temple, Etc.)',\n",
       "       'Outdoors & Recreation',\n",
       "       'Arts & Entertainment (Theater, Music Venue, Etc.)', 'Work',\n",
       "       'Professional Or Medical Office', \"Another's Home\",\n",
       "       'Food (Restaurant, Cafe)', 'Home', 'Shop Or Store'], \n",
       "      dtype='<U60')"
      ]
     },
     "execution_count": 14,
     "metadata": {},
     "output_type": "execute_result"
    }
   ],
   "source": [
    "location_top"
   ]
  }
 ],
 "metadata": {
  "anaconda-cloud": {},
  "kernelspec": {
   "display_name": "Python 3",
   "language": "python",
   "name": "python3"
  },
  "language_info": {
   "codemirror_mode": {
    "name": "ipython",
    "version": 3
   },
   "file_extension": ".py",
   "mimetype": "text/x-python",
   "name": "python",
   "nbconvert_exporter": "python",
   "pygments_lexer": "ipython3",
   "version": "3.4.3"
  }
 },
 "nbformat": 4,
 "nbformat_minor": 1
}
