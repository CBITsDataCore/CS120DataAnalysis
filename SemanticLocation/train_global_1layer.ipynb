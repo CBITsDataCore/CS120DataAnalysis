{
 "cells": [
  {
   "cell_type": "code",
   "execution_count": 6,
   "metadata": {
    "scrolled": false
   },
   "outputs": [
    {
     "name": "stdout",
     "output_type": "stream",
     "text": [
      "------------------\n",
      "0\n"
     ]
    },
    {
     "name": "stderr",
     "output_type": "stream",
     "text": [
      "/usr/local/lib/python3.4/dist-packages/sklearn/metrics/ranking.py:542: UndefinedMetricWarning: No positive samples in y_true, true positive value should be meaningless\n",
      "  UndefinedMetricWarning)\n"
     ]
    },
    {
     "name": "stdout",
     "output_type": "stream",
     "text": [
      "[\"Another's Home\" 'Arts & Entertainment (Theater, Music Venue, Etc.)'\n",
      " 'Food (Restaurant, Cafe)' 'Home' 'Nightlife Spot (Bar, Club)'\n",
      " 'Outdoors & Recreation' 'Spiritual (Church, Temple, Etc.)' 'Work']\n",
      "[ 0.88304628  0.94187414  0.75819259  0.94641293  0.96119535  0.97423148\n",
      "  0.99425932  0.88590719] 0.91813990881\n",
      "[ 0.78844896  0.493663    0.72910518  0.92109013  0.99273407  0.48983192\n",
      "         nan  0.80317874] 0.745435998303\n",
      "------------------\n",
      "1\n"
     ]
    },
    {
     "name": "stderr",
     "output_type": "stream",
     "text": [
      "/usr/local/lib/python3.4/dist-packages/sklearn/metrics/ranking.py:542: UndefinedMetricWarning: No positive samples in y_true, true positive value should be meaningless\n",
      "  UndefinedMetricWarning)\n"
     ]
    },
    {
     "name": "stdout",
     "output_type": "stream",
     "text": [
      "[\"Another's Home\" 'Arts & Entertainment (Theater, Music Venue, Etc.)'\n",
      " 'Food (Restaurant, Cafe)' 'Home' 'Nightlife Spot (Bar, Club)'\n",
      " 'Outdoors & Recreation' 'Spiritual (Church, Temple, Etc.)' 'Work']\n",
      "[ 0.84171881  0.96527997  0.76409134  0.94444433  0.93708913  0.98953467\n",
      "  0.99443047  0.88532113] 0.915238732593\n",
      "[ 0.64521551  0.56486964  0.71415239  0.88488441  0.87024624         nan\n",
      "         nan  0.80860626] 0.747995741376\n",
      "------------------\n",
      "2\n"
     ]
    },
    {
     "name": "stderr",
     "output_type": "stream",
     "text": [
      "/usr/local/lib/python3.4/dist-packages/sklearn/metrics/ranking.py:542: UndefinedMetricWarning: No positive samples in y_true, true positive value should be meaningless\n",
      "  UndefinedMetricWarning)\n"
     ]
    },
    {
     "name": "stdout",
     "output_type": "stream",
     "text": [
      "[\"Another's Home\" 'Arts & Entertainment (Theater, Music Venue, Etc.)'\n",
      " 'Food (Restaurant, Cafe)' 'Home' 'Nightlife Spot (Bar, Club)'\n",
      " 'Outdoors & Recreation' 'Spiritual (Church, Temple, Etc.)' 'Work']\n",
      "[ 0.86003301  0.88530273  0.76112686  0.95404582  0.99693042  0.92326193\n",
      "  0.97304987  0.89588983] 0.906205058082\n",
      "[ 0.70246479  0.74071901  0.71464999  0.88305387         nan         nan\n",
      "         nan  0.74127926] 0.756433382531\n",
      "------------------\n",
      "3\n"
     ]
    },
    {
     "name": "stderr",
     "output_type": "stream",
     "text": [
      "/usr/local/lib/python3.4/dist-packages/sklearn/metrics/ranking.py:542: UndefinedMetricWarning: No positive samples in y_true, true positive value should be meaningless\n",
      "  UndefinedMetricWarning)\n"
     ]
    },
    {
     "name": "stdout",
     "output_type": "stream",
     "text": [
      "[\"Another's Home\" 'Arts & Entertainment (Theater, Music Venue, Etc.)'\n",
      " 'Food (Restaurant, Cafe)' 'Home' 'Nightlife Spot (Bar, Club)'\n",
      " 'Outdoors & Recreation' 'Spiritual (Church, Temple, Etc.)' 'Work']\n",
      "[ 0.88993282  0.92484667  0.77178285  0.95013937  0.93861315  0.93466513\n",
      "         nan  0.89743017] 0.901058595184\n",
      "[ 0.6944218   0.64231887  0.71736001  0.90426444  0.65785107  0.49036269\n",
      "         nan  0.75971578] 0.69518495218\n",
      "------------------\n",
      "4\n"
     ]
    },
    {
     "name": "stderr",
     "output_type": "stream",
     "text": [
      "/usr/local/lib/python3.4/dist-packages/sklearn/metrics/ranking.py:542: UndefinedMetricWarning: No positive samples in y_true, true positive value should be meaningless\n",
      "  UndefinedMetricWarning)\n"
     ]
    },
    {
     "name": "stdout",
     "output_type": "stream",
     "text": [
      "[\"Another's Home\" 'Arts & Entertainment (Theater, Music Venue, Etc.)'\n",
      " 'Food (Restaurant, Cafe)' 'Home' 'Nightlife Spot (Bar, Club)'\n",
      " 'Outdoors & Recreation' 'Spiritual (Church, Temple, Etc.)' 'Work']\n",
      "[ 0.85603667  0.9525151   0.76281122  0.94931432  0.96103925  0.9905179\n",
      "  0.99425825  0.90795272] 0.921805677803\n",
      "[ 0.6761046   0.82544996  0.70763628  0.900901    0.64589278  0.48867314\n",
      "         nan  0.78431517] 0.718424703819\n",
      "------------------\n",
      "5\n"
     ]
    },
    {
     "name": "stderr",
     "output_type": "stream",
     "text": [
      "/usr/local/lib/python3.4/dist-packages/sklearn/metrics/ranking.py:542: UndefinedMetricWarning: No positive samples in y_true, true positive value should be meaningless\n",
      "  UndefinedMetricWarning)\n"
     ]
    },
    {
     "name": "stdout",
     "output_type": "stream",
     "text": [
      "[\"Another's Home\" 'Arts & Entertainment (Theater, Music Venue, Etc.)'\n",
      " 'Food (Restaurant, Cafe)' 'Home' 'Nightlife Spot (Bar, Club)'\n",
      " 'Outdoors & Recreation' 'Spiritual (Church, Temple, Etc.)' 'Work']\n",
      "[ 0.86362485  0.93261373  0.7671916   0.95179787  0.93429277  0.97178538\n",
      "         nan  0.90172803] 0.903290603868\n",
      "[ 0.67358904  0.99140241  0.73831286  0.91816297  0.71774795  0.57293763\n",
      "         nan  0.76872752] 0.768697196223\n",
      "------------------\n",
      "6\n"
     ]
    },
    {
     "name": "stderr",
     "output_type": "stream",
     "text": [
      "/usr/local/lib/python3.4/dist-packages/sklearn/metrics/ranking.py:542: UndefinedMetricWarning: No positive samples in y_true, true positive value should be meaningless\n",
      "  UndefinedMetricWarning)\n"
     ]
    },
    {
     "name": "stdout",
     "output_type": "stream",
     "text": [
      "[\"Another's Home\" 'Arts & Entertainment (Theater, Music Venue, Etc.)'\n",
      " 'Food (Restaurant, Cafe)' 'Home' 'Nightlife Spot (Bar, Club)'\n",
      " 'Outdoors & Recreation' 'Spiritual (Church, Temple, Etc.)' 'Work']\n",
      "[ 0.88457392  0.96764133  0.76723341  0.95265018  0.97956416  0.92284897\n",
      "  0.99559014  0.8982465 ] 0.92104357793\n",
      "[ 0.63301115  0.61612121  0.69216501  0.90163963  0.9085072          nan\n",
      "         nan  0.77764001] 0.754847366114\n",
      "------------------\n",
      "7\n"
     ]
    },
    {
     "name": "stderr",
     "output_type": "stream",
     "text": [
      "/usr/local/lib/python3.4/dist-packages/sklearn/metrics/ranking.py:542: UndefinedMetricWarning: No positive samples in y_true, true positive value should be meaningless\n",
      "  UndefinedMetricWarning)\n"
     ]
    },
    {
     "name": "stdout",
     "output_type": "stream",
     "text": [
      "[\"Another's Home\" 'Arts & Entertainment (Theater, Music Venue, Etc.)'\n",
      " 'Food (Restaurant, Cafe)' 'Home' 'Nightlife Spot (Bar, Club)'\n",
      " 'Outdoors & Recreation' 'Spiritual (Church, Temple, Etc.)' 'Work']\n",
      "[ 0.85799619  0.99159624  0.76265331  0.94359275  0.91234376  0.90141761\n",
      "  0.97997581  0.88909578] 0.904833930891\n",
      "[ 0.62576269  0.49287081  0.72693817  0.90422083  0.84294794  0.49104504\n",
      "         nan  0.81026499] 0.699150066502\n",
      "------------------\n",
      "8\n"
     ]
    },
    {
     "name": "stderr",
     "output_type": "stream",
     "text": [
      "/usr/local/lib/python3.4/dist-packages/sklearn/metrics/ranking.py:542: UndefinedMetricWarning: No positive samples in y_true, true positive value should be meaningless\n",
      "  UndefinedMetricWarning)\n"
     ]
    },
    {
     "name": "stdout",
     "output_type": "stream",
     "text": [
      "[\"Another's Home\" 'Arts & Entertainment (Theater, Music Venue, Etc.)'\n",
      " 'Food (Restaurant, Cafe)' 'Home' 'Nightlife Spot (Bar, Club)'\n",
      " 'Outdoors & Recreation' 'Spiritual (Church, Temple, Etc.)' 'Work']\n",
      "[ 0.86529255  0.99257932  0.76356642  0.94995998  0.96355426  0.96842003\n",
      "  0.99372117  0.8929695 ] 0.923757904259\n",
      "[ 0.69846676         nan  0.71209347  0.92912996  0.99273659  0.49178228\n",
      "  0.99679761  0.81602237] 0.805289863673\n",
      "------------------\n",
      "9\n"
     ]
    },
    {
     "name": "stderr",
     "output_type": "stream",
     "text": [
      "/usr/local/lib/python3.4/dist-packages/sklearn/metrics/ranking.py:542: UndefinedMetricWarning: No positive samples in y_true, true positive value should be meaningless\n",
      "  UndefinedMetricWarning)\n"
     ]
    },
    {
     "name": "stdout",
     "output_type": "stream",
     "text": [
      "[\"Another's Home\" 'Arts & Entertainment (Theater, Music Venue, Etc.)'\n",
      " 'Food (Restaurant, Cafe)' 'Home' 'Nightlife Spot (Bar, Club)'\n",
      " 'Outdoors & Recreation' 'Spiritual (Church, Temple, Etc.)' 'Work']\n",
      "[ 0.85744743  0.90519377  0.77523821  0.94841038  0.99678624  0.98983757\n",
      "  0.99456522  0.90488578] 0.921545576549\n",
      "[ 0.69563817  0.7402863   0.702508    0.91482722  0.73834832  0.4891682\n",
      "         nan  0.78102006] 0.723113754134\n",
      "------------------\n",
      "10\n"
     ]
    },
    {
     "name": "stderr",
     "output_type": "stream",
     "text": [
      "/usr/local/lib/python3.4/dist-packages/sklearn/metrics/ranking.py:542: UndefinedMetricWarning: No positive samples in y_true, true positive value should be meaningless\n",
      "  UndefinedMetricWarning)\n"
     ]
    },
    {
     "name": "stdout",
     "output_type": "stream",
     "text": [
      "[\"Another's Home\" 'Arts & Entertainment (Theater, Music Venue, Etc.)'\n",
      " 'Food (Restaurant, Cafe)' 'Home' 'Nightlife Spot (Bar, Club)'\n",
      " 'Outdoors & Recreation' 'Spiritual (Church, Temple, Etc.)' 'Work']\n",
      "[ 0.84734223  0.9618787   0.75974157  0.95039095  0.92625746  0.89103649\n",
      "  0.99504004  0.90125092] 0.904117297051\n",
      "[ 0.61116544  0.7452003   0.70685087  0.8824227   0.82963852  0.55803241\n",
      "         nan  0.79244355] 0.732250542124\n",
      "------------------\n",
      "11\n"
     ]
    },
    {
     "name": "stderr",
     "output_type": "stream",
     "text": [
      "/usr/local/lib/python3.4/dist-packages/sklearn/metrics/ranking.py:542: UndefinedMetricWarning: No positive samples in y_true, true positive value should be meaningless\n",
      "  UndefinedMetricWarning)\n"
     ]
    },
    {
     "name": "stdout",
     "output_type": "stream",
     "text": [
      "[\"Another's Home\" 'Arts & Entertainment (Theater, Music Venue, Etc.)'\n",
      " 'Food (Restaurant, Cafe)' 'Home' 'Nightlife Spot (Bar, Club)'\n",
      " 'Outdoors & Recreation' 'Spiritual (Church, Temple, Etc.)' 'Work']\n",
      "[ 0.86560952  0.96317947  0.77457396  0.94586464  0.95086173  0.99149986\n",
      "         nan  0.91055237] 0.914591651373\n",
      "[ 0.69032133  0.74112697  0.68336495  0.87926428  0.8099359          nan\n",
      "         nan  0.78782511] 0.765306422657\n",
      "------------------\n",
      "12\n"
     ]
    },
    {
     "name": "stderr",
     "output_type": "stream",
     "text": [
      "/usr/local/lib/python3.4/dist-packages/sklearn/metrics/ranking.py:542: UndefinedMetricWarning: No positive samples in y_true, true positive value should be meaningless\n",
      "  UndefinedMetricWarning)\n"
     ]
    },
    {
     "name": "stdout",
     "output_type": "stream",
     "text": [
      "[\"Another's Home\" 'Arts & Entertainment (Theater, Music Venue, Etc.)'\n",
      " 'Food (Restaurant, Cafe)' 'Home' 'Nightlife Spot (Bar, Club)'\n",
      " 'Outdoors & Recreation' 'Spiritual (Church, Temple, Etc.)' 'Work']\n",
      "[ 0.85594888  0.99169088  0.77382447  0.94650258  0.95756166  0.9097784\n",
      "  0.99496644  0.90444304] 0.916839545235\n",
      "[ 0.60727356  0.56473588  0.6962836   0.87150614  0.53492534         nan\n",
      "         nan  0.83748589] 0.685368399498\n",
      "------------------\n",
      "13\n"
     ]
    },
    {
     "name": "stderr",
     "output_type": "stream",
     "text": [
      "/usr/local/lib/python3.4/dist-packages/sklearn/metrics/ranking.py:542: UndefinedMetricWarning: No positive samples in y_true, true positive value should be meaningless\n",
      "  UndefinedMetricWarning)\n"
     ]
    },
    {
     "name": "stdout",
     "output_type": "stream",
     "text": [
      "[\"Another's Home\" 'Arts & Entertainment (Theater, Music Venue, Etc.)'\n",
      " 'Food (Restaurant, Cafe)' 'Home' 'Nightlife Spot (Bar, Club)'\n",
      " 'Outdoors & Recreation' 'Spiritual (Church, Temple, Etc.)' 'Work']\n",
      "[ 0.86041343  0.95233994  0.76959951  0.94745113  0.93974832  0.9278833\n",
      "  0.99499339  0.90053469] 0.911620462827\n",
      "[ 0.61920616  0.98820998  0.70459595  0.88248331  0.69362728  0.56479522\n",
      "         nan  0.81420611] 0.752446287731\n",
      "------------------\n",
      "14\n"
     ]
    },
    {
     "name": "stderr",
     "output_type": "stream",
     "text": [
      "/usr/local/lib/python3.4/dist-packages/sklearn/metrics/ranking.py:542: UndefinedMetricWarning: No positive samples in y_true, true positive value should be meaningless\n",
      "  UndefinedMetricWarning)\n"
     ]
    },
    {
     "name": "stdout",
     "output_type": "stream",
     "text": [
      "[\"Another's Home\" 'Arts & Entertainment (Theater, Music Venue, Etc.)'\n",
      " 'Food (Restaurant, Cafe)' 'Home' 'Nightlife Spot (Bar, Club)'\n",
      " 'Outdoors & Recreation' 'Spiritual (Church, Temple, Etc.)' 'Work']\n",
      "[ 0.86233006  0.90615493  0.75615207  0.94660009  0.94835822  0.92236557\n",
      "  0.99524136  0.89544201] 0.904080540388\n",
      "[ 0.70069188  0.74239383  0.7472589   0.91874539  0.49493029         nan\n",
      "         nan  0.79478565] 0.733134322085\n",
      "------------------\n",
      "15\n"
     ]
    },
    {
     "name": "stderr",
     "output_type": "stream",
     "text": [
      "/usr/local/lib/python3.4/dist-packages/sklearn/metrics/ranking.py:542: UndefinedMetricWarning: No positive samples in y_true, true positive value should be meaningless\n",
      "  UndefinedMetricWarning)\n"
     ]
    },
    {
     "name": "stdout",
     "output_type": "stream",
     "text": [
      "[\"Another's Home\" 'Arts & Entertainment (Theater, Music Venue, Etc.)'\n",
      " 'Food (Restaurant, Cafe)' 'Home' 'Nightlife Spot (Bar, Club)'\n",
      " 'Outdoors & Recreation' 'Spiritual (Church, Temple, Etc.)' 'Work']\n",
      "[ 0.85902278  0.96852575  0.76230756  0.94569732  0.96568936  0.952548\n",
      "  0.99467323  0.88169454] 0.916269816538\n",
      "[ 0.6360091   0.82541197  0.7262542   0.89131724  0.74608629  0.74332061\n",
      "         nan  0.81895934] 0.769622680776\n",
      "------------------\n",
      "16\n",
      "[\"Another's Home\" 'Arts & Entertainment (Theater, Music Venue, Etc.)'\n",
      " 'Food (Restaurant, Cafe)' 'Home' 'Nightlife Spot (Bar, Club)'\n",
      " 'Outdoors & Recreation' 'Spiritual (Church, Temple, Etc.)' 'Work']\n",
      "[ 0.86203623  0.93847179  0.76776265  0.94955953  0.92743803  0.93903958\n",
      "  0.96069436  0.90284326] 0.90598067967\n",
      "[ 0.66839577  0.49272416  0.71516242  0.89678804  0.76802429  0.49186644\n",
      "  0.50419817  0.75725673] 0.661802001933\n",
      "------------------\n",
      "17\n"
     ]
    },
    {
     "name": "stderr",
     "output_type": "stream",
     "text": [
      "/usr/local/lib/python3.4/dist-packages/sklearn/metrics/ranking.py:542: UndefinedMetricWarning: No positive samples in y_true, true positive value should be meaningless\n",
      "  UndefinedMetricWarning)\n"
     ]
    },
    {
     "name": "stdout",
     "output_type": "stream",
     "text": [
      "[\"Another's Home\" 'Arts & Entertainment (Theater, Music Venue, Etc.)'\n",
      " 'Food (Restaurant, Cafe)' 'Home' 'Nightlife Spot (Bar, Club)'\n",
      " 'Outdoors & Recreation' 'Spiritual (Church, Temple, Etc.)' 'Work']\n",
      "[ 0.8547476   0.959721    0.75943729  0.94613977  0.95006036  0.95364929\n",
      "  0.99548008  0.88731221] 0.91331844896\n",
      "[ 0.6070807   0.77712631  0.72229731  0.87746459  0.88279498  0.74181963\n",
      "         nan  0.80588935] 0.773496124782\n",
      "------------------\n",
      "18\n"
     ]
    },
    {
     "name": "stderr",
     "output_type": "stream",
     "text": [
      "/usr/local/lib/python3.4/dist-packages/sklearn/metrics/ranking.py:542: UndefinedMetricWarning: No positive samples in y_true, true positive value should be meaningless\n",
      "  UndefinedMetricWarning)\n"
     ]
    },
    {
     "name": "stdout",
     "output_type": "stream",
     "text": [
      "[\"Another's Home\" 'Arts & Entertainment (Theater, Music Venue, Etc.)'\n",
      " 'Food (Restaurant, Cafe)' 'Home' 'Nightlife Spot (Bar, Club)'\n",
      " 'Outdoors & Recreation' 'Spiritual (Church, Temple, Etc.)' 'Work']\n",
      "[ 0.85851857  0.93909806  0.77253046  0.95212697  0.93287037  0.99166032\n",
      "  0.99416244  0.9032496 ] 0.918027098115\n",
      "[ 0.62940484  0.74181937  0.6922133   0.89808448  0.69563795  0.485073\n",
      "         nan  0.80617229] 0.706915031984\n",
      "------------------\n",
      "19\n"
     ]
    },
    {
     "name": "stderr",
     "output_type": "stream",
     "text": [
      "/usr/local/lib/python3.4/dist-packages/sklearn/metrics/ranking.py:542: UndefinedMetricWarning: No positive samples in y_true, true positive value should be meaningless\n",
      "  UndefinedMetricWarning)\n"
     ]
    },
    {
     "name": "stdout",
     "output_type": "stream",
     "text": [
      "[\"Another's Home\" 'Arts & Entertainment (Theater, Music Venue, Etc.)'\n",
      " 'Food (Restaurant, Cafe)' 'Home' 'Nightlife Spot (Bar, Club)'\n",
      " 'Outdoors & Recreation' 'Spiritual (Church, Temple, Etc.)' 'Work']\n",
      "[ 0.8509159   0.99214347  0.75952347  0.95130544  0.90309154  0.96305081\n",
      "  0.99474539  0.89934271] 0.914264839555\n",
      "[ 0.69336172  0.56363442  0.71738477  0.90520572  0.77792014  0.49103713\n",
      "         nan  0.81442907] 0.708996137682\n",
      "------------------\n",
      "20\n",
      "[\"Another's Home\" 'Arts & Entertainment (Theater, Music Venue, Etc.)'\n",
      " 'Food (Restaurant, Cafe)' 'Home' 'Nightlife Spot (Bar, Club)'\n",
      " 'Outdoors & Recreation' 'Spiritual (Church, Temple, Etc.)' 'Work']\n",
      "[ 0.84490901  0.99295775  0.77144884  0.94954794  0.93764145  0.96121575\n",
      "  0.99568198  0.89427895] 0.918460208267\n",
      "[ 0.66956826  0.74053871  0.71607479  0.90862048  0.57314986  0.73957328\n",
      "  0.74015254  0.78724313] 0.734365130917\n",
      "------------------\n",
      "21\n"
     ]
    },
    {
     "name": "stderr",
     "output_type": "stream",
     "text": [
      "/usr/local/lib/python3.4/dist-packages/sklearn/metrics/ranking.py:542: UndefinedMetricWarning: No positive samples in y_true, true positive value should be meaningless\n",
      "  UndefinedMetricWarning)\n"
     ]
    },
    {
     "name": "stdout",
     "output_type": "stream",
     "text": [
      "[\"Another's Home\" 'Arts & Entertainment (Theater, Music Venue, Etc.)'\n",
      " 'Food (Restaurant, Cafe)' 'Home' 'Nightlife Spot (Bar, Club)'\n",
      " 'Outdoors & Recreation' 'Spiritual (Church, Temple, Etc.)' 'Work']\n",
      "[ 0.86197882  0.99346489  0.75369158  0.94514363  0.95358303  0.96465322\n",
      "  0.99397487  0.89264877] 0.919892353006\n",
      "[ 0.7084396   0.9887114   0.74108032  0.9122116   0.66293453  0.65569755\n",
      "         nan  0.78529447] 0.779195636285\n",
      "------------------\n",
      "22\n"
     ]
    },
    {
     "name": "stderr",
     "output_type": "stream",
     "text": [
      "/usr/local/lib/python3.4/dist-packages/sklearn/metrics/ranking.py:542: UndefinedMetricWarning: No positive samples in y_true, true positive value should be meaningless\n",
      "  UndefinedMetricWarning)\n"
     ]
    },
    {
     "name": "stdout",
     "output_type": "stream",
     "text": [
      "[\"Another's Home\" 'Arts & Entertainment (Theater, Music Venue, Etc.)'\n",
      " 'Food (Restaurant, Cafe)' 'Home' 'Nightlife Spot (Bar, Club)'\n",
      " 'Outdoors & Recreation' 'Spiritual (Church, Temple, Etc.)' 'Work']\n",
      "[ 0.86060167  0.92886052  0.76866431  0.94746276  0.91898961  0.95727719\n",
      "  0.99381209  0.89093008] 0.908324780657\n",
      "[ 0.72662306  0.62836719  0.72139298  0.93063898  0.99300932         nan\n",
      "         nan  0.83397158] 0.805667185426\n",
      "------------------\n",
      "23\n"
     ]
    },
    {
     "name": "stderr",
     "output_type": "stream",
     "text": [
      "/usr/local/lib/python3.4/dist-packages/sklearn/metrics/ranking.py:542: UndefinedMetricWarning: No positive samples in y_true, true positive value should be meaningless\n",
      "  UndefinedMetricWarning)\n"
     ]
    },
    {
     "name": "stdout",
     "output_type": "stream",
     "text": [
      "[\"Another's Home\" 'Arts & Entertainment (Theater, Music Venue, Etc.)'\n",
      " 'Food (Restaurant, Cafe)' 'Home' 'Nightlife Spot (Bar, Club)'\n",
      " 'Outdoors & Recreation' 'Spiritual (Church, Temple, Etc.)' 'Work']\n",
      "[ 0.8722467   0.88408165  0.76756336  0.94675132  0.96051421  0.92963708\n",
      "  0.99519148  0.91698419] 0.909121249732\n",
      "[ 0.68234214  0.65732185  0.70251725  0.88117188  0.7098721   0.6785658\n",
      "         nan  0.77346961] 0.726465804768\n",
      "------------------\n",
      "24\n",
      "[\"Another's Home\" 'Arts & Entertainment (Theater, Music Venue, Etc.)'\n",
      " 'Food (Restaurant, Cafe)' 'Home' 'Nightlife Spot (Bar, Club)'\n",
      " 'Outdoors & Recreation' 'Spiritual (Church, Temple, Etc.)' 'Work']\n",
      "[ 0.84312743  0.9156196   0.76448758  0.95253323  0.90253772  0.95932018\n",
      "  0.9595338   0.88824329] 0.89817535311\n",
      "[ 0.65122655  0.74070738  0.72407179  0.89397149  0.74582305  0.49535457\n",
      "  0.62110192  0.81858724] 0.711355498658\n",
      "------------------\n",
      "25\n"
     ]
    },
    {
     "name": "stderr",
     "output_type": "stream",
     "text": [
      "/usr/local/lib/python3.4/dist-packages/sklearn/metrics/ranking.py:542: UndefinedMetricWarning: No positive samples in y_true, true positive value should be meaningless\n",
      "  UndefinedMetricWarning)\n"
     ]
    },
    {
     "name": "stdout",
     "output_type": "stream",
     "text": [
      "[\"Another's Home\" 'Arts & Entertainment (Theater, Music Venue, Etc.)'\n",
      " 'Food (Restaurant, Cafe)' 'Home' 'Nightlife Spot (Bar, Club)'\n",
      " 'Outdoors & Recreation' 'Spiritual (Church, Temple, Etc.)' 'Work']\n",
      "[ 0.85896794  0.96492513  0.76007379  0.94582785  0.97033989  0.99007074\n",
      "  0.99556843  0.89388978] 0.922457944563\n",
      "[ 0.7340143          nan  0.71440063  0.92066815  0.82851638  0.98771892\n",
      "         nan  0.81142901] 0.83279123263\n",
      "------------------\n",
      "26\n",
      "[\"Another's Home\" 'Arts & Entertainment (Theater, Music Venue, Etc.)'\n",
      " 'Food (Restaurant, Cafe)' 'Home' 'Nightlife Spot (Bar, Club)'\n",
      " 'Outdoors & Recreation' 'Spiritual (Church, Temple, Etc.)' 'Work']\n",
      "[ 0.85970998  0.92833129  0.76354857  0.95325696  0.97834092  0.96051372\n",
      "  0.97850905  0.88722806] 0.913679818965\n",
      "[ 0.63757224  0.61806986  0.72685376  0.86744102  0.85604071  0.49279026\n",
      "  0.49691069  0.76805577] 0.682966790667\n",
      "------------------\n",
      "27\n"
     ]
    },
    {
     "name": "stderr",
     "output_type": "stream",
     "text": [
      "/usr/local/lib/python3.4/dist-packages/sklearn/metrics/ranking.py:542: UndefinedMetricWarning: No positive samples in y_true, true positive value should be meaningless\n",
      "  UndefinedMetricWarning)\n"
     ]
    },
    {
     "name": "stdout",
     "output_type": "stream",
     "text": [
      "[\"Another's Home\" 'Arts & Entertainment (Theater, Music Venue, Etc.)'\n",
      " 'Food (Restaurant, Cafe)' 'Home' 'Nightlife Spot (Bar, Club)'\n",
      " 'Outdoors & Recreation' 'Spiritual (Church, Temple, Etc.)' 'Work']\n",
      "[ 0.84631367  0.93573364  0.77088663  0.94610323  0.98360519  0.9486407\n",
      "  0.99362223  0.90022743] 0.915641589685\n",
      "[ 0.63825902  0.74199757  0.71492262  0.88864395  0.99534319  0.98927343\n",
      "         nan  0.7866652 ] 0.822157853703\n",
      "------------------\n",
      "28\n"
     ]
    },
    {
     "name": "stderr",
     "output_type": "stream",
     "text": [
      "/usr/local/lib/python3.4/dist-packages/sklearn/metrics/ranking.py:542: UndefinedMetricWarning: No positive samples in y_true, true positive value should be meaningless\n",
      "  UndefinedMetricWarning)\n"
     ]
    },
    {
     "name": "stdout",
     "output_type": "stream",
     "text": [
      "[\"Another's Home\" 'Arts & Entertainment (Theater, Music Venue, Etc.)'\n",
      " 'Food (Restaurant, Cafe)' 'Home' 'Nightlife Spot (Bar, Club)'\n",
      " 'Outdoors & Recreation' 'Spiritual (Church, Temple, Etc.)' 'Work']\n",
      "[ 0.8520659   0.87369439  0.75841949  0.9462381   0.87445436  0.99092607\n",
      "  0.99443653  0.88791022] 0.897268133246\n",
      "[ 0.72571904  0.7767044   0.72208707  0.91394614  0.99234941         nan\n",
      "         nan  0.77268707] 0.817248854044\n",
      "------------------\n",
      "29\n"
     ]
    },
    {
     "name": "stderr",
     "output_type": "stream",
     "text": [
      "/usr/local/lib/python3.4/dist-packages/sklearn/metrics/ranking.py:542: UndefinedMetricWarning: No positive samples in y_true, true positive value should be meaningless\n",
      "  UndefinedMetricWarning)\n"
     ]
    },
    {
     "name": "stdout",
     "output_type": "stream",
     "text": [
      "[\"Another's Home\" 'Arts & Entertainment (Theater, Music Venue, Etc.)'\n",
      " 'Food (Restaurant, Cafe)' 'Home' 'Nightlife Spot (Bar, Club)'\n",
      " 'Outdoors & Recreation' 'Spiritual (Church, Temple, Etc.)' 'Work']\n",
      "[ 0.85624739  0.9452787   0.76949311  0.95307992  0.95205441  0.94270271\n",
      "  0.99407432  0.90787225] 0.915100353703\n",
      "[ 0.6853941   0.82701663  0.68585951  0.89405512  0.71112667  0.49074679\n",
      "         nan  0.82831684] 0.731787951241\n",
      "------------------\n",
      "30\n"
     ]
    },
    {
     "name": "stderr",
     "output_type": "stream",
     "text": [
      "/usr/local/lib/python3.4/dist-packages/sklearn/metrics/ranking.py:542: UndefinedMetricWarning: No positive samples in y_true, true positive value should be meaningless\n",
      "  UndefinedMetricWarning)\n"
     ]
    },
    {
     "name": "stdout",
     "output_type": "stream",
     "text": [
      "[\"Another's Home\" 'Arts & Entertainment (Theater, Music Venue, Etc.)'\n",
      " 'Food (Restaurant, Cafe)' 'Home' 'Nightlife Spot (Bar, Club)'\n",
      " 'Outdoors & Recreation' 'Spiritual (Church, Temple, Etc.)' 'Work']\n",
      "[ 0.8492494   0.97521241  0.75404674  0.94351602  0.93770087  0.94945292\n",
      "  0.99440488  0.89589137] 0.912434325936\n",
      "[ 0.71769056  0.74259421  0.73949537  0.92872803  0.74345978         nan\n",
      "         nan  0.84160818] 0.785596019662\n",
      "------------------\n",
      "31\n"
     ]
    },
    {
     "name": "stderr",
     "output_type": "stream",
     "text": [
      "/usr/local/lib/python3.4/dist-packages/sklearn/metrics/ranking.py:542: UndefinedMetricWarning: No positive samples in y_true, true positive value should be meaningless\n",
      "  UndefinedMetricWarning)\n"
     ]
    },
    {
     "name": "stdout",
     "output_type": "stream",
     "text": [
      "[\"Another's Home\" 'Arts & Entertainment (Theater, Music Venue, Etc.)'\n",
      " 'Food (Restaurant, Cafe)' 'Home' 'Nightlife Spot (Bar, Club)'\n",
      " 'Outdoors & Recreation' 'Spiritual (Church, Temple, Etc.)' 'Work']\n",
      "[ 0.87363344  0.99277978  0.76241389  0.95292715  0.93636241  0.93720198\n",
      "  0.99574194  0.89653205] 0.918449079912\n",
      "[ 0.67843556  0.98994132  0.73568657  0.91561209  0.78151172  0.65481435\n",
      "         nan  0.7827774 ] 0.791254144623\n",
      "------------------\n",
      "32\n"
     ]
    },
    {
     "name": "stderr",
     "output_type": "stream",
     "text": [
      "/usr/local/lib/python3.4/dist-packages/sklearn/metrics/ranking.py:542: UndefinedMetricWarning: No positive samples in y_true, true positive value should be meaningless\n",
      "  UndefinedMetricWarning)\n"
     ]
    },
    {
     "name": "stdout",
     "output_type": "stream",
     "text": [
      "[\"Another's Home\" 'Arts & Entertainment (Theater, Music Venue, Etc.)'\n",
      " 'Food (Restaurant, Cafe)' 'Home' 'Nightlife Spot (Bar, Club)'\n",
      " 'Outdoors & Recreation' 'Spiritual (Church, Temple, Etc.)' 'Work']\n",
      "[ 0.87021621  0.92289295  0.76781084  0.95813606  0.9466685   0.9729268\n",
      "  0.99405326  0.89864775] 0.916419045709\n",
      "[ 0.69063824  0.60411007  0.70487862  0.89103477  0.53664785  0.65685661\n",
      "         nan  0.76793308] 0.69315703349\n",
      "------------------\n",
      "33\n"
     ]
    },
    {
     "name": "stderr",
     "output_type": "stream",
     "text": [
      "/usr/local/lib/python3.4/dist-packages/sklearn/metrics/ranking.py:542: UndefinedMetricWarning: No positive samples in y_true, true positive value should be meaningless\n",
      "  UndefinedMetricWarning)\n"
     ]
    },
    {
     "name": "stdout",
     "output_type": "stream",
     "text": [
      "[\"Another's Home\" 'Arts & Entertainment (Theater, Music Venue, Etc.)'\n",
      " 'Food (Restaurant, Cafe)' 'Home' 'Nightlife Spot (Bar, Club)'\n",
      " 'Outdoors & Recreation' 'Spiritual (Church, Temple, Etc.)' 'Work']\n",
      "[ 0.86019876  0.95054405  0.76974205  0.94783618  0.93988463  0.99101043\n",
      "  0.99514607  0.89285592] 0.918402260071\n",
      "[ 0.6649838   0.99262202  0.70461672  0.89520626  0.99611669         nan\n",
      "         nan  0.79022355] 0.840628174979\n",
      "------------------\n",
      "34\n"
     ]
    },
    {
     "name": "stderr",
     "output_type": "stream",
     "text": [
      "/usr/local/lib/python3.4/dist-packages/sklearn/metrics/ranking.py:542: UndefinedMetricWarning: No positive samples in y_true, true positive value should be meaningless\n",
      "  UndefinedMetricWarning)\n"
     ]
    },
    {
     "name": "stdout",
     "output_type": "stream",
     "text": [
      "[\"Another's Home\" 'Arts & Entertainment (Theater, Music Venue, Etc.)'\n",
      " 'Food (Restaurant, Cafe)' 'Home' 'Nightlife Spot (Bar, Club)'\n",
      " 'Outdoors & Recreation' 'Spiritual (Church, Temple, Etc.)' 'Work']\n",
      "[ 0.84667112  0.89342442  0.76300869  0.948167    0.95419122  0.95694289\n",
      "  0.9956058   0.89208289] 0.90626175475\n",
      "[ 0.63448445  0.56146286  0.73223137  0.91939176  0.79282348  0.65938615\n",
      "         nan  0.75916581] 0.722706554874\n",
      "------------------\n",
      "35\n"
     ]
    },
    {
     "name": "stderr",
     "output_type": "stream",
     "text": [
      "/usr/local/lib/python3.4/dist-packages/sklearn/metrics/ranking.py:542: UndefinedMetricWarning: No positive samples in y_true, true positive value should be meaningless\n",
      "  UndefinedMetricWarning)\n"
     ]
    },
    {
     "name": "stdout",
     "output_type": "stream",
     "text": [
      "[\"Another's Home\" 'Arts & Entertainment (Theater, Music Venue, Etc.)'\n",
      " 'Food (Restaurant, Cafe)' 'Home' 'Nightlife Spot (Bar, Club)'\n",
      " 'Outdoors & Recreation' 'Spiritual (Church, Temple, Etc.)' 'Work']\n",
      "[ 0.85322918  0.97532094  0.75704086  0.94524088  0.96396828  0.9197561\n",
      "  0.99380366  0.88972634] 0.912260778453\n",
      "[ 0.66521894  0.82723937  0.73663186  0.88186683  0.86949361  0.74253585\n",
      "         nan  0.81574392] 0.791247197078\n",
      "------------------\n",
      "36\n"
     ]
    },
    {
     "name": "stderr",
     "output_type": "stream",
     "text": [
      "/usr/local/lib/python3.4/dist-packages/sklearn/metrics/ranking.py:542: UndefinedMetricWarning: No positive samples in y_true, true positive value should be meaningless\n",
      "  UndefinedMetricWarning)\n"
     ]
    },
    {
     "name": "stdout",
     "output_type": "stream",
     "text": [
      "[\"Another's Home\" 'Arts & Entertainment (Theater, Music Venue, Etc.)'\n",
      " 'Food (Restaurant, Cafe)' 'Home' 'Nightlife Spot (Bar, Club)'\n",
      " 'Outdoors & Recreation' 'Spiritual (Church, Temple, Etc.)' 'Work']\n",
      "[ 0.89252109  0.9610455   0.75770606  0.95259433  0.93498477  0.99132159\n",
      "  0.99577167  0.89148676] 0.922178971091\n",
      "[ 0.66214276  0.65823747  0.72591649  0.89289359  0.65972498  0.82054079\n",
      "         nan  0.77239749] 0.741693366786\n",
      "------------------\n",
      "37\n"
     ]
    },
    {
     "name": "stderr",
     "output_type": "stream",
     "text": [
      "/usr/local/lib/python3.4/dist-packages/sklearn/metrics/ranking.py:542: UndefinedMetricWarning: No positive samples in y_true, true positive value should be meaningless\n",
      "  UndefinedMetricWarning)\n"
     ]
    },
    {
     "name": "stdout",
     "output_type": "stream",
     "text": [
      "[\"Another's Home\" 'Arts & Entertainment (Theater, Music Venue, Etc.)'\n",
      " 'Food (Restaurant, Cafe)' 'Home' 'Nightlife Spot (Bar, Club)'\n",
      " 'Outdoors & Recreation' 'Spiritual (Church, Temple, Etc.)' 'Work']\n",
      "[ 0.86189661  0.92173306  0.77092248  0.95500161  0.9475741   0.99069066\n",
      "  0.99463795  0.89532715] 0.917222953532\n",
      "[ 0.62884936  0.69063415  0.70038278  0.89626806  0.74238876  0.48713199\n",
      "         nan  0.74498486] 0.698662850127\n",
      "------------------\n",
      "38\n"
     ]
    },
    {
     "name": "stderr",
     "output_type": "stream",
     "text": [
      "/usr/local/lib/python3.4/dist-packages/sklearn/metrics/ranking.py:542: UndefinedMetricWarning: No positive samples in y_true, true positive value should be meaningless\n",
      "  UndefinedMetricWarning)\n"
     ]
    },
    {
     "name": "stdout",
     "output_type": "stream",
     "text": [
      "[\"Another's Home\" 'Arts & Entertainment (Theater, Music Venue, Etc.)'\n",
      " 'Food (Restaurant, Cafe)' 'Home' 'Nightlife Spot (Bar, Club)'\n",
      " 'Outdoors & Recreation' 'Spiritual (Church, Temple, Etc.)' 'Work']\n",
      "[ 0.8726935   0.93058619  0.76832607  0.94679403  0.93358977  0.9572087\n",
      "  0.99605096  0.90193804] 0.913398406532\n",
      "[ 0.64537036  0.48926713  0.72016089  0.91393002  0.74261512  0.48764362\n",
      "         nan  0.74517753] 0.677737809504\n",
      "------------------\n",
      "39\n"
     ]
    },
    {
     "name": "stderr",
     "output_type": "stream",
     "text": [
      "/usr/local/lib/python3.4/dist-packages/sklearn/metrics/ranking.py:542: UndefinedMetricWarning: No positive samples in y_true, true positive value should be meaningless\n",
      "  UndefinedMetricWarning)\n"
     ]
    },
    {
     "name": "stdout",
     "output_type": "stream",
     "text": [
      "[\"Another's Home\" 'Arts & Entertainment (Theater, Music Venue, Etc.)'\n",
      " 'Food (Restaurant, Cafe)' 'Home' 'Nightlife Spot (Bar, Club)'\n",
      " 'Outdoors & Recreation' 'Spiritual (Church, Temple, Etc.)' 'Work']\n",
      "[ 0.87652844  0.93466101  0.76378222  0.95194212  0.93096091  0.96321015\n",
      "  0.99490273  0.89531939] 0.913913370942\n",
      "[ 0.74786011  0.79287719  0.69098534  0.89349156  0.99590164         nan\n",
      "  0.99191287  0.7084484 ] 0.831639586516\n",
      "------------------\n",
      "40\n"
     ]
    },
    {
     "name": "stderr",
     "output_type": "stream",
     "text": [
      "/usr/local/lib/python3.4/dist-packages/sklearn/metrics/ranking.py:542: UndefinedMetricWarning: No positive samples in y_true, true positive value should be meaningless\n",
      "  UndefinedMetricWarning)\n"
     ]
    },
    {
     "name": "stdout",
     "output_type": "stream",
     "text": [
      "[\"Another's Home\" 'Arts & Entertainment (Theater, Music Venue, Etc.)'\n",
      " 'Food (Restaurant, Cafe)' 'Home' 'Nightlife Spot (Bar, Club)'\n",
      " 'Outdoors & Recreation' 'Spiritual (Church, Temple, Etc.)' 'Work']\n",
      "[ 0.87682054  0.9359297   0.76234108  0.95108741  0.91659854  0.9104471\n",
      "  0.99421357  0.89359141] 0.905128668718\n",
      "[ 0.73333721  0.99429772  0.70452217  0.89462738  0.82912997  0.49379504\n",
      "         nan  0.74738285] 0.771013191587\n",
      "------------------\n",
      "41\n"
     ]
    },
    {
     "name": "stderr",
     "output_type": "stream",
     "text": [
      "/usr/local/lib/python3.4/dist-packages/sklearn/metrics/ranking.py:542: UndefinedMetricWarning: No positive samples in y_true, true positive value should be meaningless\n",
      "  UndefinedMetricWarning)\n"
     ]
    },
    {
     "name": "stdout",
     "output_type": "stream",
     "text": [
      "[\"Another's Home\" 'Arts & Entertainment (Theater, Music Venue, Etc.)'\n",
      " 'Food (Restaurant, Cafe)' 'Home' 'Nightlife Spot (Bar, Club)'\n",
      " 'Outdoors & Recreation' 'Spiritual (Church, Temple, Etc.)' 'Work']\n",
      "[ 0.86807274  0.970447    0.77023538  0.9494328   0.9550918   0.91943098\n",
      "  0.99491585  0.897858  ] 0.915685568678\n",
      "[ 0.65882784  0.8928      0.70537073  0.87054794  0.74409882  0.65547114\n",
      "         nan  0.74500128] 0.753159679631\n",
      "------------------\n",
      "42\n",
      "[\"Another's Home\" 'Arts & Entertainment (Theater, Music Venue, Etc.)'\n",
      " 'Food (Restaurant, Cafe)' 'Home' 'Nightlife Spot (Bar, Club)'\n",
      " 'Outdoors & Recreation' 'Spiritual (Church, Temple, Etc.)' 'Work']\n",
      "[ 0.87628196  0.97586759  0.76120534  0.94999085  0.9302941   0.92083187\n",
      "  0.9941379   0.88759403] 0.912025457053\n",
      "[ 0.68269657  0.65904036  0.73659943  0.92323016  0.7464209   0.74272597\n",
      "  0.99535493  0.79909251] 0.785645104253\n",
      "------------------\n",
      "43\n"
     ]
    },
    {
     "name": "stderr",
     "output_type": "stream",
     "text": [
      "/usr/local/lib/python3.4/dist-packages/sklearn/metrics/ranking.py:542: UndefinedMetricWarning: No positive samples in y_true, true positive value should be meaningless\n",
      "  UndefinedMetricWarning)\n"
     ]
    },
    {
     "name": "stdout",
     "output_type": "stream",
     "text": [
      "[\"Another's Home\" 'Arts & Entertainment (Theater, Music Venue, Etc.)'\n",
      " 'Food (Restaurant, Cafe)' 'Home' 'Nightlife Spot (Bar, Club)'\n",
      " 'Outdoors & Recreation' 'Spiritual (Church, Temple, Etc.)' 'Work']\n",
      "[ 0.87039648  0.94681099  0.76621657  0.9501581   0.9125048   0.93488608\n",
      "  0.99399665  0.89091292] 0.908235322005\n",
      "[ 0.61847795  0.4920307   0.70412482  0.86622062  0.9937931   0.82339239\n",
      "         nan  0.72525129] 0.74618440944\n",
      "------------------\n",
      "44\n"
     ]
    },
    {
     "name": "stderr",
     "output_type": "stream",
     "text": [
      "/usr/local/lib/python3.4/dist-packages/sklearn/metrics/ranking.py:542: UndefinedMetricWarning: No positive samples in y_true, true positive value should be meaningless\n",
      "  UndefinedMetricWarning)\n"
     ]
    },
    {
     "name": "stdout",
     "output_type": "stream",
     "text": [
      "[\"Another's Home\" 'Arts & Entertainment (Theater, Music Venue, Etc.)'\n",
      " 'Food (Restaurant, Cafe)' 'Home' 'Nightlife Spot (Bar, Club)'\n",
      " 'Outdoors & Recreation' 'Spiritual (Church, Temple, Etc.)' 'Work']\n",
      "[ 0.85587513  0.94883291  0.76287002  0.94048002  0.94859485  0.98983097\n",
      "  0.99393391  0.8765997 ] 0.914627187883\n",
      "[ 0.63623416  0.82555743  0.72953254  0.90040434  0.78148973         nan\n",
      "         nan  0.80462   ] 0.779639697468\n",
      "------------------\n",
      "45\n"
     ]
    },
    {
     "name": "stderr",
     "output_type": "stream",
     "text": [
      "/usr/local/lib/python3.4/dist-packages/sklearn/metrics/ranking.py:542: UndefinedMetricWarning: No positive samples in y_true, true positive value should be meaningless\n",
      "  UndefinedMetricWarning)\n"
     ]
    },
    {
     "name": "stdout",
     "output_type": "stream",
     "text": [
      "[\"Another's Home\" 'Arts & Entertainment (Theater, Music Venue, Etc.)'\n",
      " 'Food (Restaurant, Cafe)' 'Home' 'Nightlife Spot (Bar, Club)'\n",
      " 'Outdoors & Recreation' 'Spiritual (Church, Temple, Etc.)' 'Work']\n",
      "[ 0.84827419  0.97147726  0.76652721  0.94271591  0.95481034  0.99114878\n",
      "  0.99519684  0.89044244] 0.920074120943\n",
      "[ 0.61638443         nan  0.70289906  0.90608867  0.79447323         nan\n",
      "         nan  0.83432841] 0.770834762249\n",
      "------------------\n",
      "46\n"
     ]
    },
    {
     "name": "stderr",
     "output_type": "stream",
     "text": [
      "/usr/local/lib/python3.4/dist-packages/sklearn/metrics/ranking.py:542: UndefinedMetricWarning: No positive samples in y_true, true positive value should be meaningless\n",
      "  UndefinedMetricWarning)\n"
     ]
    },
    {
     "name": "stdout",
     "output_type": "stream",
     "text": [
      "[\"Another's Home\" 'Arts & Entertainment (Theater, Music Venue, Etc.)'\n",
      " 'Food (Restaurant, Cafe)' 'Home' 'Nightlife Spot (Bar, Club)'\n",
      " 'Outdoors & Recreation' 'Spiritual (Church, Temple, Etc.)' 'Work']\n",
      "[ 0.84106175  0.95410681  0.76844278  0.94560749  0.94650759  0.98830513\n",
      "  0.99393591  0.8904502 ] 0.916052207765\n",
      "[ 0.6359902   0.79087699  0.70650489  0.89562905  0.69715519  0.49431373\n",
      "         nan  0.84056768] 0.7230053902\n",
      "------------------\n",
      "47\n"
     ]
    },
    {
     "name": "stderr",
     "output_type": "stream",
     "text": [
      "/usr/local/lib/python3.4/dist-packages/sklearn/metrics/ranking.py:542: UndefinedMetricWarning: No positive samples in y_true, true positive value should be meaningless\n",
      "  UndefinedMetricWarning)\n"
     ]
    },
    {
     "name": "stdout",
     "output_type": "stream",
     "text": [
      "[\"Another's Home\" 'Arts & Entertainment (Theater, Music Venue, Etc.)'\n",
      " 'Food (Restaurant, Cafe)' 'Home' 'Nightlife Spot (Bar, Club)'\n",
      " 'Outdoors & Recreation' 'Spiritual (Church, Temple, Etc.)' 'Work']\n",
      "[ 0.85486218  0.99213865  0.76005384  0.94140949  0.96687924  0.96130749\n",
      "         nan  0.88928417] 0.909419293857\n",
      "[ 0.66892031  0.49316124  0.72429668  0.91962365  0.9299812          nan\n",
      "         nan  0.81463233] 0.758435902546\n",
      "------------------\n",
      "48\n"
     ]
    },
    {
     "name": "stderr",
     "output_type": "stream",
     "text": [
      "/usr/local/lib/python3.4/dist-packages/sklearn/metrics/ranking.py:542: UndefinedMetricWarning: No positive samples in y_true, true positive value should be meaningless\n",
      "  UndefinedMetricWarning)\n"
     ]
    },
    {
     "name": "stdout",
     "output_type": "stream",
     "text": [
      "[\"Another's Home\" 'Arts & Entertainment (Theater, Music Venue, Etc.)'\n",
      " 'Food (Restaurant, Cafe)' 'Home' 'Nightlife Spot (Bar, Club)'\n",
      " 'Outdoors & Recreation' 'Spiritual (Church, Temple, Etc.)' 'Work']\n",
      "[ 0.85654527  0.95877147  0.77368943  0.95279655  0.965228    0.99062583\n",
      "  0.99413529  0.90704399] 0.924854476086\n",
      "[ 0.68847021  0.85079994  0.67938907  0.84796782  0.71012318  0.48683429\n",
      "         nan  0.74582824] 0.715630394171\n",
      "------------------\n",
      "49\n"
     ]
    },
    {
     "name": "stderr",
     "output_type": "stream",
     "text": [
      "/usr/local/lib/python3.4/dist-packages/sklearn/metrics/ranking.py:542: UndefinedMetricWarning: No positive samples in y_true, true positive value should be meaningless\n",
      "  UndefinedMetricWarning)\n"
     ]
    },
    {
     "name": "stdout",
     "output_type": "stream",
     "text": [
      "[\"Another's Home\" 'Arts & Entertainment (Theater, Music Venue, Etc.)'\n",
      " 'Food (Restaurant, Cafe)' 'Home' 'Nightlife Spot (Bar, Club)'\n",
      " 'Outdoors & Recreation' 'Spiritual (Church, Temple, Etc.)' 'Work']\n",
      "[ 0.86189777  0.99231113  0.77184649  0.94865347  0.93941764  0.9540035\n",
      "  0.9942287   0.88666777] 0.918628309637\n",
      "[ 0.59000688  0.49128018  0.72412068  0.90632547  0.63156425  0.67790675\n",
      "         nan  0.83523543] 0.693777092934\n",
      "------------------\n",
      "50\n"
     ]
    },
    {
     "name": "stderr",
     "output_type": "stream",
     "text": [
      "/usr/local/lib/python3.4/dist-packages/sklearn/metrics/ranking.py:542: UndefinedMetricWarning: No positive samples in y_true, true positive value should be meaningless\n",
      "  UndefinedMetricWarning)\n"
     ]
    },
    {
     "name": "stdout",
     "output_type": "stream",
     "text": [
      "[\"Another's Home\" 'Arts & Entertainment (Theater, Music Venue, Etc.)'\n",
      " 'Food (Restaurant, Cafe)' 'Home' 'Nightlife Spot (Bar, Club)'\n",
      " 'Outdoors & Recreation' 'Spiritual (Church, Temple, Etc.)' 'Work']\n",
      "[ 0.87581381  0.99378054  0.76463067  0.95185528  0.94540671  0.93846169\n",
      "  0.99542426  0.89998833] 0.920670161071\n",
      "[ 0.64222895         nan  0.70820061  0.90347618  0.80793512         nan\n",
      "         nan  0.79304745] 0.770977662098\n",
      "------------------\n",
      "51\n"
     ]
    },
    {
     "name": "stderr",
     "output_type": "stream",
     "text": [
      "/usr/local/lib/python3.4/dist-packages/sklearn/metrics/ranking.py:542: UndefinedMetricWarning: No positive samples in y_true, true positive value should be meaningless\n",
      "  UndefinedMetricWarning)\n"
     ]
    },
    {
     "name": "stdout",
     "output_type": "stream",
     "text": [
      "[\"Another's Home\" 'Arts & Entertainment (Theater, Music Venue, Etc.)'\n",
      " 'Food (Restaurant, Cafe)' 'Home' 'Nightlife Spot (Bar, Club)'\n",
      " 'Outdoors & Recreation' 'Spiritual (Church, Temple, Etc.)' 'Work']\n",
      "[ 0.8452197   0.95280222  0.76337949  0.94836366  0.95551334  0.90647991\n",
      "  0.99410609  0.89170907] 0.907196684325\n",
      "[ 0.7114798   0.71700231  0.72154886  0.89642122  0.82862451         nan\n",
      "         nan  0.82916974] 0.784041074844\n",
      "------------------\n",
      "52\n"
     ]
    },
    {
     "name": "stderr",
     "output_type": "stream",
     "text": [
      "/usr/local/lib/python3.4/dist-packages/sklearn/metrics/ranking.py:542: UndefinedMetricWarning: No positive samples in y_true, true positive value should be meaningless\n",
      "  UndefinedMetricWarning)\n"
     ]
    },
    {
     "name": "stdout",
     "output_type": "stream",
     "text": [
      "[\"Another's Home\" 'Arts & Entertainment (Theater, Music Venue, Etc.)'\n",
      " 'Food (Restaurant, Cafe)' 'Home' 'Nightlife Spot (Bar, Club)'\n",
      " 'Outdoors & Recreation' 'Spiritual (Church, Temple, Etc.)' 'Work']\n",
      "[ 0.84344166  0.99288208  0.76306673  0.94959416  0.92264476  0.96557704\n",
      "  0.99534217  0.89770293] 0.916281442155\n",
      "[ 0.6304689   0.77624604  0.74050927  0.91493178  0.68300411  0.61525043\n",
      "         nan  0.84199214] 0.743200381795\n",
      "------------------\n",
      "53\n"
     ]
    },
    {
     "name": "stderr",
     "output_type": "stream",
     "text": [
      "/usr/local/lib/python3.4/dist-packages/sklearn/metrics/ranking.py:542: UndefinedMetricWarning: No positive samples in y_true, true positive value should be meaningless\n",
      "  UndefinedMetricWarning)\n"
     ]
    },
    {
     "name": "stdout",
     "output_type": "stream",
     "text": [
      "[\"Another's Home\" 'Arts & Entertainment (Theater, Music Venue, Etc.)'\n",
      " 'Food (Restaurant, Cafe)' 'Home' 'Nightlife Spot (Bar, Club)'\n",
      " 'Outdoors & Recreation' 'Spiritual (Church, Temple, Etc.)' 'Work']\n",
      "[ 0.86010023  0.99316629  0.78494202  0.9472343   0.94220266  0.96128917\n",
      "  0.99500438  0.86692769] 0.918858343197\n",
      "[ 0.6796389   0.74006224  0.71753055  0.90240402  0.59791318  0.48926565\n",
      "         nan  0.8006163 ] 0.703918691281\n",
      "------------------\n",
      "54\n"
     ]
    },
    {
     "name": "stderr",
     "output_type": "stream",
     "text": [
      "/usr/local/lib/python3.4/dist-packages/sklearn/metrics/ranking.py:542: UndefinedMetricWarning: No positive samples in y_true, true positive value should be meaningless\n",
      "  UndefinedMetricWarning)\n"
     ]
    },
    {
     "name": "stdout",
     "output_type": "stream",
     "text": [
      "[\"Another's Home\" 'Arts & Entertainment (Theater, Music Venue, Etc.)'\n",
      " 'Food (Restaurant, Cafe)' 'Home' 'Nightlife Spot (Bar, Club)'\n",
      " 'Outdoors & Recreation' 'Spiritual (Church, Temple, Etc.)' 'Work']\n",
      "[ 0.84266938  0.95874579  0.75848754  0.94552104  0.90746917  0.95478729\n",
      "         nan  0.89401739] 0.894528230306\n",
      "[ 0.64320868  0.59341126  0.71741649  0.90560945  0.4953281   0.48566575\n",
      "         nan  0.78358712] 0.660603834376\n",
      "------------------\n",
      "55\n",
      "[\"Another's Home\" 'Arts & Entertainment (Theater, Music Venue, Etc.)'\n",
      " 'Food (Restaurant, Cafe)' 'Home' 'Nightlife Spot (Bar, Club)'\n",
      " 'Outdoors & Recreation' 'Spiritual (Church, Temple, Etc.)' 'Work']\n",
      "[ 0.84952362  0.97599418  0.76638444  0.95178128  0.99463615  0.96959319\n",
      "  0.9950495   0.89158937] 0.924318966007\n",
      "[ 0.65512933  0.55816975  0.69394462  0.86914571  0.99528937  0.73712034\n",
      "  0.99135114  0.80456122] 0.788088934722\n",
      "------------------\n",
      "56\n"
     ]
    },
    {
     "name": "stderr",
     "output_type": "stream",
     "text": [
      "/usr/local/lib/python3.4/dist-packages/sklearn/metrics/ranking.py:542: UndefinedMetricWarning: No positive samples in y_true, true positive value should be meaningless\n",
      "  UndefinedMetricWarning)\n"
     ]
    },
    {
     "name": "stdout",
     "output_type": "stream",
     "text": [
      "[\"Another's Home\" 'Arts & Entertainment (Theater, Music Venue, Etc.)'\n",
      " 'Food (Restaurant, Cafe)' 'Home' 'Nightlife Spot (Bar, Club)'\n",
      " 'Outdoors & Recreation' 'Spiritual (Church, Temple, Etc.)' 'Work']\n",
      "[ 0.84861757  0.96157903  0.76640089  0.94739654  0.93453271  0.98962405\n",
      "  0.99455561  0.89224746] 0.916869230966\n",
      "[ 0.6449972   0.49373456  0.70728806  0.8789184   0.7191298          nan\n",
      "  0.9928521   0.79302474] 0.747134979239\n",
      "------------------\n",
      "57\n"
     ]
    },
    {
     "name": "stderr",
     "output_type": "stream",
     "text": [
      "/usr/local/lib/python3.4/dist-packages/sklearn/metrics/ranking.py:542: UndefinedMetricWarning: No positive samples in y_true, true positive value should be meaningless\n",
      "  UndefinedMetricWarning)\n"
     ]
    },
    {
     "name": "stdout",
     "output_type": "stream",
     "text": [
      "[\"Another's Home\" 'Arts & Entertainment (Theater, Music Venue, Etc.)'\n",
      " 'Food (Restaurant, Cafe)' 'Home' 'Nightlife Spot (Bar, Club)'\n",
      " 'Outdoors & Recreation' 'Spiritual (Church, Temple, Etc.)' 'Work']\n",
      "[ 0.86748243  0.9128668   0.77500984  0.9517737   0.93633028  0.99115044\n",
      "  0.99461868  0.90767242] 0.917113075738\n",
      "[ 0.7036638   0.68958795  0.70049302  0.90221469  0.79456642  0.57158948\n",
      "         nan  0.79082525] 0.736134374112\n",
      "------------------\n",
      "58\n"
     ]
    },
    {
     "name": "stderr",
     "output_type": "stream",
     "text": [
      "/usr/local/lib/python3.4/dist-packages/sklearn/metrics/ranking.py:542: UndefinedMetricWarning: No positive samples in y_true, true positive value should be meaningless\n",
      "  UndefinedMetricWarning)\n"
     ]
    },
    {
     "name": "stdout",
     "output_type": "stream",
     "text": [
      "[\"Another's Home\" 'Arts & Entertainment (Theater, Music Venue, Etc.)'\n",
      " 'Food (Restaurant, Cafe)' 'Home' 'Nightlife Spot (Bar, Club)'\n",
      " 'Outdoors & Recreation' 'Spiritual (Church, Temple, Etc.)' 'Work']\n",
      "[ 0.85124728  0.93687421  0.76814743  0.95122019  0.91204829  0.95108547\n",
      "  0.99506433  0.90225703] 0.90849302888\n",
      "[ 0.68055688  0.69219331  0.73211109  0.91400493  0.8439206   0.48972263\n",
      "         nan  0.81810591] 0.73865933542\n",
      "------------------\n",
      "59\n"
     ]
    },
    {
     "name": "stderr",
     "output_type": "stream",
     "text": [
      "/usr/local/lib/python3.4/dist-packages/sklearn/metrics/ranking.py:542: UndefinedMetricWarning: No positive samples in y_true, true positive value should be meaningless\n",
      "  UndefinedMetricWarning)\n"
     ]
    },
    {
     "name": "stdout",
     "output_type": "stream",
     "text": [
      "[\"Another's Home\" 'Arts & Entertainment (Theater, Music Venue, Etc.)'\n",
      " 'Food (Restaurant, Cafe)' 'Home' 'Nightlife Spot (Bar, Club)'\n",
      " 'Outdoors & Recreation' 'Spiritual (Church, Temple, Etc.)' 'Work']\n",
      "[ 0.86435139  0.95864084  0.76195009  0.94730842  0.93609731  0.97682019\n",
      "  0.99445609  0.89470428] 0.916791076976\n",
      "[ 0.72947148  0.99240429  0.74111998  0.93420599  0.66443452  0.61740276\n",
      "         nan  0.82701948] 0.786579786761\n",
      "------------------\n",
      "60\n"
     ]
    },
    {
     "name": "stderr",
     "output_type": "stream",
     "text": [
      "/usr/local/lib/python3.4/dist-packages/sklearn/metrics/ranking.py:542: UndefinedMetricWarning: No positive samples in y_true, true positive value should be meaningless\n",
      "  UndefinedMetricWarning)\n"
     ]
    },
    {
     "name": "stdout",
     "output_type": "stream",
     "text": [
      "[\"Another's Home\" 'Arts & Entertainment (Theater, Music Venue, Etc.)'\n",
      " 'Food (Restaurant, Cafe)' 'Home' 'Nightlife Spot (Bar, Club)'\n",
      " 'Outdoors & Recreation' 'Spiritual (Church, Temple, Etc.)' 'Work']\n",
      "[ 0.86439449  0.93101263  0.76142331  0.94446977  0.96871491  0.95795894\n",
      "  0.99527654  0.88806044] 0.91391387887\n",
      "[ 0.72265411  0.58916018  0.73593393  0.92036825  0.78544829  0.49263778\n",
      "         nan  0.82266606] 0.724124083917\n",
      "------------------\n",
      "61\n"
     ]
    },
    {
     "name": "stderr",
     "output_type": "stream",
     "text": [
      "/usr/local/lib/python3.4/dist-packages/sklearn/metrics/ranking.py:542: UndefinedMetricWarning: No positive samples in y_true, true positive value should be meaningless\n",
      "  UndefinedMetricWarning)\n"
     ]
    },
    {
     "name": "stdout",
     "output_type": "stream",
     "text": [
      "[\"Another's Home\" 'Arts & Entertainment (Theater, Music Venue, Etc.)'\n",
      " 'Food (Restaurant, Cafe)' 'Home' 'Nightlife Spot (Bar, Club)'\n",
      " 'Outdoors & Recreation' 'Spiritual (Church, Temple, Etc.)' 'Work']\n",
      "[ 0.87103797  0.96709457  0.75593907  0.94614303  0.94110594  0.96047684\n",
      "  0.99563543  0.88802062] 0.915681684134\n",
      "[ 0.68963214  0.98917657  0.73671783  0.93598586  0.717015           nan\n",
      "         nan  0.80542189] 0.812324881138\n",
      "------------------\n",
      "62\n"
     ]
    },
    {
     "name": "stderr",
     "output_type": "stream",
     "text": [
      "/usr/local/lib/python3.4/dist-packages/sklearn/metrics/ranking.py:542: UndefinedMetricWarning: No positive samples in y_true, true positive value should be meaningless\n",
      "  UndefinedMetricWarning)\n"
     ]
    },
    {
     "name": "stdout",
     "output_type": "stream",
     "text": [
      "[\"Another's Home\" 'Arts & Entertainment (Theater, Music Venue, Etc.)'\n",
      " 'Food (Restaurant, Cafe)' 'Home' 'Nightlife Spot (Bar, Club)'\n",
      " 'Outdoors & Recreation' 'Spiritual (Church, Temple, Etc.)' 'Work']\n",
      "[ 0.83489578  0.89238052  0.76359287  0.94324291  0.94836147  0.97162838\n",
      "  0.99351234  0.89157115] 0.904898178933\n",
      "[ 0.64568275  0.74300038  0.74454227  0.89717865  0.77101367         nan\n",
      "         nan  0.82362332] 0.770840171836\n",
      "------------------\n",
      "63\n"
     ]
    },
    {
     "name": "stderr",
     "output_type": "stream",
     "text": [
      "/usr/local/lib/python3.4/dist-packages/sklearn/metrics/ranking.py:542: UndefinedMetricWarning: No positive samples in y_true, true positive value should be meaningless\n",
      "  UndefinedMetricWarning)\n"
     ]
    },
    {
     "name": "stdout",
     "output_type": "stream",
     "text": [
      "[\"Another's Home\" 'Arts & Entertainment (Theater, Music Venue, Etc.)'\n",
      " 'Food (Restaurant, Cafe)' 'Home' 'Nightlife Spot (Bar, Club)'\n",
      " 'Outdoors & Recreation' 'Spiritual (Church, Temple, Etc.)' 'Work']\n",
      "[ 0.86052605  0.90436033  0.76960964  0.94856397  0.96243709  0.94404736\n",
      "  0.99363463  0.88808676] 0.908908228373\n",
      "[ 0.63820994  0.89118575  0.7037327   0.88779967  0.88220365         nan\n",
      "         nan  0.79367183] 0.799467256844\n",
      "------------------\n",
      "64\n",
      "[\"Another's Home\" 'Arts & Entertainment (Theater, Music Venue, Etc.)'\n",
      " 'Food (Restaurant, Cafe)' 'Home' 'Nightlife Spot (Bar, Club)'\n",
      " 'Outdoors & Recreation' 'Spiritual (Church, Temple, Etc.)' 'Work']\n",
      "[ 0.85210707  0.9585588   0.75635168  0.9475122   0.99653979  0.95573472\n",
      "  0.97256299  0.8909269 ] 0.916286770615\n",
      "[ 0.72995162  0.49225235  0.70864255  0.89467579  0.98958525  0.49105331\n",
      "  0.99483776  0.78428901] 0.760660955033\n",
      "------------------\n",
      "65\n"
     ]
    },
    {
     "name": "stderr",
     "output_type": "stream",
     "text": [
      "/usr/local/lib/python3.4/dist-packages/sklearn/metrics/ranking.py:542: UndefinedMetricWarning: No positive samples in y_true, true positive value should be meaningless\n",
      "  UndefinedMetricWarning)\n"
     ]
    },
    {
     "name": "stdout",
     "output_type": "stream",
     "text": [
      "[\"Another's Home\" 'Arts & Entertainment (Theater, Music Venue, Etc.)'\n",
      " 'Food (Restaurant, Cafe)' 'Home' 'Nightlife Spot (Bar, Club)'\n",
      " 'Outdoors & Recreation' 'Spiritual (Church, Temple, Etc.)' 'Work']\n",
      "[ 0.84179989  0.89148572  0.77090494  0.95262921  0.91142965  0.92826992\n",
      "  0.99419181  0.90097922] 0.898961294289\n",
      "[ 0.60734522         nan  0.70920516  0.87311309  0.71087791  0.48817855\n",
      "         nan  0.79088809] 0.696601337853\n",
      "------------------\n",
      "66\n"
     ]
    },
    {
     "name": "stderr",
     "output_type": "stream",
     "text": [
      "/usr/local/lib/python3.4/dist-packages/sklearn/metrics/ranking.py:542: UndefinedMetricWarning: No positive samples in y_true, true positive value should be meaningless\n",
      "  UndefinedMetricWarning)\n"
     ]
    },
    {
     "name": "stdout",
     "output_type": "stream",
     "text": [
      "[\"Another's Home\" 'Arts & Entertainment (Theater, Music Venue, Etc.)'\n",
      " 'Food (Restaurant, Cafe)' 'Home' 'Nightlife Spot (Bar, Club)'\n",
      " 'Outdoors & Recreation' 'Spiritual (Church, Temple, Etc.)' 'Work']\n",
      "[ 0.87504016  0.94825616  0.77155704  0.94745476  0.95390033  0.95252794\n",
      "  0.99490698  0.9005891 ] 0.918029058403\n",
      "[ 0.68884782  0.69312943  0.71582762  0.89336481  0.62055654  0.7375969\n",
      "         nan  0.77834378] 0.732523843409\n",
      "------------------\n",
      "67\n"
     ]
    },
    {
     "name": "stderr",
     "output_type": "stream",
     "text": [
      "/usr/local/lib/python3.4/dist-packages/sklearn/metrics/ranking.py:542: UndefinedMetricWarning: No positive samples in y_true, true positive value should be meaningless\n",
      "  UndefinedMetricWarning)\n"
     ]
    },
    {
     "name": "stdout",
     "output_type": "stream",
     "text": [
      "[\"Another's Home\" 'Arts & Entertainment (Theater, Music Venue, Etc.)'\n",
      " 'Food (Restaurant, Cafe)' 'Home' 'Nightlife Spot (Bar, Club)'\n",
      " 'Outdoors & Recreation' 'Spiritual (Church, Temple, Etc.)' 'Work']\n",
      "[ 0.85429291  0.94074478  0.7672645   0.94484119  0.99553875  0.99044505\n",
      "  0.99502931  0.8936059 ] 0.922720299772\n",
      "[ 0.67657395  0.7390669   0.72855065  0.91454778  0.99285869  0.73874702\n",
      "         nan  0.75968979] 0.79286211139\n",
      "------------------\n",
      "68\n"
     ]
    },
    {
     "name": "stderr",
     "output_type": "stream",
     "text": [
      "/usr/local/lib/python3.4/dist-packages/sklearn/metrics/ranking.py:542: UndefinedMetricWarning: No positive samples in y_true, true positive value should be meaningless\n",
      "  UndefinedMetricWarning)\n"
     ]
    },
    {
     "name": "stdout",
     "output_type": "stream",
     "text": [
      "[\"Another's Home\" 'Arts & Entertainment (Theater, Music Venue, Etc.)'\n",
      " 'Food (Restaurant, Cafe)' 'Home' 'Nightlife Spot (Bar, Club)'\n",
      " 'Outdoors & Recreation' 'Spiritual (Church, Temple, Etc.)' 'Work']\n",
      "[ 0.87398648  0.94195887  0.75300562  0.93961281  0.95511401  0.95499838\n",
      "  0.99455567  0.88250535] 0.911967147887\n",
      "[ 0.75548177         nan  0.71610619  0.92571546  0.7459041   0.49190971\n",
      "         nan  0.8265059 ] 0.743603853454\n",
      "------------------\n",
      "69\n",
      "[\"Another's Home\" 'Arts & Entertainment (Theater, Music Venue, Etc.)'\n",
      " 'Food (Restaurant, Cafe)' 'Home' 'Nightlife Spot (Bar, Club)'\n",
      " 'Outdoors & Recreation' 'Spiritual (Church, Temple, Etc.)' 'Work']\n",
      "[ 0.8471644   0.91618646  0.75722768  0.94483902  0.94911403  0.94656668\n",
      "  0.99452973  0.8929982 ] 0.906078275815\n",
      "[ 0.70470109  0.74168811  0.73143954  0.9124606   0.99406763  0.48922073\n",
      "  0.49446422  0.76399998] 0.729005235341\n",
      "------------------\n",
      "70\n"
     ]
    },
    {
     "name": "stderr",
     "output_type": "stream",
     "text": [
      "/usr/local/lib/python3.4/dist-packages/sklearn/metrics/ranking.py:542: UndefinedMetricWarning: No positive samples in y_true, true positive value should be meaningless\n",
      "  UndefinedMetricWarning)\n"
     ]
    },
    {
     "name": "stdout",
     "output_type": "stream",
     "text": [
      "[\"Another's Home\" 'Arts & Entertainment (Theater, Music Venue, Etc.)'\n",
      " 'Food (Restaurant, Cafe)' 'Home' 'Nightlife Spot (Bar, Club)'\n",
      " 'Outdoors & Recreation' 'Spiritual (Church, Temple, Etc.)' 'Work']\n",
      "[ 0.85074416  0.97274809  0.77259092  0.95417744  0.94595917  0.99136106\n",
      "  0.99410267  0.91552573] 0.924651155323\n",
      "[ 0.61328931  0.49119182  0.7081191   0.88907678  0.78687468         nan\n",
      "         nan  0.78882095] 0.712895443062\n",
      "------------------\n",
      "71\n"
     ]
    },
    {
     "name": "stderr",
     "output_type": "stream",
     "text": [
      "/usr/local/lib/python3.4/dist-packages/sklearn/metrics/ranking.py:542: UndefinedMetricWarning: No positive samples in y_true, true positive value should be meaningless\n",
      "  UndefinedMetricWarning)\n"
     ]
    },
    {
     "name": "stdout",
     "output_type": "stream",
     "text": [
      "[\"Another's Home\" 'Arts & Entertainment (Theater, Music Venue, Etc.)'\n",
      " 'Food (Restaurant, Cafe)' 'Home' 'Nightlife Spot (Bar, Club)'\n",
      " 'Outdoors & Recreation' 'Spiritual (Church, Temple, Etc.)' 'Work']\n",
      "[ 0.88144367  0.93742858  0.75581056  0.94381291  0.93518262  0.99115391\n",
      "  0.99521198  0.89346079] 0.916688128978\n",
      "[ 0.68455467         nan  0.72450842  0.89952508  0.56016165         nan\n",
      "         nan  0.79799441] 0.733348846714\n",
      "------------------\n",
      "72\n"
     ]
    },
    {
     "name": "stderr",
     "output_type": "stream",
     "text": [
      "/usr/local/lib/python3.4/dist-packages/sklearn/metrics/ranking.py:542: UndefinedMetricWarning: No positive samples in y_true, true positive value should be meaningless\n",
      "  UndefinedMetricWarning)\n"
     ]
    },
    {
     "name": "stdout",
     "output_type": "stream",
     "text": [
      "[\"Another's Home\" 'Arts & Entertainment (Theater, Music Venue, Etc.)'\n",
      " 'Food (Restaurant, Cafe)' 'Home' 'Nightlife Spot (Bar, Club)'\n",
      " 'Outdoors & Recreation' 'Spiritual (Church, Temple, Etc.)' 'Work']\n",
      "[ 0.86825628  0.99301144  0.77200904  0.94840696  0.93769349  0.9430213\n",
      "  0.99432348  0.89359878] 0.918790096687\n",
      "[ 0.68374259  0.90750636  0.71549609  0.91695624  0.68455433  0.7381186\n",
      "         nan  0.77961467] 0.775141267954\n",
      "------------------\n",
      "73\n"
     ]
    },
    {
     "name": "stderr",
     "output_type": "stream",
     "text": [
      "/usr/local/lib/python3.4/dist-packages/sklearn/metrics/ranking.py:542: UndefinedMetricWarning: No positive samples in y_true, true positive value should be meaningless\n",
      "  UndefinedMetricWarning)\n"
     ]
    },
    {
     "name": "stdout",
     "output_type": "stream",
     "text": [
      "[\"Another's Home\" 'Arts & Entertainment (Theater, Music Venue, Etc.)'\n",
      " 'Food (Restaurant, Cafe)' 'Home' 'Nightlife Spot (Bar, Club)'\n",
      " 'Outdoors & Recreation' 'Spiritual (Church, Temple, Etc.)' 'Work']\n",
      "[ 0.85984287  0.99164176  0.7542825   0.95035374  0.99466442  0.94104818\n",
      "  0.99374592  0.88967312] 0.921906563341\n",
      "[ 0.68298141         nan  0.72769154  0.86993307  0.99604847  0.636796\n",
      "         nan  0.79857493] 0.785337570598\n",
      "------------------\n",
      "74\n",
      "[\"Another's Home\" 'Arts & Entertainment (Theater, Music Venue, Etc.)'\n",
      " 'Food (Restaurant, Cafe)' 'Home' 'Nightlife Spot (Bar, Club)'\n",
      " 'Outdoors & Recreation' 'Spiritual (Church, Temple, Etc.)' 'Work']\n",
      "[ 0.86195748  0.88512113  0.75807878  0.95846978  0.95268209  0.88157463\n",
      "  0.99506938  0.89370842] 0.8983327101\n",
      "[ 0.68297891  0.82575298  0.71215776  0.88927933  0.91049757  0.48797737\n",
      "  0.9917155   0.78382369] 0.785522890213\n",
      "------------------\n",
      "75\n"
     ]
    },
    {
     "name": "stderr",
     "output_type": "stream",
     "text": [
      "/usr/local/lib/python3.4/dist-packages/sklearn/metrics/ranking.py:542: UndefinedMetricWarning: No positive samples in y_true, true positive value should be meaningless\n",
      "  UndefinedMetricWarning)\n"
     ]
    },
    {
     "name": "stdout",
     "output_type": "stream",
     "text": [
      "[\"Another's Home\" 'Arts & Entertainment (Theater, Music Venue, Etc.)'\n",
      " 'Food (Restaurant, Cafe)' 'Home' 'Nightlife Spot (Bar, Club)'\n",
      " 'Outdoors & Recreation' 'Spiritual (Church, Temple, Etc.)' 'Work']\n",
      "[ 0.86807745  0.94899504  0.77236398  0.95236553  0.9678664   0.96643181\n",
      "  0.99422206  0.90277944] 0.921637712352\n",
      "[ 0.64604356  0.48868534  0.71677324  0.9155916   0.88143291  0.48420958\n",
      "         nan  0.73744899] 0.69574074597\n",
      "------------------\n",
      "76\n"
     ]
    },
    {
     "name": "stderr",
     "output_type": "stream",
     "text": [
      "/usr/local/lib/python3.4/dist-packages/sklearn/metrics/ranking.py:542: UndefinedMetricWarning: No positive samples in y_true, true positive value should be meaningless\n",
      "  UndefinedMetricWarning)\n"
     ]
    },
    {
     "name": "stdout",
     "output_type": "stream",
     "text": [
      "[\"Another's Home\" 'Arts & Entertainment (Theater, Music Venue, Etc.)'\n",
      " 'Food (Restaurant, Cafe)' 'Home' 'Nightlife Spot (Bar, Club)'\n",
      " 'Outdoors & Recreation' 'Spiritual (Church, Temple, Etc.)' 'Work']\n",
      "[ 0.85816818  0.99355241  0.77426967  0.94947846  0.94937702  0.99071684\n",
      "         nan  0.90385043] 0.917059002911\n",
      "[ 0.6873764   0.98813056  0.68308022  0.93668041  0.69634453  0.48824469\n",
      "         nan  0.83837798] 0.75974782861\n",
      "------------------\n",
      "77\n"
     ]
    },
    {
     "name": "stderr",
     "output_type": "stream",
     "text": [
      "/usr/local/lib/python3.4/dist-packages/sklearn/metrics/ranking.py:542: UndefinedMetricWarning: No positive samples in y_true, true positive value should be meaningless\n",
      "  UndefinedMetricWarning)\n"
     ]
    },
    {
     "name": "stdout",
     "output_type": "stream",
     "text": [
      "[\"Another's Home\" 'Arts & Entertainment (Theater, Music Venue, Etc.)'\n",
      " 'Food (Restaurant, Cafe)' 'Home' 'Nightlife Spot (Bar, Club)'\n",
      " 'Outdoors & Recreation' 'Spiritual (Church, Temple, Etc.)' 'Work']\n",
      "[ 0.87624755  0.99308575  0.76386035  0.95021655  0.98205812  0.95975461\n",
      "  0.99420833  0.89619126] 0.92695281475\n",
      "[ 0.68978317  0.82273407  0.71233979  0.91671444  0.90265971  0.99134067\n",
      "         nan  0.80132244] 0.833842041773\n",
      "------------------\n",
      "78\n"
     ]
    },
    {
     "name": "stderr",
     "output_type": "stream",
     "text": [
      "/usr/local/lib/python3.4/dist-packages/sklearn/metrics/ranking.py:542: UndefinedMetricWarning: No positive samples in y_true, true positive value should be meaningless\n",
      "  UndefinedMetricWarning)\n"
     ]
    },
    {
     "name": "stdout",
     "output_type": "stream",
     "text": [
      "[\"Another's Home\" 'Arts & Entertainment (Theater, Music Venue, Etc.)'\n",
      " 'Food (Restaurant, Cafe)' 'Home' 'Nightlife Spot (Bar, Club)'\n",
      " 'Outdoors & Recreation' 'Spiritual (Church, Temple, Etc.)' 'Work']\n",
      "[ 0.87149854  0.9260781   0.75997187  0.94531119  0.9740887   0.9663476\n",
      "         nan  0.89017658] 0.904781795076\n",
      "[ 0.69942724  0.66139117  0.74153389  0.91587123  0.80663146         nan\n",
      "         nan  0.76385953] 0.764785752195\n",
      "------------------\n",
      "79\n"
     ]
    },
    {
     "name": "stderr",
     "output_type": "stream",
     "text": [
      "/usr/local/lib/python3.4/dist-packages/sklearn/metrics/ranking.py:542: UndefinedMetricWarning: No positive samples in y_true, true positive value should be meaningless\n",
      "  UndefinedMetricWarning)\n"
     ]
    },
    {
     "name": "stdout",
     "output_type": "stream",
     "text": [
      "[\"Another's Home\" 'Arts & Entertainment (Theater, Music Venue, Etc.)'\n",
      " 'Food (Restaurant, Cafe)' 'Home' 'Nightlife Spot (Bar, Club)'\n",
      " 'Outdoors & Recreation' 'Spiritual (Church, Temple, Etc.)' 'Work']\n",
      "[ 0.83989044  0.91236161  0.76158494  0.94346331  0.94004796  0.98971905\n",
      "  0.99401383  0.88378672] 0.908108483445\n",
      "[ 0.6512476          nan  0.72872427  0.87625459  0.99413375  0.98965248\n",
      "         nan  0.80225321] 0.840377651457\n",
      "------------------\n",
      "80\n"
     ]
    },
    {
     "name": "stderr",
     "output_type": "stream",
     "text": [
      "/usr/local/lib/python3.4/dist-packages/sklearn/metrics/ranking.py:542: UndefinedMetricWarning: No positive samples in y_true, true positive value should be meaningless\n",
      "  UndefinedMetricWarning)\n"
     ]
    },
    {
     "name": "stdout",
     "output_type": "stream",
     "text": [
      "[\"Another's Home\" 'Arts & Entertainment (Theater, Music Venue, Etc.)'\n",
      " 'Food (Restaurant, Cafe)' 'Home' 'Nightlife Spot (Bar, Club)'\n",
      " 'Outdoors & Recreation' 'Spiritual (Church, Temple, Etc.)' 'Work']\n",
      "[ 0.87633367  0.93446458  0.75472524  0.94941093  0.99559829  0.9501614\n",
      "  0.99474494  0.88480288] 0.917530240576\n",
      "[ 0.70735229  0.55739144  0.74469012  0.91578069         nan  0.74234368\n",
      "  0.99234857  0.74368684] 0.771941948589\n",
      "------------------\n",
      "81\n"
     ]
    },
    {
     "name": "stderr",
     "output_type": "stream",
     "text": [
      "/usr/local/lib/python3.4/dist-packages/sklearn/metrics/ranking.py:542: UndefinedMetricWarning: No positive samples in y_true, true positive value should be meaningless\n",
      "  UndefinedMetricWarning)\n"
     ]
    },
    {
     "name": "stdout",
     "output_type": "stream",
     "text": [
      "[\"Another's Home\" 'Arts & Entertainment (Theater, Music Venue, Etc.)'\n",
      " 'Food (Restaurant, Cafe)' 'Home' 'Nightlife Spot (Bar, Club)'\n",
      " 'Outdoors & Recreation' 'Spiritual (Church, Temple, Etc.)' 'Work']\n",
      "[ 0.83636047  0.89321326  0.77498478  0.95000289  0.92377715  0.97023292\n",
      "  0.99526458  0.89968226] 0.905439787856\n",
      "[ 0.62567192  0.69098361  0.71953012  0.91221069  0.66247186  0.64958052\n",
      "         nan  0.77600416] 0.71949326948\n",
      "------------------\n",
      "82\n"
     ]
    },
    {
     "name": "stderr",
     "output_type": "stream",
     "text": [
      "/usr/local/lib/python3.4/dist-packages/sklearn/metrics/ranking.py:542: UndefinedMetricWarning: No positive samples in y_true, true positive value should be meaningless\n",
      "  UndefinedMetricWarning)\n"
     ]
    },
    {
     "name": "stdout",
     "output_type": "stream",
     "text": [
      "[\"Another's Home\" 'Arts & Entertainment (Theater, Music Venue, Etc.)'\n",
      " 'Food (Restaurant, Cafe)' 'Home' 'Nightlife Spot (Bar, Club)'\n",
      " 'Outdoors & Recreation' 'Spiritual (Church, Temple, Etc.)' 'Work']\n",
      "[ 0.84686257  0.96428998  0.76367453  0.9499971   0.92792945  0.96264796\n",
      "  0.99309727  0.89866499] 0.913395481468\n",
      "[ 0.62391923  0.99227394  0.71089873  0.86423753  0.58027815  0.55438157\n",
      "         nan  0.79262498] 0.73123058882\n",
      "------------------\n",
      "83\n"
     ]
    },
    {
     "name": "stderr",
     "output_type": "stream",
     "text": [
      "/usr/local/lib/python3.4/dist-packages/sklearn/metrics/ranking.py:542: UndefinedMetricWarning: No positive samples in y_true, true positive value should be meaningless\n",
      "  UndefinedMetricWarning)\n"
     ]
    },
    {
     "name": "stdout",
     "output_type": "stream",
     "text": [
      "[\"Another's Home\" 'Arts & Entertainment (Theater, Music Venue, Etc.)'\n",
      " 'Food (Restaurant, Cafe)' 'Home' 'Nightlife Spot (Bar, Club)'\n",
      " 'Outdoors & Recreation' 'Spiritual (Church, Temple, Etc.)' 'Work']\n",
      "[ 0.8510411   0.96142708  0.77572405  0.95111889  0.96071852  0.9381008\n",
      "  0.99543278  0.90320052] 0.9170954673\n",
      "[ 0.59288363  0.49065239  0.6920111   0.90231543  0.86895947  0.99074976\n",
      "         nan  0.82257418] 0.765735136715\n",
      "------------------\n",
      "84\n"
     ]
    },
    {
     "name": "stderr",
     "output_type": "stream",
     "text": [
      "/usr/local/lib/python3.4/dist-packages/sklearn/metrics/ranking.py:542: UndefinedMetricWarning: No positive samples in y_true, true positive value should be meaningless\n",
      "  UndefinedMetricWarning)\n"
     ]
    },
    {
     "name": "stdout",
     "output_type": "stream",
     "text": [
      "[\"Another's Home\" 'Arts & Entertainment (Theater, Music Venue, Etc.)'\n",
      " 'Food (Restaurant, Cafe)' 'Home' 'Nightlife Spot (Bar, Club)'\n",
      " 'Outdoors & Recreation' 'Spiritual (Church, Temple, Etc.)' 'Work']\n",
      "[ 0.86225704  0.91215936  0.76606282  0.94694781  0.95664234  0.96468447\n",
      "  0.9939155   0.88677288] 0.911180277775\n",
      "[ 0.72124591  0.7414031   0.73359693  0.91577993  0.56717868  0.48885587\n",
      "         nan  0.79550985] 0.709081466007\n",
      "------------------\n",
      "85\n"
     ]
    },
    {
     "name": "stderr",
     "output_type": "stream",
     "text": [
      "/usr/local/lib/python3.4/dist-packages/sklearn/metrics/ranking.py:542: UndefinedMetricWarning: No positive samples in y_true, true positive value should be meaningless\n",
      "  UndefinedMetricWarning)\n"
     ]
    },
    {
     "name": "stdout",
     "output_type": "stream",
     "text": [
      "[\"Another's Home\" 'Arts & Entertainment (Theater, Music Venue, Etc.)'\n",
      " 'Food (Restaurant, Cafe)' 'Home' 'Nightlife Spot (Bar, Club)'\n",
      " 'Outdoors & Recreation' 'Spiritual (Church, Temple, Etc.)' 'Work']\n",
      "[ 0.85451734  0.90023695  0.78039736  0.94288413  0.94490269  0.94310365\n",
      "  0.99475735  0.89613885] 0.907117290459\n",
      "[ 0.68913718  0.49143927  0.68270578  0.90703901  0.86805308  0.48824996\n",
      "         nan  0.82033816] 0.70670891894\n",
      "------------------\n",
      "86\n"
     ]
    },
    {
     "name": "stderr",
     "output_type": "stream",
     "text": [
      "/usr/local/lib/python3.4/dist-packages/sklearn/metrics/ranking.py:542: UndefinedMetricWarning: No positive samples in y_true, true positive value should be meaningless\n",
      "  UndefinedMetricWarning)\n"
     ]
    },
    {
     "name": "stdout",
     "output_type": "stream",
     "text": [
      "[\"Another's Home\" 'Arts & Entertainment (Theater, Music Venue, Etc.)'\n",
      " 'Food (Restaurant, Cafe)' 'Home' 'Nightlife Spot (Bar, Club)'\n",
      " 'Outdoors & Recreation' 'Spiritual (Church, Temple, Etc.)' 'Work']\n",
      "[ 0.85341107  0.96862567  0.7584559   0.95058819  0.96766461  0.93191364\n",
      "  0.99456208  0.890374  ] 0.914449394898\n",
      "[ 0.62647829  0.62837562  0.72394056  0.90221722  0.99559654  0.80218729\n",
      "         nan  0.79724117] 0.782290955339\n",
      "------------------\n",
      "87\n"
     ]
    },
    {
     "name": "stderr",
     "output_type": "stream",
     "text": [
      "/usr/local/lib/python3.4/dist-packages/sklearn/metrics/ranking.py:542: UndefinedMetricWarning: No positive samples in y_true, true positive value should be meaningless\n",
      "  UndefinedMetricWarning)\n"
     ]
    },
    {
     "name": "stdout",
     "output_type": "stream",
     "text": [
      "[\"Another's Home\" 'Arts & Entertainment (Theater, Music Venue, Etc.)'\n",
      " 'Food (Restaurant, Cafe)' 'Home' 'Nightlife Spot (Bar, Club)'\n",
      " 'Outdoors & Recreation' 'Spiritual (Church, Temple, Etc.)' 'Work']\n",
      "[ 0.86149646  0.92532966  0.76890674  0.95272108  0.93335009  0.99173202\n",
      "  0.99457636  0.89414108] 0.915281685429\n",
      "[ 0.6985774   0.71141777  0.71629701  0.91224743  0.81585993  0.98366083\n",
      "         nan  0.79278489] 0.804406466523\n",
      "------------------\n",
      "88\n"
     ]
    },
    {
     "name": "stderr",
     "output_type": "stream",
     "text": [
      "/usr/local/lib/python3.4/dist-packages/sklearn/metrics/ranking.py:542: UndefinedMetricWarning: No positive samples in y_true, true positive value should be meaningless\n",
      "  UndefinedMetricWarning)\n"
     ]
    },
    {
     "name": "stdout",
     "output_type": "stream",
     "text": [
      "[\"Another's Home\" 'Arts & Entertainment (Theater, Music Venue, Etc.)'\n",
      " 'Food (Restaurant, Cafe)' 'Home' 'Nightlife Spot (Bar, Club)'\n",
      " 'Outdoors & Recreation' 'Spiritual (Church, Temple, Etc.)' 'Work']\n",
      "[ 0.87625501  0.91307717  0.76219874  0.94238197  0.95882938  0.94963004\n",
      "  0.99448439  0.88403124] 0.910110992599\n",
      "[ 0.72137365  0.99244966  0.710957    0.94222877  0.99148885  0.49400911\n",
      "         nan  0.83108741] 0.811942065164\n",
      "------------------\n",
      "89\n"
     ]
    },
    {
     "name": "stderr",
     "output_type": "stream",
     "text": [
      "/usr/local/lib/python3.4/dist-packages/sklearn/metrics/ranking.py:542: UndefinedMetricWarning: No positive samples in y_true, true positive value should be meaningless\n",
      "  UndefinedMetricWarning)\n"
     ]
    },
    {
     "name": "stdout",
     "output_type": "stream",
     "text": [
      "[\"Another's Home\" 'Arts & Entertainment (Theater, Music Venue, Etc.)'\n",
      " 'Food (Restaurant, Cafe)' 'Home' 'Nightlife Spot (Bar, Club)'\n",
      " 'Outdoors & Recreation' 'Spiritual (Church, Temple, Etc.)' 'Work']\n",
      "[ 0.85532062  0.9252712   0.76463565  0.94773917  0.90334889  0.94078598\n",
      "  0.99533111  0.88769941] 0.902516503572\n",
      "[ 0.70679828  0.62850801  0.72291273  0.91890252  0.82749345         nan\n",
      "         nan  0.79853978] 0.767192463302\n",
      "------------------\n",
      "90\n"
     ]
    },
    {
     "name": "stderr",
     "output_type": "stream",
     "text": [
      "/usr/local/lib/python3.4/dist-packages/sklearn/metrics/ranking.py:542: UndefinedMetricWarning: No positive samples in y_true, true positive value should be meaningless\n",
      "  UndefinedMetricWarning)\n"
     ]
    },
    {
     "name": "stdout",
     "output_type": "stream",
     "text": [
      "[\"Another's Home\" 'Arts & Entertainment (Theater, Music Venue, Etc.)'\n",
      " 'Food (Restaurant, Cafe)' 'Home' 'Nightlife Spot (Bar, Club)'\n",
      " 'Outdoors & Recreation' 'Spiritual (Church, Temple, Etc.)' 'Work']\n",
      "[ 0.79864408  0.93955041  0.77556893  0.94404823  0.94568642  0.95318473\n",
      "  0.99584345  0.89519202] 0.905964783775\n",
      "[ 0.60273734  0.82438753  0.75268322  0.89861118  0.80740871  0.65649301\n",
      "         nan  0.80710072] 0.764203101755\n",
      "------------------\n",
      "91\n"
     ]
    },
    {
     "name": "stderr",
     "output_type": "stream",
     "text": [
      "/usr/local/lib/python3.4/dist-packages/sklearn/metrics/ranking.py:542: UndefinedMetricWarning: No positive samples in y_true, true positive value should be meaningless\n",
      "  UndefinedMetricWarning)\n"
     ]
    },
    {
     "name": "stdout",
     "output_type": "stream",
     "text": [
      "[\"Another's Home\" 'Arts & Entertainment (Theater, Music Venue, Etc.)'\n",
      " 'Food (Restaurant, Cafe)' 'Home' 'Nightlife Spot (Bar, Club)'\n",
      " 'Outdoors & Recreation' 'Spiritual (Church, Temple, Etc.)' 'Work']\n",
      "[ 0.865137    0.92133864  0.76237039  0.95215296  0.99606546  0.95184932\n",
      "  0.99579907  0.89451604] 0.917403609988\n",
      "[ 0.68656262  0.99029593  0.72628665  0.88946807  0.82564398  0.49269371\n",
      "         nan  0.74449287] 0.765063403129\n",
      "------------------\n",
      "92\n"
     ]
    },
    {
     "name": "stderr",
     "output_type": "stream",
     "text": [
      "/usr/local/lib/python3.4/dist-packages/sklearn/metrics/ranking.py:542: UndefinedMetricWarning: No positive samples in y_true, true positive value should be meaningless\n",
      "  UndefinedMetricWarning)\n"
     ]
    },
    {
     "name": "stdout",
     "output_type": "stream",
     "text": [
      "[\"Another's Home\" 'Arts & Entertainment (Theater, Music Venue, Etc.)'\n",
      " 'Food (Restaurant, Cafe)' 'Home' 'Nightlife Spot (Bar, Club)'\n",
      " 'Outdoors & Recreation' 'Spiritual (Church, Temple, Etc.)' 'Work']\n",
      "[ 0.84984631  0.97274738  0.76310589  0.94886462  0.95718135  0.99002983\n",
      "  0.99505204  0.89561471] 0.921555265638\n",
      "[ 0.66805236  0.59336046  0.70928736  0.90620479  0.89378882  0.48844178\n",
      "         nan  0.7817003 ] 0.720119409041\n",
      "------------------\n",
      "93\n"
     ]
    },
    {
     "name": "stderr",
     "output_type": "stream",
     "text": [
      "/usr/local/lib/python3.4/dist-packages/sklearn/metrics/ranking.py:542: UndefinedMetricWarning: No positive samples in y_true, true positive value should be meaningless\n",
      "  UndefinedMetricWarning)\n"
     ]
    },
    {
     "name": "stdout",
     "output_type": "stream",
     "text": [
      "[\"Another's Home\" 'Arts & Entertainment (Theater, Music Venue, Etc.)'\n",
      " 'Food (Restaurant, Cafe)' 'Home' 'Nightlife Spot (Bar, Club)'\n",
      " 'Outdoors & Recreation' 'Spiritual (Church, Temple, Etc.)' 'Work']\n",
      "[ 0.83681543  0.90051477  0.77136702  0.94984896  0.93633178  0.96881144\n",
      "  0.9950354   0.90337133] 0.907762015823\n",
      "[ 0.62472232  0.98657928  0.70932713  0.90314685  0.8484844   0.98866001\n",
      "         nan  0.79239769] 0.836188238569\n",
      "------------------\n",
      "94\n"
     ]
    },
    {
     "name": "stderr",
     "output_type": "stream",
     "text": [
      "/usr/local/lib/python3.4/dist-packages/sklearn/metrics/ranking.py:542: UndefinedMetricWarning: No positive samples in y_true, true positive value should be meaningless\n",
      "  UndefinedMetricWarning)\n"
     ]
    },
    {
     "name": "stdout",
     "output_type": "stream",
     "text": [
      "[\"Another's Home\" 'Arts & Entertainment (Theater, Music Venue, Etc.)'\n",
      " 'Food (Restaurant, Cafe)' 'Home' 'Nightlife Spot (Bar, Club)'\n",
      " 'Outdoors & Recreation' 'Spiritual (Church, Temple, Etc.)' 'Work']\n",
      "[ 0.88703399  0.93049744  0.76841593  0.95281027  0.95824328  0.99070521\n",
      "  0.99424945  0.89316106] 0.921889576939\n",
      "[ 0.77724214  0.69142735  0.70672013  0.90334101  0.80693016         nan\n",
      "         nan  0.77376943] 0.776571702845\n",
      "------------------\n",
      "95\n"
     ]
    },
    {
     "name": "stderr",
     "output_type": "stream",
     "text": [
      "/usr/local/lib/python3.4/dist-packages/sklearn/metrics/ranking.py:542: UndefinedMetricWarning: No positive samples in y_true, true positive value should be meaningless\n",
      "  UndefinedMetricWarning)\n"
     ]
    },
    {
     "name": "stdout",
     "output_type": "stream",
     "text": [
      "[\"Another's Home\" 'Arts & Entertainment (Theater, Music Venue, Etc.)'\n",
      " 'Food (Restaurant, Cafe)' 'Home' 'Nightlife Spot (Bar, Club)'\n",
      " 'Outdoors & Recreation' 'Spiritual (Church, Temple, Etc.)' 'Work']\n",
      "[ 0.88388598  0.99220824  0.76286692  0.95728594  0.90772968  0.94723397\n",
      "  0.99435511  0.89060507] 0.917021363552\n",
      "[ 0.63249346  0.69236317  0.72139142  0.87483931  0.74332203  0.53812659\n",
      "         nan  0.78747079] 0.712858111323\n",
      "------------------\n",
      "96\n"
     ]
    },
    {
     "name": "stderr",
     "output_type": "stream",
     "text": [
      "/usr/local/lib/python3.4/dist-packages/sklearn/metrics/ranking.py:542: UndefinedMetricWarning: No positive samples in y_true, true positive value should be meaningless\n",
      "  UndefinedMetricWarning)\n"
     ]
    },
    {
     "name": "stdout",
     "output_type": "stream",
     "text": [
      "[\"Another's Home\" 'Arts & Entertainment (Theater, Music Venue, Etc.)'\n",
      " 'Food (Restaurant, Cafe)' 'Home' 'Nightlife Spot (Bar, Club)'\n",
      " 'Outdoors & Recreation' 'Spiritual (Church, Temple, Etc.)' 'Work']\n",
      "[ 0.8462889   0.95364501  0.76650356  0.94555282  0.9484857   0.98988511\n",
      "  0.99475917  0.90530383] 0.918803011662\n",
      "[ 0.74079621  0.99190606  0.72340014  0.92278999  0.56800704  0.98952164\n",
      "         nan  0.80738172] 0.820543258095\n",
      "------------------\n",
      "97\n"
     ]
    },
    {
     "name": "stderr",
     "output_type": "stream",
     "text": [
      "/usr/local/lib/python3.4/dist-packages/sklearn/metrics/ranking.py:542: UndefinedMetricWarning: No positive samples in y_true, true positive value should be meaningless\n",
      "  UndefinedMetricWarning)\n"
     ]
    },
    {
     "name": "stdout",
     "output_type": "stream",
     "text": [
      "[\"Another's Home\" 'Arts & Entertainment (Theater, Music Venue, Etc.)'\n",
      " 'Food (Restaurant, Cafe)' 'Home' 'Nightlife Spot (Bar, Club)'\n",
      " 'Outdoors & Recreation' 'Spiritual (Church, Temple, Etc.)' 'Work']\n",
      "[ 0.85488125  0.96751355  0.7638748   0.95817721  0.95384322  0.97438157\n",
      "  0.99504993  0.89892401] 0.920830692193\n",
      "[ 0.65956664  0.49130708  0.72360143  0.88991915  0.74601761  0.65881162\n",
      "         nan  0.77996602] 0.707027079506\n",
      "------------------\n",
      "98\n"
     ]
    },
    {
     "name": "stderr",
     "output_type": "stream",
     "text": [
      "/usr/local/lib/python3.4/dist-packages/sklearn/metrics/ranking.py:542: UndefinedMetricWarning: No positive samples in y_true, true positive value should be meaningless\n",
      "  UndefinedMetricWarning)\n"
     ]
    },
    {
     "name": "stdout",
     "output_type": "stream",
     "text": [
      "[\"Another's Home\" 'Arts & Entertainment (Theater, Music Venue, Etc.)'\n",
      " 'Food (Restaurant, Cafe)' 'Home' 'Nightlife Spot (Bar, Club)'\n",
      " 'Outdoors & Recreation' 'Spiritual (Church, Temple, Etc.)' 'Work']\n",
      "[ 0.83085402  0.94267432  0.76203661  0.94390045  0.92514837  0.93013868\n",
      "  0.99387071  0.89304197] 0.902708141936\n",
      "[ 0.61910392  0.65855589  0.7207205   0.89460968  0.49614396         nan\n",
      "  0.9958457   0.8016696 ] 0.740949892384\n",
      "------------------\n",
      "99\n",
      "[\"Another's Home\" 'Arts & Entertainment (Theater, Music Venue, Etc.)'\n",
      " 'Food (Restaurant, Cafe)' 'Home' 'Nightlife Spot (Bar, Club)'\n",
      " 'Outdoors & Recreation' 'Spiritual (Church, Temple, Etc.)' 'Work']\n",
      "[ 0.85696594  0.96129511  0.76374576  0.94342301  0.99493035  0.97314074\n",
      "         nan  0.88016791] 0.910524116059\n",
      "[ 0.69890445  0.70693403  0.72307963  0.90010494  0.99291204  0.49188312\n",
      "         nan  0.77922089] 0.756148442708\n"
     ]
    },
    {
     "name": "stderr",
     "output_type": "stream",
     "text": [
      "/usr/local/lib/python3.4/dist-packages/sklearn/metrics/ranking.py:542: UndefinedMetricWarning: No positive samples in y_true, true positive value should be meaningless\n",
      "  UndefinedMetricWarning)\n"
     ]
    }
   ],
   "source": [
    "import os\n",
    "import pickle\n",
    "import pandas as pd\n",
    "import numpy as np\n",
    "import xgboost as xgb\n",
    "from calculate_confusion_matrix import calculate_confusion_matrix\n",
    "import time\n",
    "from copy import deepcopy\n",
    "from utils import one_hot_encoder\n",
    "\n",
    "save_results = True\n",
    "do_stratify = False\n",
    "\n",
    "n_boot = 100\n",
    "split = 0.7\n",
    "np.random.seed(seed=0)\n",
    "\n",
    "ft_dir = 'features_long/'\n",
    "\n",
    "# list feature files\n",
    "# files = os.listdir(ft_dir)\n",
    "# files.remove('1515656.dat')\n",
    "# print('subject 1515656 removed due to spoofed gps.')\n",
    "\n",
    "# reading top locations\n",
    "with open('top_locations.dat', 'rb') as f:\n",
    "    location_top = pickle.load(f)\n",
    "f.close()\n",
    "\n",
    "feature_all = []\n",
    "target_all = []\n",
    "\n",
    "for filename in files:\n",
    "    with open(ft_dir+filename, 'rb') as f:  \n",
    "        feature, target = pickle.load(f)\n",
    "\n",
    "        # only keeping top locations\n",
    "        ind = np.array([], int)\n",
    "        for (i,loc) in enumerate(target['location']):\n",
    "            if loc in location_top:\n",
    "                ind = np.append(ind, i)\n",
    "        feature = feature.loc[ind,:]\n",
    "        target = target.loc[ind]\n",
    "        feature = feature.reset_index(drop=True)\n",
    "        target = target.reset_index(drop=True)\n",
    "        \n",
    "        feature_all.append(feature)\n",
    "        target_all.append(target)\n",
    "        \n",
    "    f.close()\n",
    "\n",
    "confs = []\n",
    "aucs = []\n",
    "labels = []\n",
    "inds = np.arange(0,len(feature_all),1)\n",
    "inds_split = int(np.floor(split*len(feature_all)))\n",
    "\n",
    "for i in range(n_boot):\n",
    "    \n",
    "    print('------------------')\n",
    "    print(i)\n",
    "#     if i==6:\n",
    "#         print 'subject skipped because of lack of data'\n",
    "#         continue\n",
    "    \n",
    "    # training set\n",
    "    np.random.shuffle(inds)\n",
    "    ind_train = inds[:inds_split]\n",
    "    ind_test = inds[inds_split:]\n",
    "    \n",
    "    x_train = pd.concat([feature_all[j] for j in ind_train], axis=0)\n",
    "    y_train = pd.concat([target_all[j]['location'] for j in ind_train], axis=0)\n",
    "    x_train = x_train.reset_index(drop=True)\n",
    "    y_train = y_train.reset_index(drop=True)\n",
    "    \n",
    "    # test set\n",
    "    x_test = pd.concat([feature_all[j] for j in ind_test], axis=0)\n",
    "    y_test = pd.concat([target_all[j]['location'] for j in ind_test], axis=0)\n",
    "    x_test = x_test.reset_index(drop=True)\n",
    "    y_test = y_test.reset_index(drop=True)\n",
    "    \n",
    "    # remove foursquare features\n",
    "    x_train = x_train.drop(['fsq 0','fsq 1','fsq 2','fsq 3','fsq 4','fsq 5','fsq 6','fsq 7','fsq 8','fsq distance'],axis=1)\n",
    "    x_test = x_test.drop(['fsq 0','fsq 1','fsq 2','fsq 3','fsq 4','fsq 5','fsq 6','fsq 7','fsq 8','fsq distance'],axis=1)\n",
    "    x_train = x_train.reset_index(drop=True)\n",
    "    x_test = x_test.reset_index(drop=True)\n",
    "    \n",
    "    # model (sensor)\n",
    "    gbm = xgb.XGBClassifier(max_depth=6, n_estimators=50, learning_rate=0.05, nthread=12, subsample=0.25, \\\n",
    "                        colsample_bytree=0.5, max_delta_step=0, gamma=3, objective='mlogloss', reg_alpha=0.5, \\\n",
    "                        missing=np.nan)\n",
    "    # model (sensor + foursquare)\n",
    "#     gbm = xgb.XGBClassifier(max_depth=6, n_estimators=75, learning_rate=0.05, nthread=12, subsample=0.25, \\\n",
    "#                         colsample_bytree=0.2, max_delta_step=0, gamma=3, objective='mlogloss', reg_alpha=0.5, \\\n",
    "#                         missing=np.nan)\n",
    "    \n",
    "    # fitting model\n",
    "#     gbm.fit(x_train, y_train, eval_set=[(x_train,y_train),(x_test, y_test)], eval_metric='mlogloss', verbose=True)\n",
    "#     print gbm.evals_result()\n",
    "    gbm.fit(x_train, y_train)\n",
    "    \n",
    "    # training performance\n",
    "    y_pred = gbm.predict(x_train)\n",
    "    conf_train, roc_auc_train = calculate_confusion_matrix(y_pred, y_train)\n",
    "\n",
    "    # test\n",
    "    y_pred = gbm.predict(x_test)\n",
    "    conf, roc_auc = calculate_confusion_matrix(y_pred, y_test)\n",
    "    \n",
    "    labels.append(np.unique(y_test))\n",
    "    confs.append(conf)\n",
    "    aucs.append(roc_auc)\n",
    "\n",
    "    print(np.unique(y_test))\n",
    "    print(roc_auc_train, np.nanmean(roc_auc_train))\n",
    "    print(roc_auc, np.nanmean(roc_auc))\n",
    "\n",
    "# saving the results\n",
    "if save_results:\n",
    "    with open('auc_location_new_10fold3_1515656removed_sensor.dat','wb') as f:\n",
    "        pickle.dump([aucs, confs, labels], f)\n",
    "    f.close()\n"
   ]
  },
  {
   "cell_type": "code",
   "execution_count": 2,
   "metadata": {},
   "outputs": [
    {
     "data": {
      "text/plain": [
       "'features_long/NQ003SV.dat'"
      ]
     },
     "execution_count": 2,
     "metadata": {},
     "output_type": "execute_result"
    }
   ],
   "source": [
    "ft_dir+filename"
   ]
  },
  {
   "cell_type": "code",
   "execution_count": null,
   "metadata": {
    "collapsed": true
   },
   "outputs": [],
   "source": [
    "a = ['b','b','a','b','b','b','a']\n",
    "b = ['a','a','a','b','b','b','c']\n",
    "calculate_confusion_matrix(a,b)"
   ]
  }
 ],
 "metadata": {
  "anaconda-cloud": {},
  "kernelspec": {
   "display_name": "Python 3",
   "language": "python",
   "name": "python3"
  },
  "language_info": {
   "codemirror_mode": {
    "name": "ipython",
    "version": 3
   },
   "file_extension": ".py",
   "mimetype": "text/x-python",
   "name": "python",
   "nbconvert_exporter": "python",
   "pygments_lexer": "ipython3",
   "version": "3.4.3"
  }
 },
 "nbformat": 4,
 "nbformat_minor": 1
}
