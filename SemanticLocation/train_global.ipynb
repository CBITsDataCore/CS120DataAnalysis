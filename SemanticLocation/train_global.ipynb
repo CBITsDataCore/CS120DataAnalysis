{
 "cells": [
  {
   "cell_type": "code",
   "execution_count": 2,
   "metadata": {
    "collapsed": true
   },
   "outputs": [],
   "source": [
    "def stratify(x, y):\n",
    "    \n",
    "    import collections as col\n",
    "    counts = col.Counter(y)\n",
    "    n_max = np.max(counts.values())\n",
    "    \n",
    "    y_uniq = np.unique(y)\n",
    "    y_out_class = [[] for i in range(y_uniq.size)]\n",
    "    x_out_class = [[] for i in range(y_uniq.size)]\n",
    "    for (i,y_u) in enumerate(y_uniq):\n",
    "        inds = y==y_u\n",
    "        y_class = y[inds]\n",
    "        x_class = x[inds,:]\n",
    "        inds = np.random.choice(np.arange(0,y_class.size), n_max, replace=True)\n",
    "        y_out_class[i] = y_class[inds]\n",
    "        x_out_class[i] = x_class[inds]\n",
    "        \n",
    "    y = np.concatenate(y_out_class)\n",
    "    x = np.concatenate(x_out_class, axis=0)\n",
    "    \n",
    "    return x,y\n",
    "        "
   ]
  },
  {
   "cell_type": "code",
   "execution_count": 29,
   "metadata": {
    "collapsed": false
   },
   "outputs": [
    {
     "name": "stdout",
     "output_type": "stream",
     "text": [
      "------------------\n",
      "0\n",
      "0.0250840187073 3.81469726562e-06 20.8937051296 0.00636196136475\n",
      "[\"Another's Home\" 'Food (Restaurant, Cafe)' 'Home' 'Outdoors & Recreation'\n",
      " 'Professional or Medical Office' 'Shop or Store' 'Work']\n",
      "[ 0.92857143  0.48701299  0.96590909         nan         nan  0.76673568\n",
      "  0.5       ]\n",
      "------------------\n",
      "1\n",
      "0.02406001091 5.00679016113e-06 20.951472044 0.00903487205505\n",
      "[\"Another's Home\" 'Arts & Entertainment (Theater, Music Venue, Etc.)'\n",
      " 'Food (Restaurant, Cafe)' 'Home' 'Nightlife Spot (Bar, Club)'\n",
      " 'Outdoors & Recreation' 'Professional or Medical Office' 'Shop or Store'\n",
      " 'Spiritual (Church, Temple, Etc.)' 'Work']\n",
      "[ 0.5                nan  0.64444444  0.94289165  0.98989899         nan\n",
      "  0.5         0.81642397         nan  0.82391246]\n",
      "------------------\n",
      "2\n"
     ]
    },
    {
     "ename": "KeyboardInterrupt",
     "evalue": "",
     "output_type": "error",
     "traceback": [
      "\u001b[1;31m---------------------------------------------------------------------------\u001b[0m",
      "\u001b[1;31mKeyboardInterrupt\u001b[0m                         Traceback (most recent call last)",
      "\u001b[1;32m<ipython-input-29-f12d2da029b6>\u001b[0m in \u001b[0;36m<module>\u001b[1;34m()\u001b[0m\n\u001b[0;32m     80\u001b[0m \u001b[1;33m\u001b[0m\u001b[0m\n\u001b[0;32m     81\u001b[0m     \u001b[1;31m# train and test\u001b[0m\u001b[1;33m\u001b[0m\u001b[1;33m\u001b[0m\u001b[0m\n\u001b[1;32m---> 82\u001b[1;33m     \u001b[0mgbm\u001b[0m \u001b[1;33m=\u001b[0m \u001b[0mxgboost\u001b[0m\u001b[1;33m.\u001b[0m\u001b[0mXGBClassifier\u001b[0m\u001b[1;33m(\u001b[0m\u001b[0mmax_depth\u001b[0m\u001b[1;33m=\u001b[0m\u001b[1;36m6\u001b[0m\u001b[1;33m,\u001b[0m \u001b[0mn_estimators\u001b[0m\u001b[1;33m=\u001b[0m\u001b[1;36m100\u001b[0m\u001b[1;33m,\u001b[0m \u001b[0mlearning_rate\u001b[0m\u001b[1;33m=\u001b[0m\u001b[1;36m0.05\u001b[0m\u001b[1;33m,\u001b[0m \u001b[0mnthread\u001b[0m\u001b[1;33m=\u001b[0m\u001b[1;36m12\u001b[0m\u001b[1;33m,\u001b[0m \u001b[0msubsample\u001b[0m\u001b[1;33m=\u001b[0m\u001b[1;36m1\u001b[0m\u001b[1;33m,\u001b[0m                               \u001b[0mmax_delta_step\u001b[0m\u001b[1;33m=\u001b[0m\u001b[1;36m0\u001b[0m\u001b[1;33m)\u001b[0m\u001b[1;33m.\u001b[0m\u001b[0mfit\u001b[0m\u001b[1;33m(\u001b[0m\u001b[0mx_train\u001b[0m\u001b[1;33m,\u001b[0m \u001b[0my_train\u001b[0m\u001b[1;33m)\u001b[0m\u001b[1;33m\u001b[0m\u001b[0m\n\u001b[0m\u001b[0;32m     83\u001b[0m     \u001b[0mpredictions\u001b[0m \u001b[1;33m=\u001b[0m \u001b[0mgbm\u001b[0m\u001b[1;33m.\u001b[0m\u001b[0mpredict\u001b[0m\u001b[1;33m(\u001b[0m\u001b[0mx_test\u001b[0m\u001b[1;33m)\u001b[0m\u001b[1;33m\u001b[0m\u001b[0m\n\u001b[0;32m     84\u001b[0m     \u001b[0mt3\u001b[0m \u001b[1;33m=\u001b[0m \u001b[0mtime\u001b[0m\u001b[1;33m.\u001b[0m\u001b[0mtime\u001b[0m\u001b[1;33m(\u001b[0m\u001b[1;33m)\u001b[0m\u001b[1;33m\u001b[0m\u001b[0m\n",
      "\u001b[1;32m/usr/local/lib/python2.7/dist-packages/xgboost/sklearn.pyc\u001b[0m in \u001b[0;36mfit\u001b[1;34m(self, X, y, sample_weight, eval_set, eval_metric, early_stopping_rounds, verbose)\u001b[0m\n\u001b[0;32m    341\u001b[0m                               \u001b[0mearly_stopping_rounds\u001b[0m\u001b[1;33m=\u001b[0m\u001b[0mearly_stopping_rounds\u001b[0m\u001b[1;33m,\u001b[0m\u001b[1;33m\u001b[0m\u001b[0m\n\u001b[0;32m    342\u001b[0m                               \u001b[0mevals_result\u001b[0m\u001b[1;33m=\u001b[0m\u001b[0mevals_result\u001b[0m\u001b[1;33m,\u001b[0m \u001b[0mfeval\u001b[0m\u001b[1;33m=\u001b[0m\u001b[0mfeval\u001b[0m\u001b[1;33m,\u001b[0m\u001b[1;33m\u001b[0m\u001b[0m\n\u001b[1;32m--> 343\u001b[1;33m                               verbose_eval=verbose)\n\u001b[0m\u001b[0;32m    344\u001b[0m \u001b[1;33m\u001b[0m\u001b[0m\n\u001b[0;32m    345\u001b[0m         \u001b[1;32mif\u001b[0m \u001b[0mevals_result\u001b[0m\u001b[1;33m:\u001b[0m\u001b[1;33m\u001b[0m\u001b[0m\n",
      "\u001b[1;32m/usr/local/lib/python2.7/dist-packages/xgboost/training.pyc\u001b[0m in \u001b[0;36mtrain\u001b[1;34m(params, dtrain, num_boost_round, evals, obj, feval, maximize, early_stopping_rounds, evals_result, verbose_eval, learning_rates, xgb_model)\u001b[0m\n\u001b[0;32m    119\u001b[0m     \u001b[1;32mif\u001b[0m \u001b[1;32mnot\u001b[0m \u001b[0mearly_stopping_rounds\u001b[0m\u001b[1;33m:\u001b[0m\u001b[1;33m\u001b[0m\u001b[0m\n\u001b[0;32m    120\u001b[0m         \u001b[1;32mfor\u001b[0m \u001b[0mi\u001b[0m \u001b[1;32min\u001b[0m \u001b[0mrange\u001b[0m\u001b[1;33m(\u001b[0m\u001b[0mnum_boost_round\u001b[0m\u001b[1;33m)\u001b[0m\u001b[1;33m:\u001b[0m\u001b[1;33m\u001b[0m\u001b[0m\n\u001b[1;32m--> 121\u001b[1;33m             \u001b[0mbst\u001b[0m\u001b[1;33m.\u001b[0m\u001b[0mupdate\u001b[0m\u001b[1;33m(\u001b[0m\u001b[0mdtrain\u001b[0m\u001b[1;33m,\u001b[0m \u001b[0mi\u001b[0m\u001b[1;33m,\u001b[0m \u001b[0mobj\u001b[0m\u001b[1;33m)\u001b[0m\u001b[1;33m\u001b[0m\u001b[0m\n\u001b[0m\u001b[0;32m    122\u001b[0m             \u001b[0mnboost\u001b[0m \u001b[1;33m+=\u001b[0m \u001b[1;36m1\u001b[0m\u001b[1;33m\u001b[0m\u001b[0m\n\u001b[0;32m    123\u001b[0m             \u001b[1;32mif\u001b[0m \u001b[0mlen\u001b[0m\u001b[1;33m(\u001b[0m\u001b[0mevals\u001b[0m\u001b[1;33m)\u001b[0m \u001b[1;33m!=\u001b[0m \u001b[1;36m0\u001b[0m\u001b[1;33m:\u001b[0m\u001b[1;33m\u001b[0m\u001b[0m\n",
      "\u001b[1;32m/usr/local/lib/python2.7/dist-packages/xgboost/core.pyc\u001b[0m in \u001b[0;36mupdate\u001b[1;34m(self, dtrain, iteration, fobj)\u001b[0m\n\u001b[0;32m    692\u001b[0m \u001b[1;33m\u001b[0m\u001b[0m\n\u001b[0;32m    693\u001b[0m         \u001b[1;32mif\u001b[0m \u001b[0mfobj\u001b[0m \u001b[1;32mis\u001b[0m \u001b[0mNone\u001b[0m\u001b[1;33m:\u001b[0m\u001b[1;33m\u001b[0m\u001b[0m\n\u001b[1;32m--> 694\u001b[1;33m             \u001b[0m_check_call\u001b[0m\u001b[1;33m(\u001b[0m\u001b[0m_LIB\u001b[0m\u001b[1;33m.\u001b[0m\u001b[0mXGBoosterUpdateOneIter\u001b[0m\u001b[1;33m(\u001b[0m\u001b[0mself\u001b[0m\u001b[1;33m.\u001b[0m\u001b[0mhandle\u001b[0m\u001b[1;33m,\u001b[0m \u001b[0miteration\u001b[0m\u001b[1;33m,\u001b[0m \u001b[0mdtrain\u001b[0m\u001b[1;33m.\u001b[0m\u001b[0mhandle\u001b[0m\u001b[1;33m)\u001b[0m\u001b[1;33m)\u001b[0m\u001b[1;33m\u001b[0m\u001b[0m\n\u001b[0m\u001b[0;32m    695\u001b[0m         \u001b[1;32melse\u001b[0m\u001b[1;33m:\u001b[0m\u001b[1;33m\u001b[0m\u001b[0m\n\u001b[0;32m    696\u001b[0m             \u001b[0mpred\u001b[0m \u001b[1;33m=\u001b[0m \u001b[0mself\u001b[0m\u001b[1;33m.\u001b[0m\u001b[0mpredict\u001b[0m\u001b[1;33m(\u001b[0m\u001b[0mdtrain\u001b[0m\u001b[1;33m)\u001b[0m\u001b[1;33m\u001b[0m\u001b[0m\n",
      "\u001b[1;31mKeyboardInterrupt\u001b[0m: "
     ]
    }
   ],
   "source": [
    "import os\n",
    "import pickle\n",
    "import numpy as np\n",
    "import xgboost\n",
    "from calculate_confusion_matrix import calculate_confusion_matrix\n",
    "import time\n",
    "\n",
    "do_stratify = False\n",
    "\n",
    "fsq_map = {'Nightlife Spot':'Nightlife Spot (Bar, Club)', 'Outdoors & Recreation':'Outdoors & Recreation',\\\n",
    "          'Arts & Entertainment':'Arts & Entertainment (Theater, Music Venue, Etc.)',\\\n",
    "          'Professional & Other Places':'Professional or Medical Office',\\\n",
    "          'Food':'Food (Restaurant, Cafe)', 'Residence':'Home', 'Shop & Service':'Shop or Store'}\n",
    "\n",
    "ft_dir = 'features_new/'\n",
    "\n",
    "files = os.listdir(ft_dir)\n",
    "#files = [files[0]]\n",
    "\n",
    "with open('top10.dat') as f:\n",
    "    state_top10 = pickle.load(f)\n",
    "f.close()\n",
    "for (i,s) in enumerate(state_top10):\n",
    "    state_top10[i] = state_top10[i].replace('\"','')\n",
    "    state_top10[i] = state_top10[i].replace('[','')\n",
    "    state_top10[i] = state_top10[i].replace(']','')\n",
    "\n",
    "feature_all = []\n",
    "state_all = []\n",
    "for filename in files:\n",
    "    with open(ft_dir+filename) as f:  \n",
    "        feature, state, feature_label = pickle.load(f)\n",
    "\n",
    "        for (i,s) in enumerate(state):\n",
    "            state[i] = state[i].replace('\"','')\n",
    "            state[i] = state[i].replace('[','')\n",
    "            state[i] = state[i].replace(']','')\n",
    "        \n",
    "        # only keeping top 10 states\n",
    "        ind = np.array([], int)\n",
    "        for (i,st) in enumerate(state):\n",
    "            if st in state_top10:\n",
    "                ind = np.append(ind, i)\n",
    "        feature = feature[ind,:]\n",
    "        state = state[ind]\n",
    "        \n",
    "        # This is a temporary solution, to turn sky conditions into numbers\n",
    "        # The original feature extraction file needs to change to solve this problem\n",
    "        # (XGBoost does not accept string input)\n",
    "        for (i,ft_row) in enumerate(feature):\n",
    "            if isinstance(feature[i,56], basestring):\n",
    "                feature[i,56] = sum(ord(c) for c in feature[i,56])\n",
    "        feature_all.append(feature)\n",
    "        state_all.append(state)\n",
    "    f.close()\n",
    "\n",
    "    \n",
    "confs = []\n",
    "aucs = []\n",
    "labels = []\n",
    "\n",
    "for i in range(len(feature_all)):\n",
    "    \n",
    "    t0 = time.time()\n",
    "    print '------------------'\n",
    "    print i\n",
    "    if i==6:\n",
    "        print 'subject skipped because of lack of data'\n",
    "        continue\n",
    "    \n",
    "    # training set\n",
    "    j_range = range(len(feature_all))\n",
    "    j_range.pop(i)\n",
    "    x_train = np.concatenate([feature_all[j] for j in j_range], axis=0)\n",
    "    y_train = np.concatenate([state_all[j] for j in j_range])\n",
    "    t1 = time.time()\n",
    "    \n",
    "    if do_stratify:\n",
    "        x_train, y_train = stratify(x_train,y_train)\n",
    "    \n",
    "    # test set\n",
    "    x_test = feature_all[i]\n",
    "    y_test = state_all[i]\n",
    "    t2 = time.time()\n",
    "    \n",
    "    # train and test\n",
    "    gbm = xgboost.XGBClassifier(max_depth=6, n_estimators=100, learning_rate=0.05, nthread=12, subsample=1,\\\n",
    "                               max_delta_step=0).fit(x_train, y_train)\n",
    "    predictions = gbm.predict(x_test)\n",
    "    t3 = time.time()\n",
    "\n",
    "    # confusion matrix, AUC\n",
    "    conf, roc_auc = calculate_confusion_matrix(predictions, y_test)\n",
    "    t4 = time.time()\n",
    "    \n",
    "    print t1-t0, t2-t1, t3-t2, t4-t3\n",
    "    print np.unique(np.append(y_test, predictions))\n",
    "    #print conf\n",
    "    print roc_auc\n",
    "    labels.append(np.unique(np.append(y_test, predictions)))\n",
    "    confs.append(conf)\n",
    "    aucs.append(roc_auc)\n",
    "    \n",
    "# saving the results\n",
    "with open('accuracy_new100_3_depth6.dat','w') as f:\n",
    "    pickle.dump([aucs, confs, labels], f)\n",
    "f.close()\n"
   ]
  },
  {
   "cell_type": "code",
   "execution_count": 32,
   "metadata": {
    "collapsed": false
   },
   "outputs": [
    {
     "name": "stdout",
     "output_type": "stream",
     "text": [
      "['Nightlife Spot (Bar, Club)' 'Spiritual (Church, Temple, Etc.)'\n",
      " 'Outdoors & Recreation'\n",
      " 'Arts & Entertainment (Theater, Music Venue, Etc.)' 'Work'\n",
      " 'Professional or Medical Office' \"Another's Home\"\n",
      " 'Food (Restaurant, Cafe)' 'Home' 'Shop or Store']\n"
     ]
    }
   ],
   "source": [
    "print state_top10"
   ]
  }
 ],
 "metadata": {
  "kernelspec": {
   "display_name": "Python 2",
   "language": "python",
   "name": "python2"
  },
  "language_info": {
   "codemirror_mode": {
    "name": "ipython",
    "version": 2
   },
   "file_extension": ".py",
   "mimetype": "text/x-python",
   "name": "python",
   "nbconvert_exporter": "python",
   "pygments_lexer": "ipython2",
   "version": "2.7.6"
  }
 },
 "nbformat": 4,
 "nbformat_minor": 0
}
