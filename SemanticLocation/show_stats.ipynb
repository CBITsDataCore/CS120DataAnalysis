{
 "cells": [
  {
   "cell_type": "code",
   "execution_count": 57,
   "metadata": {
    "collapsed": false
   },
   "outputs": [
    {
     "data": {
      "text/plain": [
       "23"
      ]
     },
     "execution_count": 57,
     "metadata": {},
     "output_type": "execute_result"
    }
   ],
   "source": [
    "import pandas as pd\n",
    "import numpy as np\n",
    "\n",
    "data = pd.ExcelFile('/data/CS120Clinical/CS120Final_Baseline.xlsx')\n",
    "data = data.parse('Sheet1')\n",
    "\n",
    "ind_subject = np.where(data.loc[0:999,'ID'].astype(str)!='nan')[0]\n",
    "\n",
    "n_job_loc1 = data.loc[ind_subject,'slabels04b_1'].astype(float)\n",
    "n_job_loc2 = data.loc[ind_subject,'slabels04b_2'].astype(float)\n",
    "n_job_loc3 = data.loc[ind_subject,'slabels04b_3'].astype(float)\n",
    "n_job_loc4 = data.loc[ind_subject,'slabels04b_4'].astype(float)\n",
    "n_job_loc5 = data.loc[ind_subject,'slabels04b_5'].astype(float)\n",
    "\n",
    "n_job_loc1 = n_job_loc1.reset_index(drop=True)\n",
    "n_job_loc2 = n_job_loc2.reset_index(drop=True)\n",
    "n_job_loc3 = n_job_loc3.reset_index(drop=True)\n",
    "n_job_loc4 = n_job_loc4.reset_index(drop=True)\n",
    "n_job_loc5 = n_job_loc5.reset_index(drop=True)\n",
    "\n",
    "np.sum(n_job_loc1==2)"
   ]
  },
  {
   "cell_type": "code",
   "execution_count": 81,
   "metadata": {
    "collapsed": false
   },
   "outputs": [
    {
     "name": "stdout",
     "output_type": "stream",
     "text": [
      "people who work in 2 locations:\n",
      "36\n"
     ]
    }
   ],
   "source": [
    "i = 2\n",
    "print 'people who work in {} locations:'.format(i)\n",
    "print np.sum(n_job_loc1==i)+np.sum(n_job_loc2==i)+np.sum(n_job_loc3==i)+np.sum(n_job_loc4==i)+np.sum(n_job_loc5==i)"
   ]
  },
  {
   "cell_type": "code",
   "execution_count": 75,
   "metadata": {
    "collapsed": false
   },
   "outputs": [],
   "source": [
    "data = pd.ExcelFile('/data/CS120Clinical/CS120Final_Screener.xlsx')\n",
    "data = data.parse('Sheet1')\n",
    "\n",
    "ind_subject = np.where(data.loc[0:999,'ID'].astype(str)!='nan')[0]\n",
    "\n",
    "mobility = data.loc[ind_subject,'mob01'].astype(float)"
   ]
  },
  {
   "cell_type": "code",
   "execution_count": 79,
   "metadata": {
    "collapsed": false
   },
   "outputs": [
    {
     "data": {
      "text/plain": [
       "0"
      ]
     },
     "execution_count": 79,
     "metadata": {},
     "output_type": "execute_result"
    }
   ],
   "source": [
    "print 'people not able to walk:'\n",
    "print np.sum(mobility==2)"
   ]
  }
 ],
 "metadata": {
  "kernelspec": {
   "display_name": "Python 2",
   "language": "python",
   "name": "python2"
  },
  "language_info": {
   "codemirror_mode": {
    "name": "ipython",
    "version": 2
   },
   "file_extension": ".py",
   "mimetype": "text/x-python",
   "name": "python",
   "nbconvert_exporter": "python",
   "pygments_lexer": "ipython2",
   "version": "2.7.6"
  }
 },
 "nbformat": 4,
 "nbformat_minor": 0
}
