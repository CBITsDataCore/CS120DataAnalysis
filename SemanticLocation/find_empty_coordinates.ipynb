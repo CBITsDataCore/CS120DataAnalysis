{
 "cells": [
  {
   "cell_type": "code",
   "execution_count": 7,
   "metadata": {
    "collapsed": false
   },
   "outputs": [],
   "source": [
    "# some subjects don't have the lat/long coordinates in the eml.csv files for some instances\n",
    "\n",
    "import csv\n",
    "import os\n",
    "import numpy as np\n",
    "import matplotlib.pyplot as plt\n",
    "from sklearn import preprocessing\n",
    "\n",
    "%matplotlib inline\n",
    "\n",
    "data_dir = '/home/sohrob/Dropbox/Data/CS120/'\n",
    "\n",
    "subjects = os.listdir(data_dir)\n",
    "\n",
    "loc_subject = []\n",
    "loc_all = np.array([])\n",
    "n = np.zeros(len(subjects))\n",
    "n_empty = np.zeros(len(subjects))\n",
    "i = 0\n",
    "for subj in subjects:\n",
    "    filename = data_dir + subj + '/eml.csv'\n",
    "    if os.path.exists(filename):\n",
    "        #print filename\n",
    "        with open(filename) as file_in:\n",
    "            data = csv.reader(file_in, delimiter='\\t')\n",
    "            for data_row in data:\n",
    "                if data_row:\n",
    "                    if data_row[2]=='':\n",
    "                        n_empty[i] +=1\n",
    "                    n[i] +=1\n",
    "    i +=1"
   ]
  },
  {
   "cell_type": "code",
   "execution_count": 11,
   "metadata": {
    "collapsed": false
   },
   "outputs": [
    {
     "name": "stdout",
     "output_type": "stream",
     "text": [
      "[  78.  117.   93.  240.  102.  120.   63.   82.   84.  134.  116.  112.\n",
      "  731.  126.  172.  148.   83.  124.   30.  118.  150.   89.   53.   98.\n",
      "  135.   53.   67.  181.  211.  161.  151.  137.   82.  113.  166.   50.\n",
      "   37.    0.   98.   39.   79.  125.  137.  201.  131.  187.  102.  218.\n",
      "  121.  106.  277.  110.   97.   64.  106.  112.   37.  101.  136.  177.\n",
      "   17.   39.  226.  136.   76.   33.   69.  102.  141.  189.  169.  171.\n",
      "    0.  194.    8.  276.  250.   55.  455.  107.  154.  132.  160.  119.\n",
      "  129.  164.   95.  186.  406.   35.  199.   52.  145.  112.  129.  127.\n",
      "   65.  108.  145.  136.  205.  109.  125.  157.  128.   19.  117.  159.\n",
      "  126.   59.  129.  139.  116.   50.  147.   23.  123.  104.  272.  114.\n",
      "  179.   79.  117.  108.   77.   66.   82.   91.  128.  142.   76.  163.\n",
      "  129.  114.  102.  154.  144.  128.  144.    8.  124.   82.  101.  185.\n",
      "   95.   88.  196.  172.  127.  143.   88.  134.   28.  141.  262.  248.\n",
      "   78.  120.  186.   45.  120.   28.   79.   59.   51.   43.  166.  129.\n",
      "  151.   57.   96.   23.   53.  143.  106.  122.  154.   96.  121.  149.\n",
      "  140.  171.  242.  117.  127.    0.   77.  273.  127.  247.   29.  112.\n",
      "  139.  134.   93.   33.   74.   68.   81.  275.  177.  123.  139.   16.\n",
      "  130.  187.  119.  178.  137.]\n",
      "(array([48, 52]),)\n"
     ]
    }
   ],
   "source": [
    "print n\n",
    "print np.where(n_empty>0)"
   ]
  }
 ],
 "metadata": {
  "kernelspec": {
   "display_name": "Python 2",
   "language": "python",
   "name": "python2"
  },
  "language_info": {
   "codemirror_mode": {
    "name": "ipython",
    "version": 2
   },
   "file_extension": ".py",
   "mimetype": "text/x-python",
   "name": "python",
   "nbconvert_exporter": "python",
   "pygments_lexer": "ipython2",
   "version": "2.7.6"
  }
 },
 "nbformat": 4,
 "nbformat_minor": 0
}
