{
 "cells": [
  {
   "cell_type": "code",
   "execution_count": 12,
   "metadata": {},
   "outputs": [
    {
     "name": "stdout",
     "output_type": "stream",
     "text": [
      "{u'confident': False, u'venues': [{u'verified': False, u'name': u'Village Market', u'referralId': u'v-1470921388', u'venueChains': [], u'hereNow': {u'count': 0, u'groups': [], u'summary': u'Nobody here'}, u'specials': {u'count': 0, u'items': []}, u'contact': {}, u'hasPerk': False, u'location': {u'distance': 452, u'city': u'Chambers', u'cc': u'US', u'country': u'United States', u'postalCode': u'68725', u'state': u'NE', u'formattedAddress': [u'100 E Main St', u'Chambers, NE 68725', u'United States'], u'address': u'100 E Main St', u'lat': 42.204837799072266, u'lng': -98.7484484910965}, u'stats': {u'tipCount': 0, u'checkinsCount': 8, u'usersCount': 3}, u'id': u'4c2fddb8a0ced13a975b116e', u'categories': []}]}\n",
      "452\n"
     ]
    },
    {
     "ename": "IndexError",
     "evalue": "list index out of range",
     "output_type": "error",
     "traceback": [
      "\u001b[1;31m---------------------------------------------------------------------------\u001b[0m",
      "\u001b[1;31mIndexError\u001b[0m                                Traceback (most recent call last)",
      "\u001b[1;32m<ipython-input-12-0bb9924586d6>\u001b[0m in \u001b[0;36m<module>\u001b[1;34m()\u001b[0m\n\u001b[0;32m      6\u001b[0m \u001b[1;32mprint\u001b[0m \u001b[0mtext\u001b[0m\u001b[1;33m\u001b[0m\u001b[0m\n\u001b[0;32m      7\u001b[0m \u001b[1;32mprint\u001b[0m \u001b[0mtext\u001b[0m\u001b[1;33m[\u001b[0m\u001b[1;34m'venues'\u001b[0m\u001b[1;33m]\u001b[0m\u001b[1;33m[\u001b[0m\u001b[1;36m0\u001b[0m\u001b[1;33m]\u001b[0m\u001b[1;33m[\u001b[0m\u001b[1;34m'location'\u001b[0m\u001b[1;33m]\u001b[0m\u001b[1;33m[\u001b[0m\u001b[1;34m'distance'\u001b[0m\u001b[1;33m]\u001b[0m\u001b[1;33m\u001b[0m\u001b[0m\n\u001b[1;32m----> 8\u001b[1;33m \u001b[1;32mprint\u001b[0m \u001b[0mtext\u001b[0m\u001b[1;33m[\u001b[0m\u001b[1;34m'venues'\u001b[0m\u001b[1;33m]\u001b[0m\u001b[1;33m[\u001b[0m\u001b[1;36m0\u001b[0m\u001b[1;33m]\u001b[0m\u001b[1;33m[\u001b[0m\u001b[1;34m'categories'\u001b[0m\u001b[1;33m]\u001b[0m\u001b[1;33m[\u001b[0m\u001b[1;36m0\u001b[0m\u001b[1;33m]\u001b[0m\u001b[1;33m[\u001b[0m\u001b[1;34m'name'\u001b[0m\u001b[1;33m]\u001b[0m\u001b[1;33m\u001b[0m\u001b[0m\n\u001b[0m",
      "\u001b[1;31mIndexError\u001b[0m: list index out of range"
     ]
    }
   ],
   "source": [
    "import foursquare\n",
    "import json\n",
    "\n",
    "client = foursquare.Foursquare(client_id='Z114Q224KB4ZFVHALYCFVTQIDEJZON30R3CY1UUABGI3SFA5', client_secret='4YZNN4DVQKW1IMY3SIZ1GBUGHKYRMNIGDDGHI3LJG0UGWAOU', version='20160108')\n",
    "text = client.venues.search(params={'ll':'42.2086045, -98.7505142', 'limit':'1'})\n",
    "print text\n",
    "print text['venues'][0]['location']['distance']\n",
    "print text['venues'][0]['categories'][0]['name']"
   ]
  }
 ],
 "metadata": {
  "kernelspec": {
   "display_name": "Python 2",
   "language": "python",
   "name": "python2"
  },
  "language_info": {
   "codemirror_mode": {
    "name": "ipython",
    "version": 3
   },
   "file_extension": ".py",
   "mimetype": "text/x-python",
   "name": "python",
   "nbconvert_exporter": "python",
   "pygments_lexer": "ipython3",
   "version": "3.4.3"
  }
 },
 "nbformat": 4,
 "nbformat_minor": 1
}
