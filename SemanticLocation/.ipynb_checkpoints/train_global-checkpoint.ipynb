{
 "cells": [
  {
   "cell_type": "code",
   "execution_count": 26,
   "metadata": {
    "collapsed": false
   },
   "outputs": [
    {
     "ename": "TypeError",
     "evalue": "'numpy.float64' object is not iterable",
     "output_type": "error",
     "traceback": [
      "\u001b[1;31m---------------------------------------------------------------------------\u001b[0m",
      "\u001b[1;31mTypeError\u001b[0m                                 Traceback (most recent call last)",
      "\u001b[1;32m<ipython-input-26-0dc3f159cce1>\u001b[0m in \u001b[0;36m<module>\u001b[1;34m()\u001b[0m\n\u001b[0;32m     18\u001b[0m         \u001b[1;31m# (XGBoost does not accept string input)\u001b[0m\u001b[1;33m\u001b[0m\u001b[1;33m\u001b[0m\u001b[0m\n\u001b[0;32m     19\u001b[0m         \u001b[1;32mfor\u001b[0m \u001b[1;33m(\u001b[0m\u001b[0mi\u001b[0m\u001b[1;33m,\u001b[0m\u001b[0mft_row\u001b[0m\u001b[1;33m)\u001b[0m \u001b[1;32min\u001b[0m \u001b[0menumerate\u001b[0m\u001b[1;33m(\u001b[0m\u001b[0mfeature\u001b[0m\u001b[1;33m)\u001b[0m\u001b[1;33m:\u001b[0m\u001b[1;33m\u001b[0m\u001b[0m\n\u001b[1;32m---> 20\u001b[1;33m             \u001b[0mfeature\u001b[0m\u001b[1;33m[\u001b[0m\u001b[0mi\u001b[0m\u001b[1;33m,\u001b[0m\u001b[1;36m34\u001b[0m\u001b[1;33m]\u001b[0m \u001b[1;33m=\u001b[0m \u001b[0msum\u001b[0m\u001b[1;33m(\u001b[0m\u001b[0mord\u001b[0m\u001b[1;33m(\u001b[0m\u001b[0mc\u001b[0m\u001b[1;33m)\u001b[0m \u001b[1;32mfor\u001b[0m \u001b[0mc\u001b[0m \u001b[1;32min\u001b[0m \u001b[0mfeature\u001b[0m\u001b[1;33m[\u001b[0m\u001b[0mi\u001b[0m\u001b[1;33m,\u001b[0m\u001b[1;36m34\u001b[0m\u001b[1;33m]\u001b[0m\u001b[1;33m)\u001b[0m\u001b[1;33m\u001b[0m\u001b[0m\n\u001b[0m\u001b[0;32m     21\u001b[0m         \u001b[0mfeature_all\u001b[0m\u001b[1;33m.\u001b[0m\u001b[0mappend\u001b[0m\u001b[1;33m(\u001b[0m\u001b[0mfeature\u001b[0m\u001b[1;33m)\u001b[0m\u001b[1;33m\u001b[0m\u001b[0m\n\u001b[0;32m     22\u001b[0m         \u001b[0mstate_all\u001b[0m\u001b[1;33m.\u001b[0m\u001b[0mappend\u001b[0m\u001b[1;33m(\u001b[0m\u001b[0mstate\u001b[0m\u001b[1;33m)\u001b[0m\u001b[1;33m\u001b[0m\u001b[0m\n",
      "\u001b[1;31mTypeError\u001b[0m: 'numpy.float64' object is not iterable"
     ]
    }
   ],
   "source": [
    "import os\n",
    "import pickle\n",
    "import numpy as np\n",
    "import xgboost\n",
    "from calculate_confusion_matrix import calculate_confusion_matrix\n",
    "\n",
    "ft_dir = 'features_new/'\n",
    "\n",
    "files = os.listdir(ft_dir)\n",
    "\n",
    "feature_all = []\n",
    "state_all = []\n",
    "for filename in files:\n",
    "    with open(ft_dir+filename) as f:  \n",
    "        feature, state, feature_label = pickle.load(f)\n",
    "        # This is a temporary solution, to turn sky conditions into numbers\n",
    "        # The original feature extraction file needs to change to solve this problem\n",
    "        # (XGBoost does not accept string input)\n",
    "        for (i,ft_row) in enumerate(feature):\n",
    "            if not np.isnan(feature[i,34]):\n",
    "                feature[i,34] = sum(ord(c) for c in feature[i,34])\n",
    "        feature_all.append(feature)\n",
    "        state_all.append(state)\n",
    "    f.close()\n",
    "\n",
    "with open('top10.dat') as f:\n",
    "    state_top10 = pickle.load(f)\n",
    "f.close()\n",
    "for (i,s) in enumerate(state_top10):\n",
    "    state_top10[i] = s.replace('\"','')\n",
    "    state_top10[i] = s.replace('[','')\n",
    "    state_top10[i] = s.replace(']','')\n",
    "    \n",
    "print state_top10\n",
    "\n",
    "confs = []\n",
    "aucs = []\n",
    "labels = []\n",
    "\n",
    "for i in range(len(feature_all)):\n",
    "    \n",
    "    print '------------------'\n",
    "    print i\n",
    "    if i==6:\n",
    "        print 'subject skipped because of lack of data'\n",
    "        continue\n",
    "    \n",
    "    #creating train and test sets\n",
    "    x_train = np.array([])\n",
    "    y_train = np.array([])\n",
    "    for j in range(len(feature_all)):\n",
    "        if j!=i:\n",
    "            for k in range(len(state_all[j])):\n",
    "                if state_all[j][k] in state_top10:\n",
    "                    if x_train.size==0:\n",
    "                        x_train = np.array([feature_all[j][k,:]])\n",
    "                        y_train = np.array(state_all[j][k])\n",
    "                    else:\n",
    "                        x_train = np.append(x_train, [feature_all[j][k,:]], axis=0)\n",
    "                        y_train = np.append(y_train, state_all[j][k])\n",
    "    \n",
    "    x_test = np.array([])\n",
    "    y_test = np.array([])\n",
    "    for j in range(len(state_all[i])):\n",
    "        if state_all[i][j] in state_top10:\n",
    "            if x_test.size==0:\n",
    "                x_test = np.array([feature_all[i][j,:]])\n",
    "                y_test = np.array(state_all[i][j])\n",
    "            else:\n",
    "                x_test = np.append(x_test, [feature_all[i][j,:]], axis=0)\n",
    "                y_test = np.append(y_test, state_all[i][j])\n",
    "\n",
    "    #train\n",
    "    gbm = xgboost.XGBClassifier(max_depth=3, n_estimators=600, learning_rate=0.05).fit(x_train, y_train)\n",
    "\n",
    "    #test\n",
    "    predictions = gbm.predict(x_test)\n",
    "\n",
    "    conf, roc_auc = calculate_confusion_matrix(predictions, y_test)\n",
    "    print np.unique(np.append(y_test, predictions))\n",
    "    print conf\n",
    "    print roc_auc\n",
    "    labels.append(np.unique(np.append(y_test, predictions)))\n",
    "    confs.append(conf)\n",
    "    aucs.append(roc_auc)\n",
    "    \n",
    "# saving the results\n",
    "with open('accuracy_new300_2.dat','w') as f:\n",
    "    pickle.dump([aucs, confs, labels], f)\n",
    "f.close()\n"
   ]
  },
  {
   "cell_type": "code",
   "execution_count": 27,
   "metadata": {
    "collapsed": false
   },
   "outputs": [
    {
     "name": "stdout",
     "output_type": "stream",
     "text": [
      "519\n"
     ]
    },
    {
     "data": {
      "text/plain": [
       "nan"
      ]
     },
     "execution_count": 27,
     "metadata": {},
     "output_type": "execute_result"
    }
   ],
   "source": [
    "print sum(ord(c) for c in 'clear')\n",
    "feature[i,34]"
   ]
  }
 ],
 "metadata": {
  "kernelspec": {
   "display_name": "Python 2",
   "language": "python",
   "name": "python2"
  },
  "language_info": {
   "codemirror_mode": {
    "name": "ipython",
    "version": 2
   },
   "file_extension": ".py",
   "mimetype": "text/x-python",
   "name": "python",
   "nbconvert_exporter": "python",
   "pygments_lexer": "ipython2",
   "version": "2.7.6"
  }
 },
 "nbformat": 4,
 "nbformat_minor": 0
}
