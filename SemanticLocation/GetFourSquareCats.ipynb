{
 "cells": [
  {
   "cell_type": "code",
   "execution_count": 2,
   "metadata": {
    "collapsed": false
   },
   "outputs": [
    {
     "name": "stdout",
     "output_type": "stream",
     "text": [
      "subject 0 1367477\n"
     ]
    },
    {
     "ename": "ParamError",
     "evalue": "ll must be of the form XX.XX,YY.YY (received ,)",
     "output_type": "error",
     "traceback": [
      "\u001b[1;31m---------------------------------------------------------------------------\u001b[0m",
      "\u001b[1;31mParamError\u001b[0m                                Traceback (most recent call last)",
      "\u001b[1;32m<ipython-input-2-6bdf847970ad>\u001b[0m in \u001b[0;36m<module>\u001b[1;34m()\u001b[0m\n\u001b[0;32m     33\u001b[0m                     \u001b[1;31m#print data_row\u001b[0m\u001b[1;33m\u001b[0m\u001b[1;33m\u001b[0m\u001b[0m\n\u001b[0;32m     34\u001b[0m                     \u001b[1;31m#t0 = time.time()\u001b[0m\u001b[1;33m\u001b[0m\u001b[1;33m\u001b[0m\u001b[0m\n\u001b[1;32m---> 35\u001b[1;33m                     \u001b[0mtext\u001b[0m \u001b[1;33m=\u001b[0m \u001b[0mclient\u001b[0m\u001b[1;33m.\u001b[0m\u001b[0mvenues\u001b[0m\u001b[1;33m.\u001b[0m\u001b[0msearch\u001b[0m\u001b[1;33m(\u001b[0m\u001b[0mparams\u001b[0m\u001b[1;33m=\u001b[0m\u001b[1;33m{\u001b[0m\u001b[1;34m'll'\u001b[0m\u001b[1;33m:\u001b[0m\u001b[0mstr\u001b[0m\u001b[1;33m(\u001b[0m\u001b[0mdata_row\u001b[0m\u001b[1;33m[\u001b[0m\u001b[1;36m2\u001b[0m\u001b[1;33m]\u001b[0m\u001b[1;33m)\u001b[0m\u001b[1;33m+\u001b[0m\u001b[1;34m','\u001b[0m\u001b[1;33m+\u001b[0m\u001b[0mstr\u001b[0m\u001b[1;33m(\u001b[0m\u001b[0mdata_row\u001b[0m\u001b[1;33m[\u001b[0m\u001b[1;36m3\u001b[0m\u001b[1;33m]\u001b[0m\u001b[1;33m)\u001b[0m\u001b[1;33m,\u001b[0m \u001b[1;34m'limit'\u001b[0m\u001b[1;33m:\u001b[0m\u001b[1;34m'1'\u001b[0m\u001b[1;33m}\u001b[0m\u001b[1;33m)\u001b[0m\u001b[1;33m\u001b[0m\u001b[0m\n\u001b[0m\u001b[0;32m     36\u001b[0m                     \u001b[1;31m#t1 = time.time()\u001b[0m\u001b[1;33m\u001b[0m\u001b[1;33m\u001b[0m\u001b[0m\n\u001b[0;32m     37\u001b[0m                     \u001b[0mtime\u001b[0m\u001b[1;33m.\u001b[0m\u001b[0msleep\u001b[0m\u001b[1;33m(\u001b[0m\u001b[1;36m1\u001b[0m\u001b[1;33m)\u001b[0m\u001b[1;33m\u001b[0m\u001b[0m\n",
      "\u001b[1;32m/usr/local/lib/python2.7/dist-packages/foursquare/__init__.pyc\u001b[0m in \u001b[0;36msearch\u001b[1;34m(self, params, multi)\u001b[0m\n\u001b[0;32m    420\u001b[0m         \u001b[1;32mdef\u001b[0m \u001b[0msearch\u001b[0m\u001b[1;33m(\u001b[0m\u001b[0mself\u001b[0m\u001b[1;33m,\u001b[0m \u001b[0mparams\u001b[0m\u001b[1;33m,\u001b[0m \u001b[0mmulti\u001b[0m\u001b[1;33m=\u001b[0m\u001b[0mFalse\u001b[0m\u001b[1;33m)\u001b[0m\u001b[1;33m:\u001b[0m\u001b[1;33m\u001b[0m\u001b[0m\n\u001b[0;32m    421\u001b[0m             \u001b[1;34m\"\"\"https://developer.foursquare.com/docs/venues/search\"\"\"\u001b[0m\u001b[1;33m\u001b[0m\u001b[0m\n\u001b[1;32m--> 422\u001b[1;33m             \u001b[1;32mreturn\u001b[0m \u001b[0mself\u001b[0m\u001b[1;33m.\u001b[0m\u001b[0mGET\u001b[0m\u001b[1;33m(\u001b[0m\u001b[1;34m'search'\u001b[0m\u001b[1;33m,\u001b[0m \u001b[0mparams\u001b[0m\u001b[1;33m,\u001b[0m \u001b[0mmulti\u001b[0m\u001b[1;33m=\u001b[0m\u001b[0mmulti\u001b[0m\u001b[1;33m)\u001b[0m\u001b[1;33m\u001b[0m\u001b[0m\n\u001b[0m\u001b[0;32m    423\u001b[0m \u001b[1;33m\u001b[0m\u001b[0m\n\u001b[0;32m    424\u001b[0m         \u001b[1;32mdef\u001b[0m \u001b[0msuggestcompletion\u001b[0m\u001b[1;33m(\u001b[0m\u001b[0mself\u001b[0m\u001b[1;33m,\u001b[0m \u001b[0mparams\u001b[0m\u001b[1;33m,\u001b[0m \u001b[0mmulti\u001b[0m\u001b[1;33m=\u001b[0m\u001b[0mFalse\u001b[0m\u001b[1;33m)\u001b[0m\u001b[1;33m:\u001b[0m\u001b[1;33m\u001b[0m\u001b[0m\n",
      "\u001b[1;32m/usr/local/lib/python2.7/dist-packages/foursquare/__init__.pyc\u001b[0m in \u001b[0;36mGET\u001b[1;34m(self, path, *args, **kwargs)\u001b[0m\n\u001b[0;32m    268\u001b[0m         \u001b[1;32mdef\u001b[0m \u001b[0mGET\u001b[0m\u001b[1;33m(\u001b[0m\u001b[0mself\u001b[0m\u001b[1;33m,\u001b[0m \u001b[0mpath\u001b[0m\u001b[1;33m=\u001b[0m\u001b[0mNone\u001b[0m\u001b[1;33m,\u001b[0m \u001b[1;33m*\u001b[0m\u001b[0margs\u001b[0m\u001b[1;33m,\u001b[0m \u001b[1;33m**\u001b[0m\u001b[0mkwargs\u001b[0m\u001b[1;33m)\u001b[0m\u001b[1;33m:\u001b[0m\u001b[1;33m\u001b[0m\u001b[0m\n\u001b[0;32m    269\u001b[0m             \u001b[1;34m\"\"\"Use the requester to get the data\"\"\"\u001b[0m\u001b[1;33m\u001b[0m\u001b[0m\n\u001b[1;32m--> 270\u001b[1;33m             \u001b[1;32mreturn\u001b[0m \u001b[0mself\u001b[0m\u001b[1;33m.\u001b[0m\u001b[0mrequester\u001b[0m\u001b[1;33m.\u001b[0m\u001b[0mGET\u001b[0m\u001b[1;33m(\u001b[0m\u001b[0mself\u001b[0m\u001b[1;33m.\u001b[0m\u001b[0m_expanded_path\u001b[0m\u001b[1;33m(\u001b[0m\u001b[0mpath\u001b[0m\u001b[1;33m)\u001b[0m\u001b[1;33m,\u001b[0m \u001b[1;33m*\u001b[0m\u001b[0margs\u001b[0m\u001b[1;33m,\u001b[0m \u001b[1;33m**\u001b[0m\u001b[0mkwargs\u001b[0m\u001b[1;33m)\u001b[0m\u001b[1;33m\u001b[0m\u001b[0m\n\u001b[0m\u001b[0;32m    271\u001b[0m \u001b[1;33m\u001b[0m\u001b[0m\n\u001b[0;32m    272\u001b[0m         \u001b[1;32mdef\u001b[0m \u001b[0mPOST\u001b[0m\u001b[1;33m(\u001b[0m\u001b[0mself\u001b[0m\u001b[1;33m,\u001b[0m \u001b[0mpath\u001b[0m\u001b[1;33m=\u001b[0m\u001b[0mNone\u001b[0m\u001b[1;33m,\u001b[0m \u001b[1;33m*\u001b[0m\u001b[0margs\u001b[0m\u001b[1;33m,\u001b[0m \u001b[1;33m**\u001b[0m\u001b[0mkwargs\u001b[0m\u001b[1;33m)\u001b[0m\u001b[1;33m:\u001b[0m\u001b[1;33m\u001b[0m\u001b[0m\n",
      "\u001b[1;32m/usr/local/lib/python2.7/dist-packages/foursquare/__init__.pyc\u001b[0m in \u001b[0;36mGET\u001b[1;34m(self, path, params, **kwargs)\u001b[0m\n\u001b[0;32m    202\u001b[0m                 \u001b[0mpath\u001b[0m\u001b[1;33m=\u001b[0m\u001b[0mpath\u001b[0m\u001b[1;33m\u001b[0m\u001b[0m\n\u001b[0;32m    203\u001b[0m             )\n\u001b[1;32m--> 204\u001b[1;33m             \u001b[0mresult\u001b[0m \u001b[1;33m=\u001b[0m \u001b[0m_get\u001b[0m\u001b[1;33m(\u001b[0m\u001b[0murl\u001b[0m\u001b[1;33m,\u001b[0m \u001b[0mheaders\u001b[0m\u001b[1;33m=\u001b[0m\u001b[0mheaders\u001b[0m\u001b[1;33m,\u001b[0m \u001b[0mparams\u001b[0m\u001b[1;33m=\u001b[0m\u001b[0mparams\u001b[0m\u001b[1;33m)\u001b[0m\u001b[1;33m\u001b[0m\u001b[0m\n\u001b[0m\u001b[0;32m    205\u001b[0m             \u001b[0mself\u001b[0m\u001b[1;33m.\u001b[0m\u001b[0mrate_limit\u001b[0m \u001b[1;33m=\u001b[0m \u001b[0mresult\u001b[0m\u001b[1;33m[\u001b[0m\u001b[1;34m'headers'\u001b[0m\u001b[1;33m]\u001b[0m\u001b[1;33m[\u001b[0m\u001b[1;34m'X-RateLimit-Limit'\u001b[0m\u001b[1;33m]\u001b[0m\u001b[1;33m\u001b[0m\u001b[0m\n\u001b[0;32m    206\u001b[0m             \u001b[0mself\u001b[0m\u001b[1;33m.\u001b[0m\u001b[0mrate_remaining\u001b[0m \u001b[1;33m=\u001b[0m \u001b[0mresult\u001b[0m\u001b[1;33m[\u001b[0m\u001b[1;34m'headers'\u001b[0m\u001b[1;33m]\u001b[0m\u001b[1;33m[\u001b[0m\u001b[1;34m'X-RateLimit-Remaining'\u001b[0m\u001b[1;33m]\u001b[0m\u001b[1;33m\u001b[0m\u001b[0m\n",
      "\u001b[1;32m/usr/local/lib/python2.7/dist-packages/foursquare/__init__.pyc\u001b[0m in \u001b[0;36m_get\u001b[1;34m(url, headers, params)\u001b[0m\n\u001b[0;32m    796\u001b[0m             \u001b[1;32mtry\u001b[0m\u001b[1;33m:\u001b[0m\u001b[1;33m\u001b[0m\u001b[0m\n\u001b[0;32m    797\u001b[0m                 \u001b[0mresponse\u001b[0m \u001b[1;33m=\u001b[0m \u001b[0mrequests\u001b[0m\u001b[1;33m.\u001b[0m\u001b[0mget\u001b[0m\u001b[1;33m(\u001b[0m\u001b[0murl\u001b[0m\u001b[1;33m,\u001b[0m \u001b[0mheaders\u001b[0m\u001b[1;33m=\u001b[0m\u001b[0mheaders\u001b[0m\u001b[1;33m,\u001b[0m \u001b[0mparams\u001b[0m\u001b[1;33m=\u001b[0m\u001b[0mparam_string\u001b[0m\u001b[1;33m,\u001b[0m \u001b[0mverify\u001b[0m\u001b[1;33m=\u001b[0m\u001b[0mVERIFY_SSL\u001b[0m\u001b[1;33m)\u001b[0m\u001b[1;33m\u001b[0m\u001b[0m\n\u001b[1;32m--> 798\u001b[1;33m                 \u001b[1;32mreturn\u001b[0m \u001b[0m_process_response\u001b[0m\u001b[1;33m(\u001b[0m\u001b[0mresponse\u001b[0m\u001b[1;33m)\u001b[0m\u001b[1;33m\u001b[0m\u001b[0m\n\u001b[0m\u001b[0;32m    799\u001b[0m             \u001b[1;32mexcept\u001b[0m \u001b[0mrequests\u001b[0m\u001b[1;33m.\u001b[0m\u001b[0mexceptions\u001b[0m\u001b[1;33m.\u001b[0m\u001b[0mRequestException\u001b[0m \u001b[1;32mas\u001b[0m \u001b[0me\u001b[0m\u001b[1;33m:\u001b[0m\u001b[1;33m\u001b[0m\u001b[0m\n\u001b[0;32m    800\u001b[0m                 \u001b[0m_log_and_raise_exception\u001b[0m\u001b[1;33m(\u001b[0m\u001b[1;34m'Error connecting with foursquare API'\u001b[0m\u001b[1;33m,\u001b[0m \u001b[0me\u001b[0m\u001b[1;33m)\u001b[0m\u001b[1;33m\u001b[0m\u001b[0m\n",
      "\u001b[1;32m/usr/local/lib/python2.7/dist-packages/foursquare/__init__.pyc\u001b[0m in \u001b[0;36m_process_response\u001b[1;34m(response)\u001b[0m\n\u001b[0;32m    825\u001b[0m     \u001b[1;32mif\u001b[0m \u001b[0mresponse\u001b[0m\u001b[1;33m.\u001b[0m\u001b[0mstatus_code\u001b[0m \u001b[1;33m==\u001b[0m \u001b[1;36m200\u001b[0m\u001b[1;33m:\u001b[0m\u001b[1;33m\u001b[0m\u001b[0m\n\u001b[0;32m    826\u001b[0m         \u001b[1;32mreturn\u001b[0m \u001b[1;33m{\u001b[0m \u001b[1;34m'headers'\u001b[0m\u001b[1;33m:\u001b[0m \u001b[0mresponse\u001b[0m\u001b[1;33m.\u001b[0m\u001b[0mheaders\u001b[0m\u001b[1;33m,\u001b[0m \u001b[1;34m'data'\u001b[0m\u001b[1;33m:\u001b[0m \u001b[0mdata\u001b[0m \u001b[1;33m}\u001b[0m\u001b[1;33m\u001b[0m\u001b[0m\n\u001b[1;32m--> 827\u001b[1;33m     \u001b[1;32mreturn\u001b[0m \u001b[0m_raise_error_from_response\u001b[0m\u001b[1;33m(\u001b[0m\u001b[0mdata\u001b[0m\u001b[1;33m)\u001b[0m\u001b[1;33m\u001b[0m\u001b[0m\n\u001b[0m\u001b[0;32m    828\u001b[0m \u001b[1;33m\u001b[0m\u001b[0m\n\u001b[0;32m    829\u001b[0m \u001b[1;32mdef\u001b[0m \u001b[0m_raise_error_from_response\u001b[0m\u001b[1;33m(\u001b[0m\u001b[0mdata\u001b[0m\u001b[1;33m)\u001b[0m\u001b[1;33m:\u001b[0m\u001b[1;33m\u001b[0m\u001b[0m\n",
      "\u001b[1;32m/usr/local/lib/python2.7/dist-packages/foursquare/__init__.pyc\u001b[0m in \u001b[0;36m_raise_error_from_response\u001b[1;34m(data)\u001b[0m\n\u001b[0;32m    837\u001b[0m         \u001b[0mexc\u001b[0m \u001b[1;33m=\u001b[0m \u001b[0merror_types\u001b[0m\u001b[1;33m.\u001b[0m\u001b[0mget\u001b[0m\u001b[1;33m(\u001b[0m\u001b[0mmeta\u001b[0m\u001b[1;33m.\u001b[0m\u001b[0mget\u001b[0m\u001b[1;33m(\u001b[0m\u001b[1;34m'errorType'\u001b[0m\u001b[1;33m)\u001b[0m\u001b[1;33m)\u001b[0m\u001b[1;33m\u001b[0m\u001b[0m\n\u001b[0;32m    838\u001b[0m         \u001b[1;32mif\u001b[0m \u001b[0mexc\u001b[0m\u001b[1;33m:\u001b[0m\u001b[1;33m\u001b[0m\u001b[0m\n\u001b[1;32m--> 839\u001b[1;33m             \u001b[1;32mraise\u001b[0m \u001b[0mexc\u001b[0m\u001b[1;33m(\u001b[0m\u001b[0mmeta\u001b[0m\u001b[1;33m.\u001b[0m\u001b[0mget\u001b[0m\u001b[1;33m(\u001b[0m\u001b[1;34m'errorDetail'\u001b[0m\u001b[1;33m)\u001b[0m\u001b[1;33m)\u001b[0m\u001b[1;33m\u001b[0m\u001b[0m\n\u001b[0m\u001b[0;32m    840\u001b[0m         \u001b[1;32melse\u001b[0m\u001b[1;33m:\u001b[0m\u001b[1;33m\u001b[0m\u001b[0m\n\u001b[0;32m    841\u001b[0m             \u001b[0m_log_and_raise_exception\u001b[0m\u001b[1;33m(\u001b[0m\u001b[1;34m'Unknown error. meta'\u001b[0m\u001b[1;33m,\u001b[0m \u001b[0mmeta\u001b[0m\u001b[1;33m)\u001b[0m\u001b[1;33m\u001b[0m\u001b[0m\n",
      "\u001b[1;31mParamError\u001b[0m: ll must be of the form XX.XX,YY.YY (received ,)"
     ]
    }
   ],
   "source": [
    "# This program will add an extra column to eml.csv containing the Foursquare\n",
    "# highest-level category for the locations subjects have entered\n",
    "\n",
    "import foursquare\n",
    "import csv\n",
    "from copy import deepcopy\n",
    "import time\n",
    "import os\n",
    "\n",
    "data_root_dir = '/home/sohrob/Dropbox/Data/CS120/'\n",
    "data_write_dir = '/home/sohrob/Dropbox/Data/CS120FourSquare/'\n",
    "\n",
    "subjects = os.listdir(data_root_dir)\n",
    "subjects = subjects[53:]\n",
    "# subject 1367477 (52) should be skipped as it doesn't have lat/long values for location reports\n",
    "\n",
    "client = foursquare.Foursquare(client_id='Z114Q224KB4ZFVHALYCFVTQIDEJZON30R3CY1UUABGI3SFA5', client_secret='4YZNN4DVQKW1IMY3SIZ1GBUGHKYRMNIGDDGHI3LJG0UGWAOU', version='20160108')\n",
    "\n",
    "cat_map = client.venues.categories()\n",
    "\n",
    "n_cat = 10 # no. fousquare categories\n",
    "\n",
    "for (i,subject) in enumerate(subjects):\n",
    "    #subject = subjects_row[0]\n",
    "    print 'subject '+str(i)+' '+subject\n",
    "    data_out = []\n",
    "    filename = data_root_dir + subject + '/eml.csv'\n",
    "    if os.path.exists(filename):\n",
    "        with open(filename) as file_in:\n",
    "            data = csv.reader(file_in, delimiter='\\t')\n",
    "            for data_row in data:\n",
    "                if data_row:\n",
    "                    #text = client.venues.search(params={'query':data_row[5], 'll':str(data_row[2])+','+str(data_row[3]), 'limit':'1'})\n",
    "                    #print data_row\n",
    "                    #t0 = time.time()\n",
    "                    text = client.venues.search(params={'ll':str(data_row[2])+','+str(data_row[3]), 'limit':'1'})\n",
    "                    #t1 = time.time()\n",
    "                    time.sleep(1)\n",
    "                    #t2 = time.time()\n",
    "                    categ_high = 'Unknown'\n",
    "                    distance = float('NaN')\n",
    "                    if text['venues']:\n",
    "                        if text['venues'][0]['location']:\n",
    "                            distance = text['venues'][0]['location']['distance']\n",
    "                        if text['venues'][0]['categories']:\n",
    "                            categ_low = text['venues'][0]['categories'][0]['name']\n",
    "                            #print categ_low\n",
    "                            for j in range(n_cat):\n",
    "                                has_it = False\n",
    "                                for t in cat_map['categories'][j]['categories']:\n",
    "                                    # if there are level 3 categories\n",
    "                                    if t['categories']:\n",
    "                                        for tt in t['categories']:\n",
    "                                            if tt['name']==categ_low:\n",
    "                                                has_it = True\n",
    "                                                break\n",
    "                                    else:\n",
    "                                        if t['name']==categ_low:\n",
    "                                            has_it = True\n",
    "                                    if has_it:\n",
    "                                        break\n",
    "                                if has_it:\n",
    "                                    categ_high = cat_map['categories'][j]['name']\n",
    "                                    break\n",
    "                            #print categ_high\n",
    "                    else:\n",
    "                        print 'warning: query response was empty'\n",
    "                    #t3 = time.time()\n",
    "                    #print t3-t2, t2-t1, t1-t0\n",
    "                    data_out_row = data_row\n",
    "                    data_out_row.append(categ_high)\n",
    "                    data_out_row.append(distance)\n",
    "                    data_out.append(deepcopy(data_out_row))\n",
    "        file_in.close()\n",
    "        if not os.path.exists(data_write_dir+subject):\n",
    "            os.makedirs(data_write_dir+subject)\n",
    "        with open(data_write_dir + subject + '/fsq2.csv', 'w') as file_out:\n",
    "            spamwriter = csv.writer(file_out, delimiter='\\t',quotechar='|',quoting=csv.QUOTE_MINIMAL)\n",
    "            for data_out_row in data_out:\n",
    "                spamwriter.writerow(data_out_row)\n",
    "        file_out.close()\n",
    "    else:\n",
    "        print 'subject skipped due to no eml.csv'\n"
   ]
  },
  {
   "cell_type": "code",
   "execution_count": 4,
   "metadata": {
    "collapsed": false
   },
   "outputs": [
    {
     "name": "stdout",
     "output_type": "stream",
     "text": [
      "['EW057EV', 'MQ077WG', '1203725', 'BD921DW', '1573207', '1578395', '1464458', '1135515', '1183252', '1521517', '1210517', 'FM387DI', '952207', '1142152', '984221', '1553373', '1244644', '1327952', '1524496', '1559190', '1130955', '1535103', '1381257', '1041667', '1055808', '1483186', '1054952', '1197009', '1385032', 'IK750RN', 'IP417XX', '1564420', '1288818', '1571376', '1567871', '1328568', '1374066', 'EW057DI', '1536580', 'XF600QF', '1208813', '1114936', '1165040', '25349', '1234088', '827285', 'FJ227MJ', '1124659', '1422927', '1270329', '1219403', '345921', '1367477', '1505268', '1579481', 'HH880DL', 'HE593LT', 'WT253RB', '606449', 'UQ050PR', '1549226', '1312819', '428255', '1013558', '1425272', '1428949', '1524947', '1533327', '1305690', '1084240', '831987', '1079411', '1496251', '1078563', '872451', 'QC647KS', '249499', '828778', '1143410', '506107', '616751', '1569370', '1503395', '1388630', '1145713', '1497026', '1444502', '820387', '1097633', '1128660', '1147164', '856513', '1041304', '1307868', '1189725', '920558', '62977', '1355344', '575209', '1179075', 'IQ300QN', '1272711', '1184498', 'DB233EI', '1022235', '1299151', '871322', '1560722', '433874', '1557966', '906629', '636646', '1401878', '489868', '964685', '1336140', '1155329', '1567198', '560623', '98384', 'TP903SN', '1213494', 'HU113HP', '1051651', '1495360', '97397', '1411525', 'CB832WW', 'QE210HJ', '1217425', '1213535', '1057121', '510909', '1370566', 'NJ280ID', '1537431', '1213906', 'CP140WM', '1130163', '1294671', '1569348', '1002060', '1225160', '1328707', 'HI713WB', '1150915', '1170978', '1255682', '564447', '1126979', '1307899', '1080326', '765488', '1027472', '1164303', 'JK130XR', '662410', 'AC363GY', 'QG620BT', '1334243', 'JS253NF', '1439160', '733021', '411896', '1495049', '1560782', '1523880', '1126438', 'SP157RF', '555220', 'BJ540PT', '1515656', '639010', '1380734', '391378', '1382086', '1531633', 'NQ003SV', '1207041', '1565499', 'JB320SW', '1403756', '919141', '1550259', '106743', '.dropbox', '1177977', '39468', '1199841', '913164', '1178484', '1148714', '1479464', '1553904', '630742', '1401811', '1433908', '1157796', '1229114', 'XU620RL', '1407619', '1409046', '1056017', '1230637', 'all-2.json', '38880', '1061128', 'CL263NI', '1186533', '619634']\n"
     ]
    }
   ],
   "source": [
    "import os\n",
    "data_root_dir = '/home/sohrob/Dropbox/Data/CS120/'\n",
    "subjects = os.listdir(data_root_dir)\n",
    "print subjects"
   ]
  }
 ],
 "metadata": {
  "kernelspec": {
   "display_name": "Python 2",
   "language": "python",
   "name": "python2"
  },
  "language_info": {
   "codemirror_mode": {
    "name": "ipython",
    "version": 2
   },
   "file_extension": ".py",
   "mimetype": "text/x-python",
   "name": "python",
   "nbconvert_exporter": "python",
   "pygments_lexer": "ipython2",
   "version": "2.7.6"
  }
 },
 "nbformat": 4,
 "nbformat_minor": 0
}
