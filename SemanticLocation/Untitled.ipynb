{
 "cells": [
  {
   "cell_type": "code",
   "execution_count": 1,
   "metadata": {
    "collapsed": false
   },
   "outputs": [
    {
     "data": {
      "text/plain": [
       "['',\n",
       " '/usr/lib/python2.7',\n",
       " '/usr/lib/python2.7/plat-x86_64-linux-gnu',\n",
       " '/usr/lib/python2.7/lib-tk',\n",
       " '/usr/lib/python2.7/lib-old',\n",
       " '/usr/lib/python2.7/lib-dynload',\n",
       " '/usr/local/lib/python2.7/dist-packages',\n",
       " '/home/sohrob/Dropbox/Code/spykes',\n",
       " '/usr/lib/python2.7/dist-packages',\n",
       " '/usr/lib/python2.7/dist-packages/PILcompat',\n",
       " '/usr/lib/python2.7/dist-packages/gtk-2.0',\n",
       " '/usr/lib/python2.7/dist-packages/ubuntu-sso-client',\n",
       " '/usr/local/lib/python2.7/dist-packages/IPython/extensions',\n",
       " '/home/sohrob/.ipython']"
      ]
     },
     "execution_count": 1,
     "metadata": {},
     "output_type": "execute_result"
    }
   ],
   "source": [
    "import sys \n",
    "sys.path"
   ]
  }
 ],
 "metadata": {
  "kernelspec": {
   "display_name": "Python 2",
   "language": "python",
   "name": "python2"
  },
  "language_info": {
   "codemirror_mode": {
    "name": "ipython",
    "version": 2
   },
   "file_extension": ".py",
   "mimetype": "text/x-python",
   "name": "python",
   "nbconvert_exporter": "python",
   "pygments_lexer": "ipython2",
   "version": "2.7.6"
  }
 },
 "nbformat": 4,
 "nbformat_minor": 1
}
