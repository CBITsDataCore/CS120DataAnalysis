{
 "cells": [
  {
   "cell_type": "code",
   "execution_count": 1,
   "metadata": {
    "collapsed": true
   },
   "outputs": [],
   "source": [
    "def stratify(x, y):\n",
    "    \n",
    "    import collections as col\n",
    "    counts = col.Counter(y)\n",
    "    n_max = np.max(counts.values())\n",
    "    \n",
    "    y_uniq = np.unique(y)\n",
    "    y_out_class = [[] for i in range(y_uniq.size)]\n",
    "    x_out_class = [[] for i in range(y_uniq.size)]\n",
    "    for (i,y_u) in enumerate(y_uniq):\n",
    "        inds = y==y_u\n",
    "        y_class = y[inds]\n",
    "        x_class = x[inds,:]\n",
    "        inds = np.random.choice(np.arange(0,y_class.size), n_max, replace=True)\n",
    "        y_out_class[i] = y_class[inds]\n",
    "        x_out_class[i] = x_class[inds]\n",
    "        \n",
    "    y = np.concatenate(y_out_class)\n",
    "    x = np.concatenate(x_out_class, axis=0)\n",
    "    \n",
    "    return x,y\n",
    "        "
   ]
  },
  {
   "cell_type": "code",
   "execution_count": 15,
   "metadata": {
    "collapsed": false,
    "scrolled": false
   },
   "outputs": [
    {
     "name": "stdout",
     "output_type": "stream",
     "text": [
      "bootstrap 0\n",
      "bootstrap 1\n",
      "bootstrap 2\n",
      "bootstrap 3\n",
      "bootstrap 4\n",
      "bootstrap 5\n",
      "bootstrap 6\n",
      "bootstrap 7\n",
      "bootstrap 8\n",
      "bootstrap 9\n"
     ]
    }
   ],
   "source": [
    "import os\n",
    "import pickle\n",
    "import numpy as np\n",
    "import xgboost as xgb\n",
    "import pandas as pd\n",
    "\n",
    "# from sklearn.preprocessing import OneHotEncoder\n",
    "# from sklearn import preprocessing\n",
    "\n",
    "feature_label = np.array(['light mean','light std','light off','light zcrossing','light skew','light kurt',\\\n",
    "                          'audio mean','audio std','audio skew','audio kurt','audio frq mean','audio frq std','audio frq skew','audio frq kurt',\\\n",
    "                          'screen frq mean','screen dur mean','screen dur std',\\\n",
    "                          'still','tilting','walking','unknown act', 'still-walking','still-tilting','still-unknown','walking-unknown',\\\n",
    "                          'messaging app','facebook app','chrome app','mobilyze app','phone app','gmail app','contacts app','internet app',\\\n",
    "                          'gallery app','email app','settings app',\\\n",
    "                          'messenger app','camera app','clock app','maps app','calendar app','youtube app','calculator app',\\\n",
    "                          'purple robot app','system ui app',\\\n",
    "                          'n call in','n call out','n sms in','n sms out','n missed',\\\n",
    "                          'n wifi',\\\n",
    "                          'latitude mean','longitude mean','location var',\\\n",
    "                          'temperature','dew point','weather',\\\n",
    "                          'visit duration','visit midtime','weekday start','weekday end',\\\n",
    "                          '4square cat 1','4square cat 2','4square cat 3','4square cat 4','4square cat 5','4square cat 6','4square cat 7',\\\n",
    "                          '4square cat 8','4square distance',\\\n",
    "                         'visit frequency','visit interval mean'])\n",
    "\n",
    "n_bootstrap = 10\n",
    "do_stratify = False\n",
    "\n",
    "ft_dir = 'features_long/'\n",
    "\n",
    "# list feature files\n",
    "files = os.listdir(ft_dir)\n",
    "\n",
    "with open('top_locations.dat') as f:\n",
    "    state_top10 = pickle.load(f)\n",
    "f.close()\n",
    "for (i,s) in enumerate(state_top10):\n",
    "    state_top10[i] = state_top10[i].replace('\"','')\n",
    "    state_top10[i] = state_top10[i].replace('[','')\n",
    "    state_top10[i] = state_top10[i].replace(']','')\n",
    "\n",
    "feature_all = []\n",
    "state_all = []\n",
    "state_fsq_all = []\n",
    "for filename in files:\n",
    "    with open(ft_dir+filename) as f:  \n",
    "        feature, state = pickle.load(f)\n",
    "        \n",
    "        # only keeping top 10 states\n",
    "        ind = np.array([], int)\n",
    "        for (i,st) in enumerate(state['location']):\n",
    "            if st in state_top10:\n",
    "                ind = np.append(ind, i)\n",
    "        feature = feature.loc[ind,:]\n",
    "        state = state.loc[ind,'location']\n",
    "        \n",
    "        feature_all.append(feature)\n",
    "        state_all.append(state)\n",
    "        \n",
    "    f.close()\n",
    "\n",
    "x_train = pd.concat(feature_all, axis=0)\n",
    "y_train = pd.concat(state_all)\n",
    "\n",
    "if do_stratify:\n",
    "    x_train, y_train = stratify(x_train,y_train)\n",
    "\n",
    "gbm = [[] for _ in range(n_bootstrap)]\n",
    "for sd in range(n_bootstrap):\n",
    "    print 'bootstrap {}'.format(sd)\n",
    "    gbm[sd] = xgb.XGBClassifier(max_depth=3, n_estimators=300, learning_rate=0.05, nthread=12, subsample=1,\\\n",
    "                               max_delta_step=0, seed=sd).fit(x_train, y_train)\n"
   ]
  },
  {
   "cell_type": "code",
   "execution_count": 13,
   "metadata": {
    "collapsed": false
   },
   "outputs": [
    {
     "data": {
      "text/plain": [
       "['Shop or Store',\n",
       " 'Home',\n",
       " 'Food (Restaurant, Cafe)',\n",
       " \"Another's Home\",\n",
       " 'Professional or Medical Office',\n",
       " 'Work',\n",
       " 'Arts & Entertainment (Theater, Music Venue, Etc.)',\n",
       " 'Outdoors & Recreation',\n",
       " 'Spiritual (Church, Temple, Etc.)',\n",
       " 'Nightlife Spot (Bar, Club)']"
      ]
     },
     "execution_count": 13,
     "metadata": {},
     "output_type": "execute_result"
    }
   ],
   "source": [
    "state_top10"
   ]
  },
  {
   "cell_type": "code",
   "execution_count": 37,
   "metadata": {
    "collapsed": false,
    "scrolled": false
   },
   "outputs": [
    {
     "data": {
      "text/plain": [
       "(-1, 0)"
      ]
     },
     "execution_count": 37,
     "metadata": {},
     "output_type": "execute_result"
    },
    {
     "data": {
      "image/png": "[encoded data removed]",
      "text/plain": [
       "<matplotlib.figure.Figure at 0x7f93f82e2810>"
      ]
     },
     "metadata": {},
     "output_type": "display_data"
    }
   ],
   "source": [
    "import matplotlib.pyplot as plt\n",
    "import numpy as np\n",
    "%matplotlib inline\n",
    "plt.figure(figsize=(10,15))\n",
    "axes = plt.gca()\n",
    "#xgb.plot_importance(gbm, ax=axes, label=feature_label)\n",
    "\n",
    "fscore = pd.DataFrame()\n",
    "for i in range(n_bootstrap):\n",
    "    fscore.loc[i,:] = np.array(gbm[i].booster().get_fscore().values())\n",
    "fscore_mean = np.array(np.mean(fscore,axis=0))\n",
    "ind_sort = np.argsort(fscore_mean)\n",
    "val_sorted = fscore_mean[ind_sort]\n",
    "key_sorted = list(np.array(gbm[0].booster().get_fscore().keys())[ind_sort])\n",
    "plt.barh(np.arange(val_sorted.size), val_sorted, .7, color=(.4,.4,1), align='center')\n",
    "plt.yticks(np.arange(len(key_sorted)), key_sorted, fontsize=12, color=(0,0,0));\n",
    "axes.set_ylim([-1, len(key_sorted)])"
   ]
  },
  {
   "cell_type": "code",
   "execution_count": 35,
   "metadata": {
    "collapsed": false
   },
   "outputs": [
    {
     "data": {
      "text/plain": [
       "array([ 304,  265,  295,   42,  463,  191,  180,  628, 1013,   44,  414,\n",
       "        194,  108,   59,  115,  209,  259,  429,   31,   65,  145, 1426,\n",
       "          4, 1181,  227,   10,  153,   33,    2,   84,   27,  172,    8,\n",
       "        181,   47,  541,  151,  219,  340,  105,   58,  109,  163,  123,\n",
       "         11,  391,  459,   21,  892,  138, 1682,  161, 1823,   28,   85,\n",
       "       1641,  183,  245,  204,   55,  163,   75,   18, 1123])"
      ]
     },
     "execution_count": 35,
     "metadata": {},
     "output_type": "execute_result"
    }
   ],
   "source": [
    "np.array(gbm[i].booster().get_fscore().values())"
   ]
  }
 ],
 "metadata": {
  "kernelspec": {
   "display_name": "Python 2",
   "language": "python",
   "name": "python2"
  },
  "language_info": {
   "codemirror_mode": {
    "name": "ipython",
    "version": 2
   },
   "file_extension": ".py",
   "mimetype": "text/x-python",
   "name": "python",
   "nbconvert_exporter": "python",
   "pygments_lexer": "ipython2",
   "version": "2.7.6"
  }
 },
 "nbformat": 4,
 "nbformat_minor": 0
}
