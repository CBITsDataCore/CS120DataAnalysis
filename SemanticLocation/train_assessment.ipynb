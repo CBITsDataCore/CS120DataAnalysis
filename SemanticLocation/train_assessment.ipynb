{
 "cells": [
  {
   "cell_type": "code",
   "execution_count": 1,
   "metadata": {
    "collapsed": false,
    "scrolled": false
   },
   "outputs": [
    {
     "name": "stdout",
     "output_type": "stream",
     "text": [
      ". (121, 7)\n",
      "(121, 7)\n"
     ]
    },
    {
     "ename": "AttributeError",
     "evalue": "'Series' object has no attribute 'columns'",
     "output_type": "error",
     "traceback": [
      "\u001b[1;31m---------------------------------------------------------------------------\u001b[0m",
      "\u001b[1;31mAttributeError\u001b[0m                            Traceback (most recent call last)",
      "\u001b[1;32m<ipython-input-1-780ea1eb0774>\u001b[0m in \u001b[0;36m<module>\u001b[1;34m()\u001b[0m\n\u001b[0;32m     71\u001b[0m \u001b[1;31m#     y_test = y_test.reset_index(drop=True)\u001b[0m\u001b[1;33m\u001b[0m\u001b[1;33m\u001b[0m\u001b[0m\n\u001b[0;32m     72\u001b[0m \u001b[1;33m\u001b[0m\u001b[0m\n\u001b[1;32m---> 73\u001b[1;33m     \u001b[0mx_train\u001b[0m\u001b[1;33m,\u001b[0m \u001b[0my_train\u001b[0m\u001b[1;33m,\u001b[0m \u001b[0mx_test\u001b[0m\u001b[1;33m,\u001b[0m \u001b[0my_test\u001b[0m \u001b[1;33m=\u001b[0m \u001b[0msplit_binary\u001b[0m\u001b[1;33m(\u001b[0m\u001b[0mfeature\u001b[0m\u001b[1;33m,\u001b[0m \u001b[0mtarget\u001b[0m\u001b[1;33m,\u001b[0m \u001b[1;36m0.9\u001b[0m\u001b[1;33m,\u001b[0m \u001b[0moversample\u001b[0m\u001b[1;33m=\u001b[0m\u001b[0mTrue\u001b[0m\u001b[1;33m)\u001b[0m\u001b[1;33m\u001b[0m\u001b[0m\n\u001b[0m\u001b[0;32m     74\u001b[0m \u001b[1;33m\u001b[0m\u001b[0m\n\u001b[0;32m     75\u001b[0m     \u001b[1;31m# train (layer 1)\u001b[0m\u001b[1;33m\u001b[0m\u001b[1;33m\u001b[0m\u001b[0m\n",
      "\u001b[1;32m/home/sohrob/Dropbox/Code/MATLAB/CS120/SemanticLocation/crossvalidation.py\u001b[0m in \u001b[0;36msplit_binary\u001b[1;34m(x, y, split, oversample)\u001b[0m\n\u001b[0;32m     39\u001b[0m \u001b[1;33m\u001b[0m\u001b[0m\n\u001b[0;32m     40\u001b[0m         \u001b[0mx_train\u001b[0m \u001b[1;33m=\u001b[0m \u001b[0mpd\u001b[0m\u001b[1;33m.\u001b[0m\u001b[0mconcat\u001b[0m\u001b[1;33m(\u001b[0m\u001b[1;33m[\u001b[0m\u001b[0mx0_train\u001b[0m\u001b[1;33m,\u001b[0m \u001b[0mx1_train\u001b[0m\u001b[1;33m]\u001b[0m\u001b[1;33m,\u001b[0m \u001b[0maxis\u001b[0m\u001b[1;33m=\u001b[0m\u001b[1;36m0\u001b[0m\u001b[1;33m,\u001b[0m \u001b[0mignore_index\u001b[0m\u001b[1;33m=\u001b[0m\u001b[0mTrue\u001b[0m\u001b[1;33m)\u001b[0m\u001b[1;33m\u001b[0m\u001b[0m\n\u001b[1;32m---> 41\u001b[1;33m \ty_train = pd.concat([pd.DataFrame(0,index=np.arange(x0_train.shape[0]),columns=y.columns),\\\n\u001b[0m\u001b[0;32m     42\u001b[0m \t\tpd.DataFrame(1,index=np.arange(x1_train.shape[0]),columns=y.columns)],axis=0,ignore_index=True)\n\u001b[0;32m     43\u001b[0m         \u001b[0mx_test\u001b[0m \u001b[1;33m=\u001b[0m \u001b[0mpd\u001b[0m\u001b[1;33m.\u001b[0m\u001b[0mconcat\u001b[0m\u001b[1;33m(\u001b[0m\u001b[1;33m[\u001b[0m\u001b[0mx0_test\u001b[0m\u001b[1;33m,\u001b[0m \u001b[0mx1_test\u001b[0m\u001b[1;33m]\u001b[0m\u001b[1;33m,\u001b[0m \u001b[0maxis\u001b[0m\u001b[1;33m=\u001b[0m\u001b[1;36m0\u001b[0m\u001b[1;33m,\u001b[0m \u001b[0mignore_index\u001b[0m\u001b[1;33m=\u001b[0m\u001b[0mTrue\u001b[0m\u001b[1;33m)\u001b[0m\u001b[1;33m\u001b[0m\u001b[0m\n",
      "\u001b[1;32m/usr/local/lib/python2.7/dist-packages/pandas/core/generic.pyc\u001b[0m in \u001b[0;36m__getattr__\u001b[1;34m(self, name)\u001b[0m\n\u001b[0;32m   2666\u001b[0m         if (name in self._internal_names_set or name in self._metadata or\n\u001b[0;32m   2667\u001b[0m                 name in self._accessors):\n\u001b[1;32m-> 2668\u001b[1;33m             \u001b[1;32mreturn\u001b[0m \u001b[0mobject\u001b[0m\u001b[1;33m.\u001b[0m\u001b[0m__getattribute__\u001b[0m\u001b[1;33m(\u001b[0m\u001b[0mself\u001b[0m\u001b[1;33m,\u001b[0m \u001b[0mname\u001b[0m\u001b[1;33m)\u001b[0m\u001b[1;33m\u001b[0m\u001b[0m\n\u001b[0m\u001b[0;32m   2669\u001b[0m         \u001b[1;32melse\u001b[0m\u001b[1;33m:\u001b[0m\u001b[1;33m\u001b[0m\u001b[0m\n\u001b[0;32m   2670\u001b[0m             \u001b[1;32mif\u001b[0m \u001b[0mname\u001b[0m \u001b[1;32min\u001b[0m \u001b[0mself\u001b[0m\u001b[1;33m.\u001b[0m\u001b[0m_info_axis\u001b[0m\u001b[1;33m:\u001b[0m\u001b[1;33m\u001b[0m\u001b[0m\n",
      "\u001b[1;31mAttributeError\u001b[0m: 'Series' object has no attribute 'columns'"
     ]
    }
   ],
   "source": [
    "# This code trains models to predict target assessments (PHQ-9, GAD-7) from semntaic location and reason data\n",
    "\n",
    "import pickle\n",
    "import pandas as pd\n",
    "import numpy as np\n",
    "import xgboost as xgb\n",
    "from calculate_confusion_matrix import calculate_confusion_matrix\n",
    "import time\n",
    "from crossvalidation import split_binary\n",
    "\n",
    "# from keras.models import Sequential\n",
    "# from keras.layers import Dense, Activation\n",
    "# model = Sequential()\n",
    "# model.add(Dense(32, input_dim=784))\n",
    "# model.add(Activation('relu'))\n",
    "\n",
    "save_results = False\n",
    "do_stratify = False\n",
    "\n",
    "n_bootstrap = 1\n",
    "\n",
    "with open('location_assessment.dat') as f:\n",
    "    data = pickle.load(f)\n",
    "f.close\n",
    "\n",
    "feature = data[['entropy 3','entropy 4','entropy 5','circadian 2','circadian 3','circadian 4',\\\n",
    "               'change']]\n",
    "\n",
    "# feature = data.drop(['PHQ9 W0','GAD7 W0','SPIN W0','PHQ9 W3','GAD7 W3','SPIN W3','PHQ9 W6','GAD7 W6','SPIN W6'],axis=1)\n",
    "\n",
    "feature = feature.astype(float)\n",
    "\n",
    "target = data['SPIN W6']\n",
    "\n",
    "# remove nans from target\n",
    "ind = np.where(np.array(pd.isnull(target)))[0]\n",
    "target = target.drop(ind)\n",
    "feature = feature.drop(ind, axis=0)\n",
    "target = target.reset_index(drop=True)\n",
    "feature = feature.reset_index(drop=True)\n",
    "\n",
    "# classification\n",
    "target.loc[target<19] = 0\n",
    "target.loc[target>=19] = 1\n",
    "\n",
    "confs = []\n",
    "aucs_train = np.zeros(n_bootstrap)\n",
    "aucs = np.zeros(n_bootstrap)\n",
    "labels = []\n",
    "\n",
    "y_pred = np.zeros(feature.shape[0])\n",
    "ind0 = np.where(target==0)[0]\n",
    "ind1 = np.where(target==1)[0]\n",
    "split0 = np.round(ind0.size*0.9)\n",
    "split1 = np.round(ind1.size*0.9)\n",
    "\n",
    "for i in range(n_bootstrap):\n",
    "    print '.',\n",
    "    \n",
    "#     # training set\n",
    "#     inds = np.arange(feature.shape[0])\n",
    "#     np.random.shuffle(inds)\n",
    "#     x_train = feature.loc[inds[:split],:]\n",
    "#     y_train = target.loc[inds[:split]]\n",
    "#     x_train = x_train.reset_index(drop=True)\n",
    "#     y_train = y_train.reset_index(drop=True)\n",
    "\n",
    "#     # test set\n",
    "#     x_test = feature.loc[inds[split:],:]\n",
    "#     y_test = target.loc[inds[split:]]\n",
    "#     x_test = x_test.reset_index(drop=True)\n",
    "#     y_test = y_test.reset_index(drop=True)\n",
    "\n",
    "    x_train, y_train, x_test, y_test = split_binary(feature, target, 0.9, oversample=True)\n",
    "\n",
    "    # train (layer 1)\n",
    "    #eta_list = np.array([0.05]*200+[0.02]*200+[0.01]*200)\n",
    "    gbm = xgb.XGBClassifier(max_depth=20, n_estimators=400, learning_rate=0.001, nthread=12, subsample=.1,\\\n",
    "                            colsample_bytree=np.sqrt(feature.shape[1])/float(feature.shape[1]),\\\n",
    "                            colsample_bylevel=1, max_delta_step=20, seed=0, objective='binary:logistic').fit(x_train, y_train)\n",
    "    # TODO: cgb.cv(///)\n",
    "    \n",
    "    # train performance\n",
    "    y_pred = gbm.predict(x_train)\n",
    "    conf, auc = calculate_confusion_matrix(y_pred, y_train)\n",
    "    aucs_train[i] = auc[0]\n",
    "\n",
    "    # test (layer 1)\n",
    "    y_pred = gbm.predict(x_test)\n",
    "    \n",
    "    # test performance\n",
    "    conf, auc = calculate_confusion_matrix(y_pred, y_test)\n",
    "    aucs[i] = auc[0]\n",
    "    confs.append(conf)\n",
    "    \n",
    "\n",
    "# conf, roc_auc = calculate_confusion_matrix(y_pred, np.array(target))\n",
    "\n",
    "print\n",
    "print 'Train AUC: {}'.format(np.nanmean(aucs_train))\n",
    "print 'Test AUC: {}'.format(np.nanmean(aucs))\n",
    "print auc\n",
    "print conf\n",
    "\n",
    "# saving the results\n",
    "if save_results:\n",
    "    with open('auc_location_sensor_fsq.dat','w') as f:\n",
    "        #pickle.dump([aucs, confs, labels, aucs_fsq, confs_fsq], f)\n",
    "        pickle.dump([aucs, confs, labels], f)\n",
    "    f.close()\n"
   ]
  },
  {
   "cell_type": "code",
   "execution_count": null,
   "metadata": {
    "collapsed": false
   },
   "outputs": [],
   "source": [
    "import matplotlib.pyplot as plt\n",
    "%matplotlib inline\n",
    "plt.hist(aucs, bins=50, range=(0,1))"
   ]
  },
  {
   "cell_type": "code",
   "execution_count": null,
   "metadata": {
    "collapsed": false
   },
   "outputs": [],
   "source": [
    "a = pd.DataFrame(0,index=np.arange(5),columns=['asd'])\n",
    "b = pd.DataFrame(0,index=np.arange(5),columns=['asd'])\n",
    "pd."
   ]
  }
 ],
 "metadata": {
  "kernelspec": {
   "display_name": "Python 2",
   "language": "python",
   "name": "python2"
  },
  "language_info": {
   "codemirror_mode": {
    "name": "ipython",
    "version": 2
   },
   "file_extension": ".py",
   "mimetype": "text/x-python",
   "name": "python",
   "nbconvert_exporter": "python",
   "pygments_lexer": "ipython2",
   "version": "2.7.6"
  }
 },
 "nbformat": 4,
 "nbformat_minor": 0
}
