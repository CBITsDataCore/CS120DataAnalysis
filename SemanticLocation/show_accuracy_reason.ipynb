{
 "cells": [
  {
   "cell_type": "code",
   "execution_count": 18,
   "metadata": {
    "collapsed": false
   },
   "outputs": [],
   "source": [
    "# read top reasons\n",
    "import pickle\n",
    "with open('top_reasons.dat') as f:\n",
    "    reason_top = pickle.load(f)\n",
    "f.close()"
   ]
  },
  {
   "cell_type": "code",
   "execution_count": 3,
   "metadata": {
    "collapsed": false
   },
   "outputs": [
    {
     "data": {
      "text/plain": [
       "['home',\n",
       " 'errand',\n",
       " 'dining',\n",
       " 'socialize',\n",
       " 'work',\n",
       " 'entertainment',\n",
       " 'travelling / traffic',\n",
       " 'dining, socialize',\n",
       " 'socialize, dining',\n",
       " 'exercise',\n",
       " 'shopping',\n",
       " 'socialize, entertainment']"
      ]
     },
     "execution_count": 3,
     "metadata": {},
     "output_type": "execute_result"
    }
   ],
   "source": [
    "reason_top"
   ]
  },
  {
   "cell_type": "code",
   "execution_count": 19,
   "metadata": {
    "collapsed": false,
    "scrolled": false
   },
   "outputs": [],
   "source": [
    "# reading model trained on sensor only\n",
    "file = 'auc_reason_sensor.dat'\n",
    "\n",
    "import numpy as np\n",
    "\n",
    "with open(file) as f:\n",
    "    aucs, confs, labels = pickle.load(f)\n",
    "f.close()\n",
    "    \n",
    "auc_top10 = list(np.array([]) for ii in range(len(reason_top)))\n",
    "for (k,lab) in enumerate(labels):\n",
    "    for (j,reason) in enumerate(reason_top):\n",
    "        if reason in lab:\n",
    "            ind = np.where(lab==reason)[0]\n",
    "            auc_top10[j] = np.append(auc_top10[j], aucs[k][ind])\n",
    "\n",
    "auc_mean_sensor = np.array([])\n",
    "auc_ci_sensor = np.array([])\n",
    "for (j, a) in enumerate(auc_top10):\n",
    "    auc_mean_sensor = np.append(auc_mean_sensor, np.nanmean(a))\n",
    "    auc_ci_sensor = np.append(auc_ci_sensor, 2*np.nanstd(a)/np.sqrt(208))\n"
   ]
  },
  {
   "cell_type": "code",
   "execution_count": 22,
   "metadata": {
    "collapsed": false
   },
   "outputs": [
    {
     "name": "stdout",
     "output_type": "stream",
     "text": [
      "0.69386992947\n"
     ]
    }
   ],
   "source": [
    "print np.nanmean(auc_mean_sensor)"
   ]
  },
  {
   "cell_type": "code",
   "execution_count": 9,
   "metadata": {
    "collapsed": false
   },
   "outputs": [],
   "source": [
    "# reading model trained on both sensor and foursquare data\n",
    "\n",
    "file = 'accuracy_new600_3_depth6_fsq2_distance2_longterm_vareta.dat'\n",
    "\n",
    "with open(file) as f:\n",
    "    aucs, confs, labels, aucs_fsq, confs_fsq = pickle.load(f)\n",
    "f.close()\n",
    "for (j,lab) in enumerate(labels):\n",
    "    for (k,l) in enumerate(lab):\n",
    "        labels[j][k] = l.replace('\"','')\n",
    "    \n",
    "auc_top10 = list(np.array([]) for ii in range(len(state_top10)))\n",
    "auc_top10_fsq = list(np.array([]) for ii in range(len(state_top10)))\n",
    "conf_top10 = list([np.array([]) for iii in range(len(state_top10))] for ii in range(len(state_top10)))\n",
    "conf_top10_fsq = list([np.array([]) for iii in range(len(state_top10))] for ii in range(len(state_top10)))\n",
    "for (k,lab) in enumerate(labels):\n",
    "    for (j,state) in enumerate(state_top10):\n",
    "        if state in lab:\n",
    "            ind = np.where(lab==state)[0]\n",
    "            auc_top10[j] = np.append(auc_top10[j], aucs[k][ind])\n",
    "            auc_top10_fsq[j] = np.append(auc_top10_fsq[j], aucs_fsq[k][ind])\n",
    "            for (j2,state2) in enumerate(state_top10):\n",
    "                if state2 in lab:\n",
    "                    ind2 = np.where(lab==state2)[0]\n",
    "                    conf_top10[j][j2] = np.append(conf_top10[j][j2], confs[k][ind,ind2])\n",
    "                    conf_top10_fsq[j][j2] = np.append(conf_top10_fsq[j][j2], confs_fsq[k][ind,ind2])\n",
    "\n",
    "auc_mean_all = np.array([])\n",
    "auc_ci_all = np.array([])\n",
    "for (j, a) in enumerate(auc_top10):\n",
    "    auc_mean_all = np.append(auc_mean_all, np.nanmean(a))\n",
    "    auc_ci_all = np.append(auc_ci_all, 2*np.nanstd(a)/np.sqrt(208))\n",
    "\n",
    "auc_mean_fsq = np.array([])\n",
    "auc_ci_fsq = np.array([])\n",
    "for (i,a) in enumerate(auc_top10_fsq):\n",
    "    auc_mean_fsq = np.append(auc_mean_fsq, np.nanmean(a))\n",
    "    auc_ci_fsq = np.append(auc_ci_fsq, 2*np.nanstd(a)/np.sqrt(208))"
   ]
  },
  {
   "cell_type": "code",
   "execution_count": 11,
   "metadata": {
    "collapsed": false
   },
   "outputs": [
    {
     "name": "stdout",
     "output_type": "stream",
     "text": [
      "[ 0.89341973  0.75603689  0.70688502  0.69626161  0.73892816  0.77341525\n",
      "  0.49593496         nan  0.49849398         nan]\n"
     ]
    },
    {
     "data": {
      "image/png": "[encoded data removed]",
      "text/plain": [
       "<matplotlib.figure.Figure at 0x7f5418f88090>"
      ]
     },
     "metadata": {},
     "output_type": "display_data"
    }
   ],
   "source": [
    "import matplotlib.pyplot as plt\n",
    "%matplotlib inline\n",
    "plt.figure(figsize=(15,8))\n",
    "w = 1/5.0\n",
    "# plt.bar(np.arange(0,10,1), auc_mean_fsq, w, yerr=auc_ci_fsq, align='center',\\\n",
    "#          color=(.7,.7,.7), alpha=0.9, ecolor=(0,0,0))\n",
    "plt.bar(np.arange(w,10+w,1), auc_mean_sensor, w, yerr=auc_ci_sensor, align='center', \\\n",
    "         color=(1,.5,.5), alpha=0.9, ecolor=(0,0,0))\n",
    "# plt.bar(np.arange(2*w,10+2*w,1), auc_mean_all, w, yerr=auc_ci_all, align='center', \\\n",
    "#          color=(.3,.7,.3), alpha=0.9, ecolor=(0,0,0))\n",
    "# plt.legend(['foursquare','sensor','sensor+foursquare'], loc='upper center')\n",
    "plt.ylabel('AUC',fontsize=15,color=(0,0,0))\n",
    "axes = plt.gca()\n",
    "axes.set_xlim([-1, len(state_top10)])\n",
    "axes.set_ylim([0.4, 1])\n",
    "axes.yaxis.grid();\n",
    "plt.xticks(np.arange(.2,10.2,1), state_top10, fontsize=15, color=(0,0,0), rotation=90, ha='right');\n",
    "# plt.yticks(np.arange(.4,1,.05), np.arange(.4,1,.05), fontsize=12, color=(0,0,0));\n",
    "print auc_mean_sensor\n",
    "# print np.nanmean(auc_mean_fsq)\n",
    "# print np.mean(auc_mean_all)\n"
   ]
  },
  {
   "cell_type": "code",
   "execution_count": null,
   "metadata": {
    "collapsed": false
   },
   "outputs": [],
   "source": [
    "conf = np.zeros([10,10])\n",
    "for (i,c_row) in enumerate(conf_top10):\n",
    "    for (j,c) in enumerate(c_row):\n",
    "        conf[i,j] = np.sum(conf_top10[i][j])\n",
    "cm_normalized = conf.astype('float') / conf.sum(axis=1)[:, np.newaxis]\n",
    "plot_confusion_matrix(cm_normalized, state_top10, title='confusion matrix - sensor+fousquare')"
   ]
  },
  {
   "cell_type": "code",
   "execution_count": null,
   "metadata": {
    "collapsed": false
   },
   "outputs": [],
   "source": [
    "conf = np.zeros([10,10])\n",
    "for (i,c_row) in enumerate(conf_top10_fsq):\n",
    "    for (j,c) in enumerate(c_row):\n",
    "        conf[i,j] = np.sum(conf_top10_fsq[i][j])\n",
    "cm_normalized = conf.astype('float') / conf.sum(axis=1)[:, np.newaxis]\n",
    "plot_confusion_matrix(cm_normalized, state_top10, title='confurion matrix: foursquare')\n",
    "print cm_normalized[3,:]"
   ]
  },
  {
   "cell_type": "code",
   "execution_count": null,
   "metadata": {
    "collapsed": false
   },
   "outputs": [],
   "source": [
    "np.random.random(10)"
   ]
  }
 ],
 "metadata": {
  "kernelspec": {
   "display_name": "Python 2",
   "language": "python",
   "name": "python2"
  },
  "language_info": {
   "codemirror_mode": {
    "name": "ipython",
    "version": 2
   },
   "file_extension": ".py",
   "mimetype": "text/x-python",
   "name": "python",
   "nbconvert_exporter": "python",
   "pygments_lexer": "ipython2",
   "version": "2.7.6"
  }
 },
 "nbformat": 4,
 "nbformat_minor": 0
}
