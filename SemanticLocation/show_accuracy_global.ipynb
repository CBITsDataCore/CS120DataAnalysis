{
 "cells": [
  {
   "cell_type": "code",
   "execution_count": 1,
   "metadata": {
    "collapsed": true
   },
   "outputs": [],
   "source": [
    "# read top 10 states\n",
    "\n",
    "import pickle\n",
    "import numpy as np\n",
    "\n",
    "with open('top_locations.dat') as f:\n",
    "# with open('top10reason.dat') as f:\n",
    "    state_top10 = pickle.load(f)\n",
    "f.close()\n",
    "# for (i,s) in enumerate(state_top10):\n",
    "#     state_top10[i] = s.replace('\"','')"
   ]
  },
  {
   "cell_type": "code",
   "execution_count": 24,
   "metadata": {
    "collapsed": false
   },
   "outputs": [],
   "source": [
    "# foursquare\n",
    "\n",
    "file = 'auc_location_new_10fold_fsq2.dat'\n",
    "\n",
    "with open(file) as f:\n",
    "    aucs, confs, labels = pickle.load(f)\n",
    "f.close()\n",
    "    \n",
    "auc_top10 = list(np.array([]) for ii in range(len(state_top10)))\n",
    "for (k,lab) in enumerate(labels):\n",
    "    for (j,state) in enumerate(state_top10):\n",
    "        if state in lab:\n",
    "            ind = np.where(lab==state)[0]\n",
    "            auc_top10[j] = np.append(auc_top10[j], aucs[k][ind])\n",
    "\n",
    "auc_mean_fsq = np.array([])\n",
    "auc_ci_fsq = np.array([])\n",
    "auc_std_fsq = np.array([])\n",
    "auc_all = np.array([])\n",
    "for (j, a) in enumerate(auc_top10):\n",
    "    auc_mean_fsq = np.append(auc_mean_fsq, np.nanmean(a))\n",
    "    auc_ci_fsq = np.append(auc_ci_fsq, 2*np.nanstd(a)/np.sqrt(len(labels)))\n",
    "    auc_std_fsq = np.append(auc_std_fsq, np.nanstd(a))\n",
    "    auc_all = np.append(auc_all, a, axis=0)\n",
    "\n",
    "aucall_mean_fsq = np.nanmean(auc_all)\n",
    "aucall_ci_fsq = 2*np.nanstd(auc_all)/np.sqrt(len(labels))"
   ]
  },
  {
   "cell_type": "code",
   "execution_count": 22,
   "metadata": {
    "collapsed": false
   },
   "outputs": [],
   "source": [
    "# sensor only\n",
    "\n",
    "#files = ['accuracy.dat','accuracy_new300.dat','accuracy_new300_2.dat','accuracy_new300_3.dat','accuracy_new300_3_stratified.dat']\n",
    "#files = ['accuracy_new100_3_depth6.dat','accuracy_new100_3_depth6_fsq2_distance.dat']\n",
    "#files = ['accuracy_new100_3_depth6_fsq2.dat','accuracy_new100_3_depth6_fsq2_distance.dat']\n",
    "\n",
    "#file = 'accuracy_new300_3.dat' # location prediction\n",
    "# file = 'accuracy_reason_100_d3.dat' # reason prediction\n",
    "file = 'auc_location_new_10fold_sensor2.dat'\n",
    "\n",
    "with open(file) as f:\n",
    "    aucs, confs, labels = pickle.load(f)\n",
    "f.close()\n",
    "# for (j,lab) in enumerate(labels):\n",
    "#     for (k,l) in enumerate(lab):\n",
    "#         labels[j][k] = l.replace('\"','')\n",
    "    \n",
    "auc_top10 = list(np.array([]) for ii in range(len(state_top10)))\n",
    "for (k,lab) in enumerate(labels):\n",
    "    for (j,state) in enumerate(state_top10):\n",
    "        if state in lab:\n",
    "            ind = np.where(lab==state)[0]\n",
    "            auc_top10[j] = np.append(auc_top10[j], aucs[k][ind])\n",
    "\n",
    "auc_mean_sensor = np.array([])\n",
    "auc_ci_sensor = np.array([])\n",
    "auc_std_sensor = np.array([])\n",
    "auc_all = np.array([])\n",
    "for (j, a) in enumerate(auc_top10):\n",
    "    auc_mean_sensor = np.append(auc_mean_sensor, np.nanmean(a))\n",
    "    auc_ci_sensor = np.append(auc_ci_sensor, 2*np.nanstd(a)/np.sqrt(len(labels)))\n",
    "    auc_std_sensor = np.append(auc_std_sensor, np.nanstd(a))\n",
    "    auc_all = np.append(auc_all, a, axis=0)\n",
    "\n",
    "aucall_mean_sensor = np.nanmean(auc_all)\n",
    "aucall_ci_sensor = 2*np.nanstd(auc_all)/np.sqrt(len(labels))"
   ]
  },
  {
   "cell_type": "code",
   "execution_count": 17,
   "metadata": {
    "collapsed": false
   },
   "outputs": [],
   "source": [
    "# sensor + foursquare \n",
    "\n",
    "file = 'auc_location_new_10fold3.dat'\n",
    "\n",
    "with open(file) as f:\n",
    "    aucs, confs, labels = pickle.load(f)\n",
    "f.close()\n",
    "\n",
    "auc_top10 = list(np.array([]) for ii in range(len(state_top10)))\n",
    "conf_top10 = list([np.array([]) for iii in range(len(state_top10))] for ii in range(len(state_top10)))\n",
    "for (k,lab) in enumerate(labels):\n",
    "    for (j,state) in enumerate(state_top10):\n",
    "        if state in lab:\n",
    "            ind = np.where(lab==state)[0]\n",
    "            auc_top10[j] = np.append(auc_top10[j], aucs[k][ind])\n",
    "            for (j2,state2) in enumerate(state_top10):\n",
    "                if state2 in lab:\n",
    "                    ind2 = np.where(lab==state2)[0]\n",
    "                    conf_top10[j][j2] = np.append(conf_top10[j][j2], confs[k][ind,ind2])\n",
    "\n",
    "auc_mean_all = np.array([])\n",
    "auc_ci_all = np.array([])\n",
    "auc_std_all = np.array([])\n",
    "auc_all = np.array([])\n",
    "for (j, a) in enumerate(auc_top10):\n",
    "    auc_mean_all = np.append(auc_mean_all, np.nanmean(a))\n",
    "    auc_ci_all = np.append(auc_ci_all, 2*np.nanstd(a)/np.sqrt(len(labels)))\n",
    "    auc_std_all = np.append(auc_std_all, np.nanstd(a))\n",
    "    auc_all = np.append(auc_all, a, axis=0)\n",
    "\n",
    "aucall_mean_all = np.nanmean(auc_all)\n",
    "aucall_ci_all = 2*np.nanstd(auc_all)/np.sqrt(len(labels))"
   ]
  },
  {
   "cell_type": "code",
   "execution_count": null,
   "metadata": {
    "collapsed": false,
    "scrolled": false
   },
   "outputs": [],
   "source": [
    "import matplotlib.pyplot as plt\n",
    "%matplotlib inline\n",
    "plt.figure(figsize=(15,8))\n",
    "w = 1/5.0\n",
    "plt.bar(np.arange(0,state_top10.size,1), auc_mean_fsq, yerr=auc_ci_fsq, width=w, align='center',\\\n",
    "         color=(.6,.6,.6), alpha=0.7, ecolor=(0,0,0))\n",
    "plt.bar(np.arange(w,state_top10.size+w,1), auc_mean_sensor, yerr=auc_ci_sensor, width=w, align='center', \\\n",
    "         color=(1,.4,.4), alpha=0.7, ecolor=(0,0,0))\n",
    "plt.bar(np.arange(2*w,state_top10.size+2*w,1), auc_mean_all, yerr=auc_ci_all, width=w, align='center', \\\n",
    "         color=(.4,.4,1), alpha=0.7, ecolor=(0,0,0))\n",
    "plt.legend(['foursquare (mean: {:.3f})'.format(np.nanmean(auc_mean_fsq)),\\\n",
    "            'sensor (mean: {:.3f})'.format(np.nanmean(auc_mean_sensor)),\\\n",
    "            'sensor+foursquare (mean: {:.3f})'.format(np.nanmean(auc_mean_all))], loc='lower center', fontsize=15)\n",
    "plt.ylabel('Area Under the Curve (AUC)',fontsize=15,color=(0,0,0))\n",
    "# removing extra words\n",
    "xlabel = state_top10\n",
    "for (i,xl) in enumerate(xlabel):\n",
    "    label_broken = xl.split('(')\n",
    "    xlabel[i] = label_broken[0]\n",
    "    if len(label_broken)>1:\n",
    "        xlabel[i] = xlabel[i][:-1]\n",
    "plt.xticks(np.arange(w,state_top10.size+w,1), xlabel, fontsize=15, color=(0,0,0), rotation=90, ha='center');\n",
    "plt.yticks(np.arange(0,1,.05), np.arange(0,1,.05), fontsize=12, color=(0,0,0))\n",
    "axes = plt.gca()\n",
    "axes.set_xlim([-1, len(state_top10)])\n",
    "axes.set_ylim([0, 1])\n",
    "axes.yaxis.grid()\n",
    "\n",
    "print auc_mean_all\n",
    "# print np.nanmean(auc_mean_sensor)\n",
    "# print np.nanmean(auc_mean_all)\n"
   ]
  },
  {
   "cell_type": "code",
   "execution_count": null,
   "metadata": {
    "collapsed": false
   },
   "outputs": [],
   "source": [
    "auc_ci_fsq"
   ]
  },
  {
   "cell_type": "code",
   "execution_count": null,
   "metadata": {
    "collapsed": false
   },
   "outputs": [],
   "source": [
    "conf = np.zeros([10,10])\n",
    "for (i,c_row) in enumerate(conf_top10):\n",
    "    for (j,c) in enumerate(c_row):\n",
    "        conf[i,j] = np.sum(conf_top10[i][j])\n",
    "cm_normalized = conf.astype('float') / conf.sum(axis=1)[:, np.newaxis]\n",
    "plot_confusion_matrix(cm_normalized, state_top10, title='confusion matrix - sensor+fousquare')"
   ]
  },
  {
   "cell_type": "code",
   "execution_count": null,
   "metadata": {
    "collapsed": false
   },
   "outputs": [],
   "source": [
    "conf = np.zeros([10,10])\n",
    "for (i,c_row) in enumerate(conf_top10_fsq):\n",
    "    for (j,c) in enumerate(c_row):\n",
    "        conf[i,j] = np.sum(conf_top10_fsq[i][j])\n",
    "cm_normalized = conf.astype('float') / conf.sum(axis=1)[:, np.newaxis]\n",
    "plot_confusion_matrix(cm_normalized, state_top10, title='confurion matrix: foursquare')\n",
    "print cm_normalized[3,:]"
   ]
  },
  {
   "cell_type": "code",
   "execution_count": null,
   "metadata": {
    "collapsed": false
   },
   "outputs": [],
   "source": [
    "np.random.random(10)"
   ]
  }
 ],
 "metadata": {
  "kernelspec": {
   "display_name": "Python 2",
   "language": "python",
   "name": "python2"
  },
  "language_info": {
   "codemirror_mode": {
    "name": "ipython",
    "version": 2
   },
   "file_extension": ".py",
   "mimetype": "text/x-python",
   "name": "python",
   "nbconvert_exporter": "python",
   "pygments_lexer": "ipython2",
   "version": "2.7.6"
  }
 },
 "nbformat": 4,
 "nbformat_minor": 0
}
