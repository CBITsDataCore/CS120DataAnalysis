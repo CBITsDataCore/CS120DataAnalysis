{
 "cells": [
  {
   "cell_type": "code",
   "execution_count": 4,
   "metadata": {
    "collapsed": true
   },
   "outputs": [],
   "source": [
    "# extract top locations and reasons from feature files\n",
    "\n",
    "def get_top(xs, n):\n",
    "    \n",
    "    x_all = [x_ for x in xs for x_ in x]\n",
    "    x_uniq = list(set(x_all))\n",
    "    \n",
    "    freq = []\n",
    "    for i in range(len(x_uniq)):\n",
    "        freq.append(0)\n",
    "        for j in range(len(xs)):\n",
    "            if x_uniq[i] in xs[j]:\n",
    "                freq[i] += 1\n",
    "\n",
    "    ind_sort = sorted(range(len(freq)), key=lambda k: freq[k], reverse=True)\n",
    "    freq_sorted = [freq[i] for i in ind_sort]\n",
    "    x_uniq_sorted = [x_uniq[i] for i in ind_sort]\n",
    "\n",
    "    freq_top = freq_sorted[:n]\n",
    "    x_top = x_uniq_sorted[:n]\n",
    "\n",
    "    return x_top, freq_top"
   ]
  },
  {
   "cell_type": "code",
   "execution_count": 5,
   "metadata": {
    "collapsed": false,
    "scrolled": true
   },
   "outputs": [],
   "source": [
    "# extract top locations\n",
    "import os\n",
    "import pickle\n",
    "\n",
    "# TODO: deep dish instead of pickle\n",
    "\n",
    "data_dir = 'features_breakloc/'\n",
    "files = os.listdir(data_dir)\n",
    "\n",
    "reasons = []\n",
    "locations = []\n",
    "for (i,filename) in enumerate(files):\n",
    "#     print i,\n",
    "    with open(data_dir+filename) as f:\n",
    "        feature, target = pickle.load(f)\n",
    "    f.close()\n",
    "\n",
    "    reasons.append(list(target['reason']))\n",
    "    locations.append(list(target['location']))\n",
    "    \n",
    "loc_top, loc_freq = get_top(locations, 10)\n",
    "reason_top, reason_freq = get_top(reasons, 10)\n",
    "\n",
    "with open('top_locations.dat', 'w') as f:\n",
    "    pickle.dump(loc_top, f)\n",
    "f.close()\n",
    "with open('top_reasons.dat', 'w') as f:\n",
    "    pickle.dump(reason_top, f)\n",
    "f.close()"
   ]
  },
  {
   "cell_type": "code",
   "execution_count": 3,
   "metadata": {
    "collapsed": false
   },
   "outputs": [],
   "source": [
    "for i in range(0):\n",
    "    print i"
   ]
  },
  {
   "cell_type": "code",
   "execution_count": 6,
   "metadata": {
    "collapsed": false,
    "scrolled": true
   },
   "outputs": [
    {
     "name": "stdout",
     "output_type": "stream",
     "text": [
      "['Home', 'Shop or Store', 'Food (Restaurant, Cafe)', \"Another's Home\", 'Professional or Medical Office', 'Work', 'Arts & Entertainment (Theater, Music Venue, Etc.)', 'Outdoors & Recreation', 'Nightlife Spot (Bar, Club)', 'Vehicle']\n",
      "[200, 197, 185, 162, 137, 126, 92, 87, 66, 56]\n",
      "['home', 'errand', 'dining', 'socialize', 'work', 'entertainment', 'dining,socialize', 'travelling / traffic', 'exercise', 'entertainment,socialize']\n",
      "[191, 187, 170, 157, 133, 92, 78, 67, 49, 41]\n"
     ]
    }
   ],
   "source": [
    "print loc_top\n",
    "print loc_freq\n",
    "print reason_top\n",
    "print reason_freq"
   ]
  },
  {
   "cell_type": "code",
   "execution_count": 4,
   "metadata": {
    "collapsed": false
   },
   "outputs": [
    {
     "name": "stdout",
     "output_type": "stream",
     "text": [
      "['dining', 'socialize']\n"
     ]
    }
   ],
   "source": [
    "print sorted(['socialize','dining'])"
   ]
  }
 ],
 "metadata": {
  "kernelspec": {
   "display_name": "Python 2",
   "language": "python",
   "name": "python2"
  },
  "language_info": {
   "codemirror_mode": {
    "name": "ipython",
    "version": 2
   },
   "file_extension": ".py",
   "mimetype": "text/x-python",
   "name": "python",
   "nbconvert_exporter": "python",
   "pygments_lexer": "ipython2",
   "version": "2.7.6"
  }
 },
 "nbformat": 4,
 "nbformat_minor": 0
}
