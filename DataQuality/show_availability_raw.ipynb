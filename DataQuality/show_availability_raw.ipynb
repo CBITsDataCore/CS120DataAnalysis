{
 "cells": [
  {
   "cell_type": "code",
   "execution_count": 37,
   "metadata": {
    "collapsed": false
   },
   "outputs": [
    {
     "name": "stdout",
     "output_type": "stream",
     "text": [
      "7916ea0044fb781a22f0582cf1104ad7 act.csv\n",
      "7916ea0044fb781a22f0582cf1104ad7 aud.csv\n",
      "7916ea0044fb781a22f0582cf1104ad7 bat.csv\n",
      "7916ea0044fb781a22f0582cf1104ad7 cal.csv\n",
      "7916ea0044fb781a22f0582cf1104ad7 emm.csv\n",
      "7916ea0044fb781a22f0582cf1104ad7 ems.csv\n",
      "7916ea0044fb781a22f0582cf1104ad7 fus.csv\n",
      "7916ea0044fb781a22f0582cf1104ad7 lgt.csv\n",
      "7916ea0044fb781a22f0582cf1104ad7 scr.csv\n",
      "7916ea0044fb781a22f0582cf1104ad7 wif.csv\n",
      "a757227b012fcb57b5a422e0ca13dc5d act.csv\n",
      "a757227b012fcb57b5a422e0ca13dc5d app.csv\n",
      "a757227b012fcb57b5a422e0ca13dc5d aud.csv\n",
      "a757227b012fcb57b5a422e0ca13dc5d bat.csv\n",
      "a757227b012fcb57b5a422e0ca13dc5d cal.csv\n",
      "a757227b012fcb57b5a422e0ca13dc5d coe.csv\n",
      "a757227b012fcb57b5a422e0ca13dc5d emc.csv\n",
      "a757227b012fcb57b5a422e0ca13dc5d eml.csv\n",
      "a757227b012fcb57b5a422e0ca13dc5d emm.csv\n",
      "a757227b012fcb57b5a422e0ca13dc5d ems.csv\n",
      "a757227b012fcb57b5a422e0ca13dc5d fus.csv\n",
      "a757227b012fcb57b5a422e0ca13dc5d lgt.csv\n",
      "a757227b012fcb57b5a422e0ca13dc5d run.csv\n",
      "a757227b012fcb57b5a422e0ca13dc5d scr.csv\n",
      "a757227b012fcb57b5a422e0ca13dc5d tch.csv\n",
      "a757227b012fcb57b5a422e0ca13dc5d wif.csv\n",
      "e8f94f24be6c9aab576783a99ca70b52 act.csv\n",
      "e8f94f24be6c9aab576783a99ca70b52 app.csv\n",
      "e8f94f24be6c9aab576783a99ca70b52 aud.csv\n",
      "e8f94f24be6c9aab576783a99ca70b52 bat.csv\n",
      "e8f94f24be6c9aab576783a99ca70b52 cal.csv\n",
      "e8f94f24be6c9aab576783a99ca70b52 fus.csv\n",
      "e8f94f24be6c9aab576783a99ca70b52 lgt.csv\n",
      "e8f94f24be6c9aab576783a99ca70b52 run.csv\n",
      "e8f94f24be6c9aab576783a99ca70b52 scr.csv\n",
      "e8f94f24be6c9aab576783a99ca70b52 tch.csv\n",
      "e8f94f24be6c9aab576783a99ca70b52 wif.csv\n"
     ]
    }
   ],
   "source": [
    "# This code shows the availability of the raw (unmerged) CS120 data\n",
    "\n",
    "import os\n",
    "import pandas as pd\n",
    "import numpy as np\n",
    "from copy import deepcopy\n",
    "\n",
    "data_dir = '/mnt/c/Data/'\n",
    "\n",
    "folders = os.listdir(data_dir)\n",
    "\n",
    "tmin = np.inf\n",
    "tmax = 0\n",
    "\n",
    "for folder in folders:\n",
    "    subject_dir = data_dir+folder+'/'\n",
    "    files = os.listdir(subject_dir)\n",
    "    for f in files:\n",
    "        data = pd.read_csv(subject_dir+f, sep='\\t', header=None)\n",
    "        ts = float(data.loc[0,0])\n",
    "        te = float(data.loc[data.shape[0]-1,0])\n",
    "        if te>1459468800.0:\n",
    "            print folder, f\n",
    "        if ts<tmin:\n",
    "            tmin = ts\n",
    "        if te>tmax:\n",
    "            tmax = te"
   ]
  },
  {
   "cell_type": "code",
   "execution_count": 35,
   "metadata": {
    "collapsed": false
   },
   "outputs": [
    {
     "name": "stdout",
     "output_type": "stream",
     "text": [
      "1446008400.0\n",
      "1479791617.0\n"
     ]
    }
   ],
   "source": [
    "print tmin\n",
    "print tmax"
   ]
  },
  {
   "cell_type": "code",
   "execution_count": 33,
   "metadata": {
    "collapsed": false
   },
   "outputs": [
    {
     "data": {
      "text/plain": [
       "123123"
      ]
     },
     "execution_count": 33,
     "metadata": {},
     "output_type": "execute_result"
    }
   ],
   "source": [
    "int(float('123123.0'))"
   ]
  }
 ],
 "metadata": {
  "anaconda-cloud": {},
  "kernelspec": {
   "display_name": "Python [default]",
   "language": "python",
   "name": "python2"
  },
  "language_info": {
   "codemirror_mode": {
    "name": "ipython",
    "version": 2
   },
   "file_extension": ".py",
   "mimetype": "text/x-python",
   "name": "python",
   "nbconvert_exporter": "python",
   "pygments_lexer": "ipython2",
   "version": "2.7.12"
  }
 },
 "nbformat": 4,
 "nbformat_minor": 1
}
